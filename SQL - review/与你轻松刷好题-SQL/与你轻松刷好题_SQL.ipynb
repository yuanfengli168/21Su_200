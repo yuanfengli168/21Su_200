{
 "cells": [
  {
   "cell_type": "markdown",
   "source": [
    "# SQL:\r\n",
    "\r\n",
    "Yuanfeng Li \r\n",
    "2021/07/22\r\n",
    "\r\n",
    "### Review support materials:\r\n",
    "- [sql 复习汇总](https://zhuanlan.zhihu.com/p/43810990)\r\n",
    "- [Leetcode Database 全部练习题及题解](https://zhuanlan.zhihu.com/p/265247944)"
   ],
   "metadata": {}
  },
  {
   "cell_type": "code",
   "execution_count": null,
   "source": [
    "# 175, combine two tables:\r\n",
    "# My Answer is wrong, because I did not understand 'regardless if there is an address for each of those people'\r\n",
    "# Correct Answer: \r\n",
    "\r\n",
    "# Write your MySQL query statement below\r\n",
    "SELECT P.FirstName, P.LastName, A.City, A.State\r\n",
    "FROM Person as P LEFT JOIN Address as A\r\n",
    "ON P.PersonId = A.PersonId;"
   ],
   "outputs": [],
   "metadata": {}
  },
  {
   "cell_type": "code",
   "execution_count": null,
   "source": [
    "# 176:\r\n",
    "\r\n",
    "# Leetcode answer:\r\n",
    "SELECT\r\n",
    " (SELECT DISTINCT Salary\r\n",
    "  FROM Employee\r\n",
    "  ORDER BY Salary DESC\r\n",
    "  LIMIT 1 OFFSET 1) \r\n",
    "AS SecondHighestSalary;\r\n",
    "\r\n",
    "# my version 1 year ago\r\n",
    "# Write your MySQL query statement below\r\n",
    "SELECT IFNULL(\r\n",
    "    (SELECT DISTINCT Salary \r\n",
    "    FROM Employee \r\n",
    "    ORDER BY Salary DESC\r\n",
    "    LIMIT 1 OFFSET 1), NULL\r\n",
    ") AS SecondHighestSalary;\r\n",
    "\r\n",
    "\r\n",
    "# my current version is not right, \r\n",
    "# I forget that limit 1 offset 1\r\n",
    "SELECT DISTINCT Salary AS SecondHighestSalary\r\n",
    "  FROM Employee\r\n",
    "  ORDER BY Salary DESC\r\n",
    "  LIMIT 1 OFFSET 1\r\n",
    "# this one will not return null, it will return an empty \r\n"
   ],
   "outputs": [],
   "metadata": {}
  },
  {
   "cell_type": "code",
   "execution_count": null,
   "source": [
    "# 177\r\n",
    "# tutorial url: https://www.mysqltutorial.org/mysql-limit.aspx\r\n",
    "\r\n",
    "CREATE FUNCTION getNthHighestSalary(N INT) RETURNS INT\r\n",
    "BEGIN\r\n",
    "    DECLARE temp INTEGER;\r\n",
    "    SET temp = N-1;\r\n",
    "  RETURN (\r\n",
    "      # Write your MySQL query statement below.\r\n",
    "      SELECT IFNULL(\r\n",
    "          (SELECT DISTINCT Salary \r\n",
    "           FROM Employee \r\n",
    "           ORDER BY Salary DESC \r\n",
    "           LIMIT temp,1), \r\n",
    "          NULL)\r\n",
    "  );\r\n",
    "END"
   ],
   "outputs": [],
   "metadata": {}
  },
  {
   "cell_type": "code",
   "execution_count": null,
   "source": [
    "# 1241. Number of Comments per post\r\n",
    "\r\n"
   ],
   "outputs": [],
   "metadata": {}
  }
 ],
 "metadata": {
  "orig_nbformat": 4,
  "language_info": {
   "name": "python"
  }
 },
 "nbformat": 4,
 "nbformat_minor": 2
}