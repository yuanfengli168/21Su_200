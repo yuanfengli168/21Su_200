{
 "cells": [
  {
   "cell_type": "markdown",
   "source": [
    "# SQL:\r\n",
    "\r\n",
    "Yuanfeng Li \r\n",
    "2021/07/22"
   ],
   "metadata": {}
  },
  {
   "cell_type": "code",
   "execution_count": null,
   "source": [],
   "outputs": [],
   "metadata": {}
  }
 ],
 "metadata": {
  "orig_nbformat": 4,
  "language_info": {
   "name": "python"
  }
 },
 "nbformat": 4,
 "nbformat_minor": 2
}