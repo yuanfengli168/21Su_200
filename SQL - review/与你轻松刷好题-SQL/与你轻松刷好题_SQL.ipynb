{
 "cells": [
  {
   "cell_type": "markdown",
   "source": [
    "# SQL:\r\n",
    "\r\n",
    "Yuanfeng Li \r\n",
    "2021/07/22\r\n",
    "\r\n",
    "### Review support materials:\r\n",
    "- [sql 复习汇总](https://zhuanlan.zhihu.com/p/43810990)\r\n",
    "- [Leetcode Database 全部练习题及题解](https://zhuanlan.zhihu.com/p/265247944)"
   ],
   "metadata": {}
  },
  {
   "cell_type": "code",
   "execution_count": null,
   "source": [
    "# 175, combine two tables:\r\n",
    "# My Answer is wrong, because I did not understand 'regardless if there is an address for each of those people'\r\n",
    "# Correct Answer: \r\n",
    "\r\n",
    "# Write your MySQL query statement below\r\n",
    "SELECT P.FirstName, P.LastName, A.City, A.State\r\n",
    "FROM Person as P LEFT JOIN Address as A\r\n",
    "ON P.PersonId = A.PersonId;"
   ],
   "outputs": [],
   "metadata": {}
  },
  {
   "cell_type": "code",
   "execution_count": null,
   "source": [
    "# 176:\r\n",
    "\r\n",
    "# Leetcode answer:\r\n",
    "SELECT\r\n",
    " (SELECT DISTINCT Salary\r\n",
    "  FROM Employee\r\n",
    "  ORDER BY Salary DESC\r\n",
    "  LIMIT 1 OFFSET 1) \r\n",
    "AS SecondHighestSalary;\r\n",
    "\r\n",
    "# my version 1 year ago\r\n",
    "# Write your MySQL query statement below\r\n",
    "SELECT IFNULL(\r\n",
    "    (SELECT DISTINCT Salary \r\n",
    "    FROM Employee \r\n",
    "    ORDER BY Salary DESC\r\n",
    "    LIMIT 1 OFFSET 1), NULL\r\n",
    ") AS SecondHighestSalary;\r\n",
    "\r\n",
    "\r\n",
    "# my current version is not right, \r\n",
    "# I forget that limit 1 offset 1\r\n",
    "SELECT DISTINCT Salary AS SecondHighestSalary\r\n",
    "  FROM Employee\r\n",
    "  ORDER BY Salary DESC\r\n",
    "  LIMIT 1 OFFSET 1\r\n",
    "# this one will not return null, it will return an empty \r\n"
   ],
   "outputs": [],
   "metadata": {}
  },
  {
   "cell_type": "code",
   "execution_count": null,
   "source": [
    "# 177\r\n",
    "# tutorial url: https://www.mysqltutorial.org/mysql-limit.aspx\r\n",
    "\r\n",
    "CREATE FUNCTION getNthHighestSalary(N INT) RETURNS INT\r\n",
    "BEGIN\r\n",
    "    DECLARE temp INTEGER;\r\n",
    "    SET temp = N-1;\r\n",
    "  RETURN (\r\n",
    "      # Write your MySQL query statement below.\r\n",
    "      SELECT IFNULL(\r\n",
    "          (SELECT DISTINCT Salary \r\n",
    "           FROM Employee \r\n",
    "           ORDER BY Salary DESC \r\n",
    "           LIMIT temp,1), \r\n",
    "          NULL)\r\n",
    "  );\r\n",
    "END"
   ],
   "outputs": [],
   "metadata": {}
  },
  {
   "cell_type": "code",
   "execution_count": null,
   "source": [
    "# 178 Medium:\r\n",
    "SELECT Score,\r\n",
    "DENSE_RANK() OVER(ORDER BY Score DESC) AS 'Rank'\r\n",
    "FROM Scores\r\n",
    "\r\n",
    "# 非常好的学西链接：https://zhuanlan.zhihu.com/p/135119865\r\n",
    "# 讲述了 rank(), Dense_Rank(), Row_number() 的不同！\r\n"
   ],
   "outputs": [],
   "metadata": {}
  },
  {
   "cell_type": "code",
   "execution_count": null,
   "source": [
    "# 180： M\r\n",
    "# Lead() and Lag()\r\n",
    "SELECT DISTINCT Num AS ConsecutiveNums FROM(\r\n",
    "    SELECT Num,\r\n",
    "    LEAD(Num, 1) OVER(ORDER BY id) AS lead1,\r\n",
    "    LEAD(Num, 2) OVER(ORDER BY id) AS lead2\r\n",
    "    FROM Logs\r\n",
    ") AS lg\r\n",
    "WHERE Num = lead1\r\n",
    "AND Num = lead2\r\n",
    "\r\n",
    "\r\n",
    "# or Leetcode solution:\r\n",
    "SELECT *\r\n",
    "FROM\r\n",
    "Logs l1,\r\n",
    "Logs l2,\r\n",
    "Logs l3\r\n",
    "WHERE\r\n",
    "l1.Id = l2.Id - 1\r\n",
    "AND l2.Id = l3.Id - 1\r\n",
    "AND l1.Num = l2.Num\r\n",
    "AND l2.Num = l3.Num\r\n"
   ],
   "outputs": [],
   "metadata": {}
  },
  {
   "cell_type": "code",
   "execution_count": null,
   "source": [
    "# 181.\r\n",
    "\r\n",
    "# 自己写的：\r\n",
    "/* Write your T-SQL query statement below * /\r\n",
    "SELECT A.Name AS Employee\r\n",
    "FROM Employee as A\r\n",
    "INNER JOIN Employee as B\r\n",
    "ON A.ManagerId = B.Id\r\n",
    "WHERE A.Salary > B.Salary\r\n"
   ],
   "outputs": [],
   "metadata": {}
  },
  {
   "cell_type": "markdown",
   "source": [
    "# 分类：\r\n",
    "- Join的应用：\r\n",
    "    - 175 ez\r\n",
    "    - 181 ez\r\n",
    "\r\n",
    "- 多个select:\r\n",
    "    - 176 ez\r\n",
    "    \r\n",
    "- Create Function:\r\n",
    "    - 177 med\r\n",
    "    - \r\n",
    "\r\n",
    "- 窗口函数：\r\n",
    "    - 复习学习链接：https://zhuanlan.zhihu.com/p/250429998\r\n",
    "    - 178 ez (DENSE_RANK())\r\n",
    "    - 180 md (LEAD(,))\r\n",
    "\r\n"
   ],
   "metadata": {}
  },
  {
   "cell_type": "code",
   "execution_count": null,
   "source": [],
   "outputs": [],
   "metadata": {}
  },
  {
   "cell_type": "code",
   "execution_count": null,
   "source": [],
   "outputs": [],
   "metadata": {}
  },
  {
   "cell_type": "code",
   "execution_count": null,
   "source": [
    "# 1241. Number of Comments per post\r\n",
    "\r\n"
   ],
   "outputs": [],
   "metadata": {}
  }
 ],
 "metadata": {
  "orig_nbformat": 4,
  "language_info": {
   "name": "python"
  }
 },
 "nbformat": 4,
 "nbformat_minor": 2
}