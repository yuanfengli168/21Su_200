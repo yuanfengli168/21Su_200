{
 "cells": [
  {
   "cell_type": "code",
   "execution_count": 1,
   "id": "modified-football",
   "metadata": {},
   "outputs": [],
   "source": [
    "def bubble_sort(S):\n",
    "    \"\"\"\n",
    "    \n",
    "    \"\"\"\n",
    "    l = len(S)\n",
    "    for i in range(l):\n",
    "        for j in range(l - 1):\n",
    "            if S[j] > S[j + 1]:\n",
    "                S[j], S[j + 1] = S[j + 1], S[j]"
   ]
  },
  {
   "cell_type": "code",
   "execution_count": 2,
   "id": "increasing-petroleum",
   "metadata": {},
   "outputs": [
    {
     "name": "stdout",
     "output_type": "stream",
     "text": [
      "[17, 24, 31, 45, 50, 63, 85, 96]\n"
     ]
    }
   ],
   "source": [
    "S = [85, 24, 63, 45, 17, 31, 96, 50]\n",
    "bubble_sort(S)\n",
    "print(S)"
   ]
  },
  {
   "cell_type": "code",
   "execution_count": null,
   "id": "velvet-alcohol",
   "metadata": {},
   "outputs": [],
   "source": []
  }
 ],
 "metadata": {
  "kernelspec": {
   "display_name": "Python 3",
   "language": "python",
   "name": "python3"
  },
  "language_info": {
   "codemirror_mode": {
    "name": "ipython",
    "version": 3
   },
   "file_extension": ".py",
   "mimetype": "text/x-python",
   "name": "python",
   "nbconvert_exporter": "python",
   "pygments_lexer": "ipython3",
   "version": "3.7.10"
  }
 },
 "nbformat": 4,
 "nbformat_minor": 5
}
