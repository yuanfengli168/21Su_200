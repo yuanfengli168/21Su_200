{
 "cells": [
  {
   "cell_type": "code",
   "execution_count": 6,
   "id": "future-samoa",
   "metadata": {},
   "outputs": [],
   "source": [
    "def selection_sort(list):\n",
    "    \"\"\"\n",
    "    \n",
    "    \n",
    "    \"\"\"\n",
    "    for i in range(len(list)):\n",
    "        min_idx = i\n",
    "        for j in range(i + 1, len(list)):\n",
    "            if list[j] < list[min_idx]:\n",
    "                min_idx = j\n",
    "        list[min_idx], list[i] = list[i], list[min_idx]\n",
    "\n",
    "    "
   ]
  },
  {
   "cell_type": "code",
   "execution_count": 7,
   "id": "dying-christianity",
   "metadata": {},
   "outputs": [
    {
     "name": "stdout",
     "output_type": "stream",
     "text": [
      "[17, 24, 31, 45, 50, 63, 85, 96]\n"
     ]
    }
   ],
   "source": [
    "test_list = [85, 24, 63, 45, 17, 31, 96, 50]\n",
    "selection_sort(test_list)\n",
    "print(test_list)"
   ]
  },
  {
   "cell_type": "code",
   "execution_count": null,
   "id": "inner-appraisal",
   "metadata": {},
   "outputs": [],
   "source": []
  }
 ],
 "metadata": {
  "kernelspec": {
   "display_name": "Python 3",
   "language": "python",
   "name": "python3"
  },
  "language_info": {
   "codemirror_mode": {
    "name": "ipython",
    "version": 3
   },
   "file_extension": ".py",
   "mimetype": "text/x-python",
   "name": "python",
   "nbconvert_exporter": "python",
   "pygments_lexer": "ipython3",
   "version": "3.7.10"
  }
 },
 "nbformat": 4,
 "nbformat_minor": 5
}
