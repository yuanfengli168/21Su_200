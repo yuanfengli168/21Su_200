{
 "cells": [
  {
   "cell_type": "code",
   "execution_count": 1,
   "id": "relevant-correspondence",
   "metadata": {},
   "outputs": [
    {
     "name": "stdout",
     "output_type": "stream",
     "text": [
      "what is the number?3\n"
     ]
    }
   ],
   "source": [
    "# arrays and input\n",
    "a = input(\"what is the number?\")"
   ]
  },
  {
   "cell_type": "code",
   "execution_count": 2,
   "id": "ranking-pitch",
   "metadata": {},
   "outputs": [
    {
     "data": {
      "text/plain": [
       "'3'"
      ]
     },
     "execution_count": 2,
     "metadata": {},
     "output_type": "execute_result"
    }
   ],
   "source": [
    "a"
   ]
  },
  {
   "cell_type": "code",
   "execution_count": 3,
   "id": "incredible-tourist",
   "metadata": {},
   "outputs": [
    {
     "name": "stdout",
     "output_type": "stream",
     "text": [
      "what is the number?3\n"
     ]
    }
   ],
   "source": [
    "a2 = int(input(\"what is the number?\"))"
   ]
  },
  {
   "cell_type": "code",
   "execution_count": 6,
   "id": "negative-stack",
   "metadata": {},
   "outputs": [
    {
     "name": "stdout",
     "output_type": "stream",
     "text": [
      "2\n",
      "<class 'int'>\n"
     ]
    }
   ],
   "source": [
    "print(2)\n",
    "print(type(a2))"
   ]
  },
  {
   "cell_type": "code",
   "execution_count": 7,
   "id": "unauthorized-wildlife",
   "metadata": {},
   "outputs": [],
   "source": [
    "## Greedy\n",
    "\n",
    "\n",
    "\n"
   ]
  },
  {
   "cell_type": "markdown",
   "id": "occupational-entertainment",
   "metadata": {},
   "source": [
    "## searching "
   ]
  },
  {
   "cell_type": "markdown",
   "id": "finite-nepal",
   "metadata": {},
   "source": [
    "### binary Search"
   ]
  },
  {
   "cell_type": "code",
   "execution_count": 8,
   "id": "matched-interpretation",
   "metadata": {},
   "outputs": [],
   "source": [
    "def binary_search(target, nums):\n",
    "    \"\"\"\n",
    "    type: target-int; nums-list\n",
    "    rtype: index\n",
    "    \n",
    "    \"\"\"\n",
    "    low, high = 0, len(nums) - 1\n",
    "    while low <= high:\n",
    "        mid = (low + high) // 2    # if not using recursion verison, needs to be in the while loop\n",
    "        if target == nums[mid]:\n",
    "            return mid\n",
    "        elif target > nums[mid]:\n",
    "            low = mid + 1\n",
    "        else:\n",
    "            high = mid - 1\n",
    "    return -1\n",
    "\n",
    "# recursion version\n",
    "def binary_search_recursion(nums, target, low, high):\n",
    "    \"\"\"\n",
    "    \n",
    "    \"\"\"\n",
    "    if low > high:\n",
    "        return False  # return -1\n",
    "    else:\n",
    "        mid = (low + high) // 2\n",
    "        if target == nums[mid]:\n",
    "            return True  # return mid\n",
    "        elif target < nums[mid]:\n",
    "            return binary_search_recursion(nums, target, low, mid - 1)\n",
    "        else:\n",
    "            return binary_search_recursion(nums, target, mid + 1, high)\n",
    "        "
   ]
  },
  {
   "cell_type": "markdown",
   "id": "proof-heritage",
   "metadata": {},
   "source": [
    "- modification 1:\n",
    "Please search for the first of the 285 in the following list,"
   ]
  },
  {
   "cell_type": "code",
   "execution_count": 13,
   "id": "overall-driving",
   "metadata": {},
   "outputs": [
    {
     "name": "stdout",
     "output_type": "stream",
     "text": [
      "6 3\n"
     ]
    }
   ],
   "source": [
    "list1 = [-14, -10, 2, 108, 108, 243, 285, 285, 285, 401]\n",
    "target = 285\n",
    "# please return the first appearance of 285's index\n",
    "\n",
    "def search_first_of_e(e, nums):\n",
    "    \"\"\"\n",
    "    type: e - int; nums - list, \n",
    "    rtype: idx - int, the first idx of target, -1 if none\n",
    "    \"\"\"\n",
    "    low, high, result = 0, len(nums) - 1, -1\n",
    "    # bs\n",
    "    while low <= high:\n",
    "        mid = (low + high) // 2\n",
    "        if e == nums[mid]:\n",
    "            result = mid\n",
    "            high = mid - 1  # the elements on the right can not be the answers, since we look for earlier idx\n",
    "        elif e < nums[mid]:\n",
    "            high = mid - 1\n",
    "        else:\n",
    "            low = mid + 1\n",
    "    return result\n",
    "\n",
    "# tests:\n",
    "a = search_first_of_e(285, list1)\n",
    "b = search_first_of_e(108, list1)\n",
    "print(a, b)"
   ]
  },
  {
   "cell_type": "code",
   "execution_count": null,
   "id": "patent-maine",
   "metadata": {},
   "outputs": [],
   "source": []
  }
 ],
 "metadata": {
  "kernelspec": {
   "display_name": "Python 3",
   "language": "python",
   "name": "python3"
  },
  "language_info": {
   "codemirror_mode": {
    "name": "ipython",
    "version": 3
   },
   "file_extension": ".py",
   "mimetype": "text/x-python",
   "name": "python",
   "nbconvert_exporter": "python",
   "pygments_lexer": "ipython3",
   "version": "3.7.10"
  }
 },
 "nbformat": 4,
 "nbformat_minor": 5
}
