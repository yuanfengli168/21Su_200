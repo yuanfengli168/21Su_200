{
 "cells": [
  {
   "cell_type": "code",
   "execution_count": 15,
   "id": "systematic-passing",
   "metadata": {},
   "outputs": [],
   "source": [
    "def insertion_sort(S):\n",
    "    \"\"\"\n",
    "    type: list, S \n",
    "    \n",
    "    \"\"\"\n",
    "    for k in range(1, len(S)):\n",
    "        cur = S[k]\n",
    "        j = k\n",
    "        while j > 0 and S[j - 1] > cur:\n",
    "            S[j] = S[j - 1]\n",
    "            j -= 1\n",
    "        S[j] = cur\n",
    "    "
   ]
  },
  {
   "cell_type": "code",
   "execution_count": 16,
   "id": "thorough-premiere",
   "metadata": {},
   "outputs": [
    {
     "name": "stdout",
     "output_type": "stream",
     "text": [
      "[17, 24, 31, 45, 50, 63, 85, 96]\n"
     ]
    }
   ],
   "source": [
    "test_list = [85, 24, 63, 45, 17, 31, 96, 50]\n",
    "insertion_sort(test_list)\n",
    "print(test_list)"
   ]
  },
  {
   "cell_type": "markdown",
   "id": "defensive-excess",
   "metadata": {},
   "source": [
    "## Others"
   ]
  },
  {
   "cell_type": "code",
   "execution_count": 17,
   "id": "careful-confusion",
   "metadata": {},
   "outputs": [],
   "source": [
    "# reference counting\n",
    "# generator\n",
    "# *args\n",
    "# *kwargs\n",
    "# decorator\n",
    "# iterator\n",
    "# yield, return\n",
    "\n",
    "# niukewang \n",
    "# tcp udp \n",
    "\n",
    "\n"
   ]
  },
  {
   "cell_type": "code",
   "execution_count": 18,
   "id": "seventh-sampling",
   "metadata": {},
   "outputs": [],
   "source": [
    "from collections import deque\n",
    "q = deque()\n",
    "\n"
   ]
  },
  {
   "cell_type": "code",
   "execution_count": 19,
   "id": "younger-climate",
   "metadata": {},
   "outputs": [
    {
     "data": {
      "text/plain": [
       "'HELLO THERE'"
      ]
     },
     "execution_count": 19,
     "metadata": {},
     "output_type": "execute_result"
    }
   ],
   "source": [
    "#\n",
    "\n",
    "def uppercase_decorator(function):\n",
    "    def wrapper():\n",
    "        func = function()\n",
    "        make_uppercase = func.upper()\n",
    "        return make_uppercase\n",
    "\n",
    "    return wrapper\n",
    "\n",
    "\n",
    "def say_hi():\n",
    "    return 'hello there'\n",
    "\n",
    "decorate = uppercase_decorator(say_hi)\n",
    "decorate()"
   ]
  },
  {
   "cell_type": "code",
   "execution_count": 20,
   "id": "systematic-neutral",
   "metadata": {},
   "outputs": [
    {
     "data": {
      "text/plain": [
       "'HELLO THERE'"
      ]
     },
     "execution_count": 20,
     "metadata": {},
     "output_type": "execute_result"
    }
   ],
   "source": [
    "@uppercase_decorator\n",
    "def say_hi():\n",
    "    return 'hello there'\n",
    "\n",
    "say_hi()"
   ]
  },
  {
   "cell_type": "code",
   "execution_count": null,
   "id": "suspected-hepatitis",
   "metadata": {},
   "outputs": [],
   "source": []
  },
  {
   "cell_type": "code",
   "execution_count": null,
   "id": "funded-webcam",
   "metadata": {},
   "outputs": [],
   "source": []
  }
 ],
 "metadata": {
  "kernelspec": {
   "display_name": "Python 3",
   "language": "python",
   "name": "python3"
  },
  "language_info": {
   "codemirror_mode": {
    "name": "ipython",
    "version": 3
   },
   "file_extension": ".py",
   "mimetype": "text/x-python",
   "name": "python",
   "nbconvert_exporter": "python",
   "pygments_lexer": "ipython3",
   "version": "3.7.10"
  }
 },
 "nbformat": 4,
 "nbformat_minor": 5
}
