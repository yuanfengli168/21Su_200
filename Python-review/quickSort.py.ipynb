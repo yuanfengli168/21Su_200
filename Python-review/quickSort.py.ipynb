{
 "cells": [
  {
   "cell_type": "code",
   "execution_count": 39,
   "id": "decent-wrapping",
   "metadata": {},
   "outputs": [],
   "source": [
    "import copy\n",
    "\n",
    "def quicksort(S):\n",
    "    \"\"\"\n",
    "    S is the list that contains numbers\n",
    "    \n",
    "    \"\"\"\n",
    "    n = len(S)\n",
    "    if n < 2:\n",
    "        return\n",
    "    \n",
    "    pivot = S[-1]\n",
    "#     print(\"pivot\", pivot)\n",
    "    L = [x for x in S if x < pivot]\n",
    "#     print(\"L\", L)\n",
    "    E = [x for x in S if x == pivot]\n",
    "#     print(\"E\", E)\n",
    "    G = [x for x in S if x > pivot]\n",
    "#     print(\"G\", G)\n",
    "    \n",
    "#     while len(S) is not 0:\n",
    "        \n",
    "    \n",
    "    quicksort(L)\n",
    "    quicksort(G)\n",
    "    \n",
    "    S.clear()\n",
    "    for integers in L:\n",
    "        S.append(integers)\n",
    "    for integers in E:\n",
    "        S.append(integers)\n",
    "    for integers in G:\n",
    "        S.append(integers)\n",
    "    \n",
    "    \n",
    "    \n",
    "    \n",
    "    "
   ]
  },
  {
   "cell_type": "code",
   "execution_count": 41,
   "id": "domestic-storage",
   "metadata": {},
   "outputs": [
    {
     "name": "stdout",
     "output_type": "stream",
     "text": [
      "[17, 24, 31, 45, 50, 63, 85, 96]\n"
     ]
    }
   ],
   "source": [
    "test_list = [85, 24, 63, 45, 17, 31, 96, 50]\n",
    "quicksort(test_list)\n",
    "print(test_list)"
   ]
  },
  {
   "cell_type": "markdown",
   "id": "yellow-beatles",
   "metadata": {},
   "source": [
    "# why this one does not work?"
   ]
  },
  {
   "cell_type": "code",
   "execution_count": 86,
   "id": "matched-exchange",
   "metadata": {},
   "outputs": [],
   "source": [
    "# .extend works\n",
    "import copy\n",
    "\n",
    "def quicksort(S):\n",
    "    \"\"\"\n",
    "    S is the list that contains numbers\n",
    "    \n",
    "    \"\"\"\n",
    "    n = len(S)\n",
    "    if n < 2:\n",
    "        return\n",
    "    \n",
    "    pivot = S[-1]\n",
    "#     print(\"pivot\", pivot)\n",
    "    L = [x for x in S if x < pivot]\n",
    "#     print(\"L\", L)\n",
    "    E = [x for x in S if x == pivot]\n",
    "#     print(\"E\", E)\n",
    "    G = [x for x in S if x > pivot]\n",
    "#     print(\"G\", G)\n",
    "    \n",
    "#     while len(S) is not 0:\n",
    "        \n",
    "    \n",
    "    quicksort(L)\n",
    "    quicksort(G)\n",
    "\n",
    "    \n",
    "    print(\"s,l,e,g\", S, L, E, G)\n",
    "\n",
    "    #the commented work!\n",
    "#     S.extend(L)\n",
    "#     S.extend(E)\n",
    "#     S.extend(G)\n",
    "\n",
    "\n",
    "    a = L + E + G\n",
    "    S.extend(a)\n",
    "    print(\"s,l,e,g\", S, L, E, G)\n",
    "#     print()\n",
    "#     S = copy.deepcopy(S)\n",
    "# #     return L + E + G\n",
    "    \n",
    "    \n",
    "    \n",
    "    \n",
    "    "
   ]
  },
  {
   "cell_type": "code",
   "execution_count": 85,
   "id": "sustained-tract",
   "metadata": {},
   "outputs": [
    {
     "name": "stdout",
     "output_type": "stream",
     "text": [
      "s,l,e,g [24, 17] [] [17] [24]\n",
      "s,l,e,g [24, 17, 17, 24] [] [17] [24]\n",
      "s,l,e,g [24, 45, 17, 31] [24, 17, 17, 24] [31] [45]\n",
      "s,l,e,g [24, 45, 17, 31, 24, 17, 17, 24, 31, 45] [24, 17, 17, 24] [31] [45]\n",
      "s,l,e,g [85, 63] [] [63] [85]\n",
      "s,l,e,g [85, 63, 63, 85] [] [63] [85]\n",
      "s,l,e,g [85, 63, 96] [85, 63, 63, 85] [96] []\n",
      "s,l,e,g [85, 63, 96, 85, 63, 63, 85, 96] [85, 63, 63, 85] [96] []\n",
      "s,l,e,g [85, 24, 63, 45, 17, 31, 96, 50] [24, 45, 17, 31, 24, 17, 17, 24, 31, 45] [50] [85, 63, 96, 85, 63, 63, 85, 96]\n",
      "s,l,e,g [85, 24, 63, 45, 17, 31, 96, 50, 24, 45, 17, 31, 24, 17, 17, 24, 31, 45, 50, 85, 63, 96, 85, 63, 63, 85, 96] [24, 45, 17, 31, 24, 17, 17, 24, 31, 45] [50] [85, 63, 96, 85, 63, 63, 85, 96]\n",
      "Answer [85, 24, 63, 45, 17, 31, 96, 50, 24, 45, 17, 31, 24, 17, 17, 24, 31, 45, 50, 85, 63, 96, 85, 63, 63, 85, 96]\n"
     ]
    }
   ],
   "source": [
    "test_list = [85, 24, 63, 45, 17, 31, 96, 50]\n",
    "quicksort(test_list)\n",
    "print(\"Answer\", test_list)"
   ]
  },
  {
   "cell_type": "code",
   "execution_count": 56,
   "id": "designing-glory",
   "metadata": {},
   "outputs": [],
   "source": [
    "# += works\n",
    "import copy\n",
    "\n",
    "def quicksort(S):\n",
    "    \"\"\"\n",
    "    S is the list that contains numbers\n",
    "    \n",
    "    \"\"\"\n",
    "    n = len(S)\n",
    "    if n < 2:\n",
    "        return\n",
    "    \n",
    "    pivot = S[-1]\n",
    "    \n",
    "    L = [x for x in S if x < pivot]\n",
    "    E = [x for x in S if x == pivot]\n",
    "    G = [x for x in S if x > pivot]\n",
    "    \n",
    "    quicksort(L)\n",
    "    quicksort(G)\n",
    "    \n",
    "    S.clear()\n",
    "    print()\n",
    "    print(\"s,l,e,g, l+e+g\", S, L, E, G, L+E+G)\n",
    "    \n",
    "    S += L\n",
    "    S += E\n",
    "    S += G\n",
    "    print(\"s,l,e,g\", S, L, E, G)\n",
    "    "
   ]
  },
  {
   "cell_type": "code",
   "execution_count": 57,
   "id": "failing-bulgaria",
   "metadata": {},
   "outputs": [
    {
     "name": "stdout",
     "output_type": "stream",
     "text": [
      "\n",
      "s,l,e,g, l+e+g [] [] [17] [24] [17, 24]\n",
      "s,l,e,g [17, 24] [] [17] [24]\n",
      "\n",
      "s,l,e,g, l+e+g [] [17, 24] [31] [45] [17, 24, 31, 45]\n",
      "s,l,e,g [17, 24, 31, 45] [17, 24] [31] [45]\n",
      "\n",
      "s,l,e,g, l+e+g [] [] [63] [85] [63, 85]\n",
      "s,l,e,g [63, 85] [] [63] [85]\n",
      "\n",
      "s,l,e,g, l+e+g [] [63, 85] [96] [] [63, 85, 96]\n",
      "s,l,e,g [63, 85, 96] [63, 85] [96] []\n",
      "\n",
      "s,l,e,g, l+e+g [] [17, 24, 31, 45] [50] [63, 85, 96] [17, 24, 31, 45, 50, 63, 85, 96]\n",
      "s,l,e,g [17, 24, 31, 45, 50, 63, 85, 96] [17, 24, 31, 45] [50] [63, 85, 96]\n",
      "[17, 24, 31, 45, 50, 63, 85, 96]\n"
     ]
    }
   ],
   "source": [
    "test_list = [85, 24, 63, 45, 17, 31, 96, 50]\n",
    "quicksort(test_list)\n",
    "print(test_list)"
   ]
  },
  {
   "cell_type": "code",
   "execution_count": 75,
   "id": "increased-injection",
   "metadata": {},
   "outputs": [],
   "source": [
    "# third ways += works\n",
    "import copy\n",
    "\n",
    "def quicksort(S):\n",
    "    \"\"\"\n",
    "    S is the list that contains numbers\n",
    "    \n",
    "    \"\"\"\n",
    "    n = len(S)\n",
    "    if n < 2:\n",
    "        print(\"returned\")\n",
    "        return\n",
    "    \n",
    "    pivot = S[-1]\n",
    "    L = [x for x in S if x < pivot]\n",
    "    E = [x for x in S if x == pivot]\n",
    "    G = [x for x in S if x > pivot]     \n",
    "    \n",
    "    quicksort(L)\n",
    "    quicksort(G)\n",
    "\n",
    "    S.clear()\n",
    "    print()\n",
    "    print(\"s,l,e,g, l+e+g\", S, L, E, G, L+E+G)\n",
    "    \n",
    "    S += L + E + G\n",
    "#     S = S + L + E + G\n",
    "    print(\"s,l,e,g\", S, L, E, G)\n",
    "\n",
    "    \n",
    "    \n",
    "    \n",
    "    \n",
    "    "
   ]
  },
  {
   "cell_type": "code",
   "execution_count": 76,
   "id": "roman-committee",
   "metadata": {},
   "outputs": [
    {
     "name": "stdout",
     "output_type": "stream",
     "text": [
      "returned\n",
      "returned\n",
      "\n",
      "s,l,e,g, l+e+g [] [] [17] [24] [17, 24]\n",
      "s,l,e,g [17, 24] [] [17] [24]\n",
      "returned\n",
      "\n",
      "s,l,e,g, l+e+g [] [17, 24] [31] [45] [17, 24, 31, 45]\n",
      "s,l,e,g [17, 24, 31, 45] [17, 24] [31] [45]\n",
      "returned\n",
      "returned\n",
      "\n",
      "s,l,e,g, l+e+g [] [] [63] [85] [63, 85]\n",
      "s,l,e,g [63, 85] [] [63] [85]\n",
      "returned\n",
      "\n",
      "s,l,e,g, l+e+g [] [63, 85] [96] [] [63, 85, 96]\n",
      "s,l,e,g [63, 85, 96] [63, 85] [96] []\n",
      "\n",
      "s,l,e,g, l+e+g [] [17, 24, 31, 45] [50] [63, 85, 96] [17, 24, 31, 45, 50, 63, 85, 96]\n",
      "s,l,e,g [17, 24, 31, 45, 50, 63, 85, 96] [17, 24, 31, 45] [50] [63, 85, 96]\n",
      "[17, 24, 31, 45, 50, 63, 85, 96]\n"
     ]
    }
   ],
   "source": [
    "test_list = [85, 24, 63, 45, 17, 31, 96, 50]\n",
    "quicksort(test_list)\n",
    "print(test_list)"
   ]
  },
  {
   "cell_type": "code",
   "execution_count": 79,
   "id": "solar-formula",
   "metadata": {},
   "outputs": [],
   "source": [
    "# third ways\n",
    "import copy\n",
    "\n",
    "def quicksort(S):\n",
    "    \"\"\"\n",
    "    S is the list that contains numbers\n",
    "    \n",
    "    \"\"\"\n",
    "    n = len(S)\n",
    "    if n < 2:\n",
    "        print(\"returned!\")\n",
    "        return\n",
    "    \n",
    "    pivot = S[-1]\n",
    "    L = [x for x in S if x < pivot]\n",
    "    E = [x for x in S if x == pivot]\n",
    "    G = [x for x in S if x > pivot]     \n",
    "    \n",
    "    quicksort(L)\n",
    "    quicksort(G)\n",
    "\n",
    "    S.clear()\n",
    "    print()\n",
    "    print(\"s,l,e,g, l+e+g\", S, L, E, G, L+E+G)\n",
    "    \n",
    "    S = S + L + E + G\n",
    "#     S = L + E + G not working either\n",
    "    print(\"s,l,e,g\", S, L, E, G)\n",
    "\n",
    "    \n",
    "    \n",
    "    \n",
    "    \n",
    "    "
   ]
  },
  {
   "cell_type": "code",
   "execution_count": 80,
   "id": "exempt-sentence",
   "metadata": {},
   "outputs": [
    {
     "name": "stdout",
     "output_type": "stream",
     "text": [
      "returned!\n",
      "returned!\n",
      "\n",
      "s,l,e,g, l+e+g [] [] [17] [24] [17, 24]\n",
      "s,l,e,g [17, 24] [] [17] [24]\n",
      "returned!\n",
      "\n",
      "s,l,e,g, l+e+g [] [] [31] [45] [31, 45]\n",
      "s,l,e,g [31, 45] [] [31] [45]\n",
      "returned!\n",
      "returned!\n",
      "\n",
      "s,l,e,g, l+e+g [] [] [63] [85] [63, 85]\n",
      "s,l,e,g [63, 85] [] [63] [85]\n",
      "returned!\n",
      "\n",
      "s,l,e,g, l+e+g [] [] [96] [] [96]\n",
      "s,l,e,g [96] [] [96] []\n",
      "\n",
      "s,l,e,g, l+e+g [] [] [50] [] [50]\n",
      "s,l,e,g [50] [] [50] []\n",
      "[]\n"
     ]
    }
   ],
   "source": [
    "test_list = [85, 24, 63, 45, 17, 31, 96, 50]\n",
    "quicksort(test_list)\n",
    "print(test_list)"
   ]
  },
  {
   "cell_type": "markdown",
   "id": "unlimited-evaluation",
   "metadata": {},
   "source": [
    "# test why S = S + L + E + G not work"
   ]
  },
  {
   "cell_type": "code",
   "execution_count": 68,
   "id": "lined-merchandise",
   "metadata": {},
   "outputs": [
    {
     "name": "stdout",
     "output_type": "stream",
     "text": [
      "S1 []\n",
      "S2 [1, 2, 3]\n",
      "[1, 2, 3]\n",
      "[1, 2, 3]\n"
     ]
    }
   ],
   "source": [
    "S = [1, 2, 3]\n",
    "S.clear()\n",
    "print(\"S1\", S)\n",
    "a = [1]\n",
    "b = [2]\n",
    "c = [3]\n",
    "S = a + b + c\n",
    "print(\"S2\", S)\n",
    "print(a + b + c)\n",
    "S += a + b + c\n",
    "print(a + b + c)"
   ]
  },
  {
   "cell_type": "markdown",
   "id": "premier-accident",
   "metadata": {},
   "source": [
    "# one guess\n",
    "- there is a global S in the most top level for the recursion in python\n",
    "- so the S will only increase when you uses S.append, S +=, S.extend(); however, it will not work when u used S = L + ..., or S = S + L +..; this might confused the recursion manager, and without those .append, +=, .extend(), it will not add the small parts into the top level S!"
   ]
  },
  {
   "cell_type": "code",
   "execution_count": null,
   "id": "dimensional-bishop",
   "metadata": {},
   "outputs": [],
   "source": []
  }
 ],
 "metadata": {
  "kernelspec": {
   "display_name": "Python 3",
   "language": "python",
   "name": "python3"
  },
  "language_info": {
   "codemirror_mode": {
    "name": "ipython",
    "version": 3
   },
   "file_extension": ".py",
   "mimetype": "text/x-python",
   "name": "python",
   "nbconvert_exporter": "python",
   "pygments_lexer": "ipython3",
   "version": "3.7.10"
  }
 },
 "nbformat": 4,
 "nbformat_minor": 5
}
