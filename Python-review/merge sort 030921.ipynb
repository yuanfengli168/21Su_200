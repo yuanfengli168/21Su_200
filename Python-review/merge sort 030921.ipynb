{
 "cells": [
  {
   "cell_type": "markdown",
   "id": "complicated-borough",
   "metadata": {},
   "source": [
    "# Merge sort simple example\n",
    "- page 542 | search 563"
   ]
  },
  {
   "cell_type": "code",
   "execution_count": 5,
   "id": "irish-dancing",
   "metadata": {},
   "outputs": [],
   "source": [
    "def merge(S1, S2, S):\n",
    "    \"\"\"\n",
    "    Merge two sorted Python lists S1 and S2 into properly sized list S\n",
    "    \"\"\"\n",
    "    i = j = 0\n",
    "    while i + j < len(S):\n",
    "        if j == len(S2) or (i < len(S1) and S1[i] < S2[j]):\n",
    "            S[i + j] = S1[i]\n",
    "            i += 1\n",
    "        else:\n",
    "            S[i + j] = S2[j]\n",
    "            j += 1\n",
    "\n",
    "def merge_sort(S):\n",
    "    \"\"\"\n",
    "    Sort the elements of Python list S using the merge_sort(itslf).\n",
    "    \"\"\"\n",
    "    n = len(S)\n",
    "    if n < 2:\n",
    "        return\n",
    "    # divide\n",
    "    mid = n // 2\n",
    "    S1 = S[0:mid]\n",
    "    S2 = S[mid:n]\n",
    "    # conquer with recursion\n",
    "    merge_sort(S1)\n",
    "    merge_sort(S2)\n",
    "    # merge results\n",
    "    merge(S1, S2, S)\n",
    "    "
   ]
  },
  {
   "cell_type": "code",
   "execution_count": 6,
   "id": "stuck-pixel",
   "metadata": {},
   "outputs": [
    {
     "name": "stdout",
     "output_type": "stream",
     "text": [
      "[85, 24, 63, 45, 17, 31, 96, 50]\n",
      "[17, 24, 31, 45, 50, 63, 85, 96]\n"
     ]
    }
   ],
   "source": [
    "# tests\n",
    "test_S = [85, 24, 63, 45, 17, 31, 96, 50]\n",
    "print(test_S)\n",
    "merge_sort(test_S)\n",
    "print(test_S)"
   ]
  },
  {
   "cell_type": "code",
   "execution_count": null,
   "id": "fifty-aquatic",
   "metadata": {},
   "outputs": [],
   "source": []
  }
 ],
 "metadata": {
  "kernelspec": {
   "display_name": "Python 3",
   "language": "python",
   "name": "python3"
  },
  "language_info": {
   "codemirror_mode": {
    "name": "ipython",
    "version": 3
   },
   "file_extension": ".py",
   "mimetype": "text/x-python",
   "name": "python",
   "nbconvert_exporter": "python",
   "pygments_lexer": "ipython3",
   "version": "3.7.10"
  }
 },
 "nbformat": 4,
 "nbformat_minor": 5
}
