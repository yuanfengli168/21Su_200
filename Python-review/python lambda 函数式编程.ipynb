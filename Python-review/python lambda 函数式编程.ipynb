{
 "cells": [
  {
   "cell_type": "markdown",
   "id": "acting-adjustment",
   "metadata": {},
   "source": [
    "### Python 3 has changed a lot of things from python2\n",
    "- you should read thouroughly what has been changed here:\n",
    "https://docs.python.org/3.0/whatsnew/3.0.html\n",
    "- stack over flow has gave a really good explanation as well:\n",
    "https://stackoverflow.com/questions/13638898/how-to-use-filter-map-and-reduce-in-python-3"
   ]
  },
  {
   "cell_type": "code",
   "execution_count": 3,
   "id": "internal-throat",
   "metadata": {},
   "outputs": [
    {
     "name": "stdout",
     "output_type": "stream",
     "text": [
      "<filter object at 0x000001BE9C448188>\n"
     ]
    }
   ],
   "source": [
    "\n",
    "a = [1, 2, 3, 4, 5, 6, 7]\n",
    "b = filter(lambda x : x > 5, a)\n",
    "print(b)"
   ]
  },
  {
   "cell_type": "code",
   "execution_count": 4,
   "id": "tough-crown",
   "metadata": {},
   "outputs": [
    {
     "name": "stdout",
     "output_type": "stream",
     "text": [
      "[6, 7]\n"
     ]
    }
   ],
   "source": [
    "a = [1, 2, 3, 4, 5, 6, 7]\n",
    "b = [x for x in a if x > 5]\n",
    "print(b)"
   ]
  },
  {
   "cell_type": "markdown",
   "id": "joint-treatment",
   "metadata": {},
   "source": [
    "## if you need more readings \n",
    "- check out here on page 14, and 15:\n",
    "file:///C:/Users/Jacky/OneDrive/Desktop/interview/%E9%A2%98%E5%BA%93%20interview%20questions/interview_questions_total/%E9%9D%A2%E8%AF%95%E9%A2%98%E6%95%B4%E7%90%86-AID.pdf"
   ]
  },
  {
   "cell_type": "code",
   "execution_count": 9,
   "id": "defensive-excellence",
   "metadata": {},
   "outputs": [
    {
     "name": "stdout",
     "output_type": "stream",
     "text": [
      "{1, 2, 3, 4}\n",
      "(1, 2, 3, 4, 4)\n",
      "[1, 2, 3, 4]\n",
      "(1, 2, 3, 4)\n"
     ]
    }
   ],
   "source": [
    "list1 = [1, 2, 3, 4, 4]\n",
    "set1 = (1, 2, 3, 4)\n",
    "# how to change a list to set?\n",
    "s = set(list1)\n",
    "print(s)\n",
    "# change a list to tuple?, what is tuple?\n",
    "\"\"\"\n",
    "A tuple is a collection which is ordered and unchangeable\n",
    "https://www.programiz.com/python-programming/set\n",
    "\"\"\"\n",
    "t = tuple(list1)\n",
    "print(t)\n",
    "\n",
    "\n",
    "# how to change a set to list?\n",
    "l = list(set1)\n",
    "print(l)\n",
    "t = tuple(set1)\n",
    "print(t)\n"
   ]
  },
  {
   "cell_type": "markdown",
   "id": "comic-damages",
   "metadata": {},
   "source": [
    "## Lambda \n",
    "- https://www.w3schools.com/python/python_lambda.asp"
   ]
  },
  {
   "cell_type": "code",
   "execution_count": 11,
   "id": "spoken-crest",
   "metadata": {},
   "outputs": [
    {
     "data": {
      "text/plain": [
       "14"
      ]
     },
     "execution_count": 11,
     "metadata": {},
     "output_type": "execute_result"
    }
   ],
   "source": [
    "a = lambda x,y:x+y\n",
    "a(3, 11)"
   ]
  },
  {
   "cell_type": "code",
   "execution_count": null,
   "id": "sixth-tumor",
   "metadata": {},
   "outputs": [],
   "source": []
  },
  {
   "cell_type": "markdown",
   "id": "engaged-calgary",
   "metadata": {},
   "source": [
    "## 线程和进程的区别"
   ]
  },
  {
   "cell_type": "markdown",
   "id": "dynamic-butterfly",
   "metadata": {},
   "source": [
    "简而言之,一个程序至少有一个进程,一个进程至少有一个线程.\n",
    "\n",
    "看了一遍排在前面的答案，类似”进程是资源分配的最小单位，线程是CPU调度的最小单位“这样的回答感觉太抽象，都不太容易让人理解。做个简单的比喻：进程=火车，线程=车厢线程在进程下行进（单纯的车厢无法运行）一个进程可以包含多个线程（一辆火车可以有多个车厢）不同进程间数据很难共享（一辆火车上的乘客很难换到另外一辆火车，比如站点换乘）同一进程下不同线程间数据很易共享（A车厢换到B车厢很容易）进程要比线程消耗更多的计算机资源（采用多列火车相比多个车厢更耗资源）进程间不会相互影响，一个线程挂掉将导致整个进程挂掉（一列火车不会影响到另外一列火车，但是如果一列火车上中间的一节车厢着火了，将影响到所有车厢）进程可以拓展到多机，进程最多适合多核（不同火车可以开在多个轨道上，同一火车的车厢不能在行进的不同的轨道上）进程使用的内存地址可以上锁，即一个线程使用某些共享内存时，其他线程必须等它结束，才能使用这一块内存。（比如火车上的洗手间）－\"互斥锁\"进程使用的内存地址可以限定使用量（比如火车上的餐厅，最多只允许多少人进入，如果满了需要在门口等，等有人出来了才能进去）－“信号量”\n",
    "\n",
    "作者：知乎用户\n",
    "链接：https://www.zhihu.com/question/25532384/answer/411179772\n",
    "来源：知乎\n",
    "著作权归作者所有。商业转载请联系作者获得授权，非商业转载请注明出处。"
   ]
  },
  {
   "cell_type": "markdown",
   "id": "checked-blond",
   "metadata": {},
   "source": [
    "### 协程，\n",
    "- 是一种比线程更加轻量级的存在，协程不是被操作系统内核所管理，而完全是由程序所控制（也就是在用户态执行）。这样带来的好处就是性能得到了很大的提升，不会像线程切换那样消耗资源。\n",
    "https://blog.csdn.net/daaikuaichuan/article/details/82951084"
   ]
  },
  {
   "cell_type": "code",
   "execution_count": null,
   "id": "preliminary-capitol",
   "metadata": {},
   "outputs": [],
   "source": []
  }
 ],
 "metadata": {
  "kernelspec": {
   "display_name": "Python 3",
   "language": "python",
   "name": "python3"
  },
  "language_info": {
   "codemirror_mode": {
    "name": "ipython",
    "version": 3
   },
   "file_extension": ".py",
   "mimetype": "text/x-python",
   "name": "python",
   "nbconvert_exporter": "python",
   "pygments_lexer": "ipython3",
   "version": "3.7.10"
  }
 },
 "nbformat": 4,
 "nbformat_minor": 5
}
