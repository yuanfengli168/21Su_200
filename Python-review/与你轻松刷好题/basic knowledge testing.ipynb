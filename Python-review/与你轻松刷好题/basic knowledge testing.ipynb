{
 "cells": [
  {
   "cell_type": "markdown",
   "id": "continental-circular",
   "metadata": {},
   "source": [
    "# Knapsack - 0/1 背包问题"
   ]
  },
  {
   "cell_type": "code",
   "execution_count": 28,
   "id": "documentary-rental",
   "metadata": {},
   "outputs": [
    {
     "name": "stdout",
     "output_type": "stream",
     "text": [
      "[[0, 0, 0, 0, 0], [0, 0, 0, 0, 0], [0, 0, 0, 0, 0], [0, 0, 0, 0, 0], [0, 0, 0, 0, 0], [0, 0, 0, 0, 0], [0, 0, 0, 0, 0], [0, 0, 0, 0, 0], [0, 0, 0, 0, 0], [0, 0, 0, 0, 0], [0, 0, 0, 0, 0]]\n",
      "---------------------------------------------\n",
      "[[0, 1, 0, 0, 0], [0, 0, 0, 0, 0], [0, 0, 0, 0, 0], [0, 0, 0, 0, 0], [0, 0, 0, 0, 0], [0, 0, 0, 0, 0], [0, 0, 0, 0, 0], [0, 0, 0, 0, 0], [0, 0, 0, 0, 0], [0, 0, 0, 0, 0], [0, 0, 0, 0, 0]]\n"
     ]
    }
   ],
   "source": [
    "# creating dp matrix for knapsack problems\n",
    "matrix = [[0 for _ in range(5)] for _ in range(11)]\n",
    "print(matrix)\n",
    "\n",
    "print(\"---------------------------------------------\")\n",
    "# test if they reference differently\n",
    "matrix[0][1] = 1\n",
    "print(matrix)"
   ]
  },
  {
   "cell_type": "code",
   "execution_count": 29,
   "id": "fundamental-denmark",
   "metadata": {},
   "outputs": [],
   "source": [
    "# 实际的0-1背包问题\n",
    "class Solution:\n",
    "    \"\"\"\n",
    "    @param m: An integer m denotes the size of a backpack\n",
    "    @param A: Given n items with size A[i]\n",
    "    @param V: Given n items with value V[i]\n",
    "    @return: The maximum value\n",
    "    \"\"\"\n",
    "    def backPackII(self, m, A, V):\n",
    "        # write your code here\n",
    "        # using knapsack problem\n",
    "        items = len(A)\n",
    "        # inner_list = [0] * (m + 1)\n",
    "        # matrix = [i for i in range(item + 1)]\n",
    "        dp = [[0 for _ in range(m + 1)] for _ in range(items + 1)]\n",
    "        # print(dp)\n",
    "        for i in range(1, items + 1, 1):\n",
    "            size = A[i]; value = V[i]\n",
    "            for j in range(1, m + 1, 1):\n",
    "                if j >= size:\n",
    "                    dp[i][j] = max(dp[i - 1][j], dp[i - 1][j - size] + value)\n",
    "                else:\n",
    "                    dp[i][j] = dp[i - 1][j]\n",
    "        return dp[items][m]"
   ]
  },
  {
   "cell_type": "code",
   "execution_count": 30,
   "id": "ongoing-chase",
   "metadata": {},
   "outputs": [
    {
     "name": "stdout",
     "output_type": "stream",
     "text": [
      "[[0, 0, 0, 0, 0, 0, 0, 0, 0, 0, 0], [0, 0, 0, 0, 0, 0, 0, 0, 0, 0, 0], [0, 0, 0, 0, 0, 0, 0, 0, 0, 0, 0], [0, 0, 0, 0, 0, 0, 0, 0, 0, 0, 0], [0, 0, 0, 0, 0, 0, 0, 0, 0, 0, 0]]\n",
      "[[0, 0, 0, 0, 0, 0, 0, 0, 0, 0, 0], [0, 0, 1, 1, 1, 1, 1, 1, 1, 1, 1], [0, 0, 1, 5, 5, 6, 6, 6, 6, 6, 6], [0, 0, 1, 5, 5, 6, 6, 6, 7, 7, 8], [0, 0, 1, 5, 5, 6, 6, 6, 7, 7, 9]]\n",
      "9\n"
     ]
    }
   ],
   "source": [
    "def backPackII(m, A, V):\n",
    "    # write your code here\n",
    "    # using knapsack problem\n",
    "    items = len(A)\n",
    "    # inner_list = [0] * (m + 1)\n",
    "    # matrix = [i for i in range(item + 1)]\n",
    "    dp = [[0 for _ in range(m + 1)] for _ in range(items + 1)]\n",
    "    # print(dp)\n",
    "    print(dp)\n",
    "    for i in range(1, items + 1, 1):\n",
    "        size = A[i - 1]; value = V[i - 1]\n",
    "        for j in range(1, m + 1, 1):\n",
    "            if j >= size:\n",
    "                dp[i][j] = max(dp[i - 1][j], dp[i - 1][j - size]  + value)\n",
    "            else:\n",
    "                dp[i][j] = dp[i - 1][j]\n",
    "    print(dp)\n",
    "    return dp[items][m]\n",
    "\n",
    "# tests:\n",
    "m = 10; A = [2, 3, 5, 7]; V = [1, 5, 2, 4]\n",
    "a = backPackII(m, A, V)\n",
    "print(a)"
   ]
  },
  {
   "cell_type": "code",
   "execution_count": 31,
   "id": "given-scott",
   "metadata": {},
   "outputs": [
    {
     "name": "stdout",
     "output_type": "stream",
     "text": [
      "[[0, 0, 0, 0, 0, 0, 0, 0, 0, 0, 0], [0, 0, 0, 0, 0, 0, 0, 0, 0, 0, 0], [0, 0, 0, 0, 0, 0, 0, 0, 0, 0, 0], [0, 0, 0, 0, 0, 0, 0, 0, 0, 0, 0], [0, 0, 0, 0, 0, 0, 0, 0, 0, 0, 0]]\n",
      "9\n"
     ]
    }
   ],
   "source": [
    "def backPackII(m, A, V):\n",
    "        n = len(A)\n",
    "        dp = [[0 for _ in range(m + 1)] for _ in range(n + 1)]\n",
    "        print(dp)\n",
    "        \n",
    "        for i in range(1, n + 1, 1):\n",
    "            w = A[i - 1]; v = V[i - 1]\n",
    "            for j in range(1, m + 1, 1):\n",
    "                if j >= w:\n",
    "                    dp[i][j] = max(dp[i - 1][j], dp[i - 1][j - w] + v)\n",
    "                else:\n",
    "                    dp[i][j] = dp[i - 1][j]\n",
    "        return dp[n][m]\n",
    "# tests:\n",
    "m = 10; A = [2, 3, 5, 7]; V = [1, 5, 2, 4]\n",
    "a = backPackII(m, A, V)\n",
    "print(a)"
   ]
  },
  {
   "cell_type": "code",
   "execution_count": 32,
   "id": "loving-sudan",
   "metadata": {},
   "outputs": [],
   "source": [
    "# 压缩空间的算法\n",
    "class Solution:\n",
    "    \"\"\"\n",
    "    @param m: An integer m denotes the size of a backpack\n",
    "    @param A: Given n items with size A[i]\n",
    "    @param V: Given n items with value V[i]\n",
    "    @return: The maximum value\n",
    "    \"\"\"\n",
    "    def backPackII(self, m, A, V):\n",
    "        # write your code here\n",
    "        items = len(A)\n",
    "        dp = [0] * (m + 1)\n",
    "        # iterate through\n",
    "        for i in range(1, items, 1):\n",
    "            size = A[i - 1]; value = V[i - 1]\n",
    "            j = m\n",
    "            while j >= size:\n",
    "            # for j in range(m, j , -1):\n",
    "                dp[j] = max(dp[j], dp[j - size] + value)\n",
    "                j -= 1\n",
    "        return dp[size]\n"
   ]
  },
  {
   "cell_type": "code",
   "execution_count": 33,
   "id": "spoken-mitchell",
   "metadata": {},
   "outputs": [
    {
     "name": "stdout",
     "output_type": "stream",
     "text": [
      "[0, 0, 0, 0, 0, 0, 0, 0, 0, 0, 0]\n",
      "1 [0, 0, 1, 1, 1, 1, 1, 1, 1, 1, 1]\n",
      "2 [0, 0, 1, 5, 5, 6, 6, 6, 6, 6, 6]\n",
      "3 [0, 0, 1, 5, 5, 6, 6, 6, 7, 7, 8]\n",
      "4 [0, 0, 1, 5, 5, 6, 6, 6, 7, 7, 9]\n",
      "[0, 0, 1, 5, 5, 6, 6, 6, 7, 7, 9]\n",
      "9\n"
     ]
    }
   ],
   "source": [
    "def backPackII(m, A, V):\n",
    "        # write your code here\n",
    "        items = len(A)\n",
    "        dp = [0] * (m + 1)\n",
    "        print(dp)\n",
    "        # iterate through\n",
    "        for i in range(1, items + 1, 1):\n",
    "            size = A[i - 1]; value = V[i - 1]\n",
    "            j = m\n",
    "            while j >= size:\n",
    "            # for j in range(m, j , -1):\n",
    "                dp[j] = max(dp[j], dp[j - size] + value)\n",
    "                j -= 1\n",
    "            print(i, dp)\n",
    "        print(dp)\n",
    "        return dp[m]\n",
    "    \n",
    "# tests:\n",
    "m = 10; A = [2, 3, 5, 7]; V = [1, 5, 2, 4]\n",
    "a = backPackII(m, A, V)\n",
    "print(a)"
   ]
  },
  {
   "cell_type": "markdown",
   "id": "ruled-williams",
   "metadata": {},
   "source": [
    "# Segment Tree"
   ]
  },
  {
   "cell_type": "code",
   "execution_count": 6,
   "id": "liable-baseball",
   "metadata": {},
   "outputs": [
    {
     "data": {
      "text/plain": [
       "[-2, 0, 3, 5, 3]"
      ]
     },
     "execution_count": 6,
     "metadata": {},
     "output_type": "execute_result"
    }
   ],
   "source": [
    "# - similar to the Range Addition LC370\n",
    "class Solution:\n",
    "    def getModifiedArray(self, length, updates):\n",
    "        result = [0 for _ in range(length + 1)]\n",
    "        for start, end, inc in updates:\n",
    "            result[start] += inc\n",
    "            result[end + 1] -= inc\n",
    "        for i in range(1, len(result)):\n",
    "            result[i] += result[i - 1]\n",
    "        return result[:-1]\n",
    "s = Solution()\n",
    "s.getModifiedArray(5, [[1,3,2],[2,4,3],[0,2,-2]])"
   ]
  },
  {
   "cell_type": "code",
   "execution_count": 17,
   "id": "curious-budget",
   "metadata": {},
   "outputs": [
    {
     "name": "stdout",
     "output_type": "stream",
     "text": [
      "after iteration:  [-2, 0, 3, 5, 3, 0]\n",
      "5\n",
      "after iteration:  [10, 15, 17, 17, 12, 0]\n",
      "17\n"
     ]
    }
   ],
   "source": [
    "# https://leetcode.com/discuss/interview-question/901091/how-to-write-an-efficient-solution-for-this-challenge-portfolio-balances-hackerrank\n",
    "# Portfolio Balances: \n",
    "class PortForlio:\n",
    "    def getMax(self, n, rounds):\n",
    "        \"\"\"\n",
    "        type: n -int, length of the list\n",
    "        type: rounds - List, list of different rounds\n",
    "        rtype: maxNum - int\n",
    "        \"\"\"\n",
    "        result = [0 for _ in range(n + 1)]\n",
    "#         print(result)\n",
    "        \n",
    "        for start, end, inc in rounds:\n",
    "            start -= 1; end -= 1\n",
    "            result[start] += inc\n",
    "            result[end + 1] -= inc\n",
    "        \n",
    "        for i in range(1, len(result)):\n",
    "            result[i] += result[i - 1]\n",
    "        print(\"after iteration: \",result)\n",
    "        return max(result)\n",
    "# tests\n",
    "p = PortForlio()\n",
    "print(p.getMax(5, [[2,4,2],[3,5,3],[1,3,-2]]))\n",
    "print(p.getMax(5, [[1,2,10], [2,4,5], [3,5,12]]))"
   ]
  },
  {
   "cell_type": "code",
   "execution_count": null,
   "id": "decent-posting",
   "metadata": {},
   "outputs": [],
   "source": []
  },
  {
   "cell_type": "code",
   "execution_count": null,
   "id": "confused-needle",
   "metadata": {},
   "outputs": [],
   "source": []
  },
  {
   "cell_type": "code",
   "execution_count": null,
   "id": "million-house",
   "metadata": {},
   "outputs": [],
   "source": []
  },
  {
   "cell_type": "markdown",
   "id": "fifth-hypothesis",
   "metadata": {},
   "source": [
    "# Recursion: binary tree, Linked List\n"
   ]
  },
  {
   "cell_type": "code",
   "execution_count": 1,
   "id": "rubber-belize",
   "metadata": {},
   "outputs": [],
   "source": [
    "# 1. count how many nodes are in the binary tree: \n",
    "def count(head):\n",
    "#     if head.left == None and head.right == None:\n",
    "#         return 1\n",
    "    if not head:\n",
    "        return 0\n",
    "    \n",
    "    return count(head.left) + count(head.right) + 1"
   ]
  },
  {
   "cell_type": "code",
   "execution_count": null,
   "id": "developed-weather",
   "metadata": {},
   "outputs": [],
   "source": []
  },
  {
   "cell_type": "code",
   "execution_count": null,
   "id": "activated-click",
   "metadata": {},
   "outputs": [],
   "source": []
  },
  {
   "cell_type": "code",
   "execution_count": null,
   "id": "tutorial-induction",
   "metadata": {},
   "outputs": [],
   "source": [
    "#!/bin/python3\n",
    "\n",
    "import math\n",
    "import os\n",
    "import random\n",
    "import re\n",
    "import sys\n",
    "\n",
    "\n",
    "\n",
    "#\n",
    "# Complete the 'compressWord' function below.\n",
    "#\n",
    "# The function is expected to return a STRING.\n",
    "# The function accepts following parameters:\n",
    "#  1. STRING word\n",
    "#  2. INTEGER k\n",
    "#\n",
    "\n",
    "def compressWord(word, k):\n",
    "    # Write your code here\n",
    "    ans = []\n",
    "    for i in range(len(word)):\n",
    "        ans.append(word[i])\n",
    "    \n",
    "    i, j = 0, 1\n",
    "    while i < j and j < len(ans):\n",
    "        if j - i + 1 == k:\n",
    "            for l in range(i,j+1):\n",
    "                ans.pop(l)\n",
    "        if ans[i] != ans[j]:\n",
    "            i = j\n",
    "        if ans[i] == ans[j]:\n",
    "            j += 1\n",
    "            \n",
    "    print(ans)\n",
    "    return \"\".join(ans)\n",
    "        \n",
    "            \n",
    "            \n",
    "    \n",
    "    \n",
    "\n",
    "if __name__ == '__main__':"
   ]
  }
 ],
 "metadata": {
  "kernelspec": {
   "display_name": "Python 3",
   "language": "python",
   "name": "python3"
  },
  "language_info": {
   "codemirror_mode": {
    "name": "ipython",
    "version": 3
   },
   "file_extension": ".py",
   "mimetype": "text/x-python",
   "name": "python",
   "nbconvert_exporter": "python",
   "pygments_lexer": "ipython3",
   "version": "3.7.10"
  }
 },
 "nbformat": 4,
 "nbformat_minor": 5
}
