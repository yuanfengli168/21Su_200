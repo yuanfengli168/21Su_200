{
 "cells": [
  {
   "cell_type": "markdown",
   "id": "bigger-grade",
   "metadata": {},
   "source": [
    "# LeetCode 102: 与你轻松刷好题 （Python)\n",
    "### LeetCode 102: LeetCode Cookbook (Python Version)\n",
    "作者：李元丰 Yuanfeng Li\n",
    "版本：草稿版 0.01 (丐中丐板-level 赤乞)\n",
    "（丐中丐的版本意思是我们可能看不太懂某些人的注释，但其实我们可以自己写出来，我们需要high level的指导，这个时候就要看书，回归书本。同时我们的代码有很多不完善，可以改进的小细节！我们会在后续的版本中给大家写出来，其实很多时候你是可以做到的，你要有自己的想法，用自己的一个套路，逐渐形成自己的套路，培养自己的思维，和证明能力，才能克服面试中的种种困难！）\n",
    "- 面向有Python 编程基础，缺乏刷题经验的读者的参考读物\n",
    "- 丐中丐第一版本开始于2021/03/14号， 截止于2021/04/02 中间Mar21到Mar27 号放春假，休息了7天！（总共用时13天-大概两周，有些仓促，但是解决了双指针，动态规划的一些小障碍）"
   ]
  },
  {
   "cell_type": "markdown",
   "id": "gothic-elder",
   "metadata": {},
   "source": [
    "## 贪心算法：\n",
    "- 分配问题"
   ]
  },
  {
   "cell_type": "code",
   "execution_count": 9,
   "id": "korean-looking",
   "metadata": {},
   "outputs": [],
   "source": [
    "# 455: Assign Cookies (Easy)\n",
    "# Class Solution:\n",
    "# def findContentChildren(self, g: List[int], s: List[int]) -> int:\n",
    "def findContentChildren(g, s):\n",
    "    '''\n",
    "    g: List[int]\n",
    "    s: List[int]\n",
    "    '''\n",
    "    g.sort()\n",
    "    s.sort()\n",
    "\n",
    "    children, cookie = 0, 0\n",
    "    while children < len(g) and cookie < len(s):\n",
    "        if g[children] <= s[cookie]:\n",
    "            children += 1\n",
    "        cookie += 1\n",
    "    return children"
   ]
  },
  {
   "cell_type": "code",
   "execution_count": 10,
   "id": "connected-huntington",
   "metadata": {},
   "outputs": [
    {
     "data": {
      "text/plain": [
       "2"
      ]
     },
     "execution_count": 10,
     "metadata": {},
     "output_type": "execute_result"
    }
   ],
   "source": [
    "# tests\n",
    "a = [10,9,8,7]\n",
    "b = [5,6,7,8]\n",
    "findContentChildren(a, b)"
   ]
  },
  {
   "cell_type": "code",
   "execution_count": 32,
   "id": "hidden-perfume",
   "metadata": {},
   "outputs": [],
   "source": [
    "# 135 Candy (Hard)\n",
    "def candy(ratings):\n",
    "    '''\n",
    "    type: ratings,list\n",
    "    rtype: result, int\n",
    "    '''\n",
    "    # using gready, we initialize the result first\n",
    "    len_ratings = len(ratings)\n",
    "    result = [1] * len_ratings\n",
    "    \n",
    "    # from left to right if the element in ratings on right\n",
    "    # is bigger, then it added 1\n",
    "    for i in range(len_ratings - 1):\n",
    "        if ratings[i] < ratings[i + 1]:\n",
    "            result[i + 1] = result[i] + 1\n",
    "    \n",
    "    \n",
    "    # from right from left if the element in rating of left\n",
    "    # is bigger then let left element added 1 if it is not larger\n",
    "    # then the right one\n",
    "    for i in range(len_ratings - 1, 0, -1):\n",
    "#         if ratings[i] < ratings[i - 1] and result[i - 1] <= result[i]:\n",
    "        if ratings[i] < ratings[i - 1]:\n",
    "            result[i - 1] = result[i] + 1\n",
    "            \n",
    "#     return sum(result), result\n",
    "    return sum(result), result\n"
   ]
  },
  {
   "cell_type": "code",
   "execution_count": 33,
   "id": "inappropriate-parent",
   "metadata": {},
   "outputs": [
    {
     "name": "stdout",
     "output_type": "stream",
     "text": [
      "(5, [2, 1, 2])\n",
      "(9, [1, 2, 3, 2, 1])\n"
     ]
    },
    {
     "data": {
      "text/plain": [
       "'\\n(5, [2, 1, 2])\\n(11, [1, 2, 3, 4, 1])\\n\\n'"
      ]
     },
     "execution_count": 33,
     "metadata": {},
     "output_type": "execute_result"
    }
   ],
   "source": [
    "# tests\n",
    "a = [1,0,2]\n",
    "b = [1,3,4,5,2]\n",
    "\n",
    "print(candy(a))\n",
    "print(candy(b))\n",
    "'''\n",
    "(5, [2, 1, 2])\n",
    "(11, [1, 2, 3, 4, 1])\n",
    "\n",
    "'''"
   ]
  },
  {
   "cell_type": "markdown",
   "id": "patient-orleans",
   "metadata": {},
   "source": [
    "#### 总结"
   ]
  },
  {
   "cell_type": "markdown",
   "id": "incorporate-strike",
   "metadata": {},
   "source": [
    "好像他知道两次就一定能得出正确答案一样，实时也确实如此，但是我想不懂为什么呢？\n",
    "我只能瞎试验，可是心里没底，这怎么证明试两次一定能得到正确答案呢？"
   ]
  },
  {
   "cell_type": "markdown",
   "id": "increasing-eagle",
   "metadata": {},
   "source": [
    "- 区间问题"
   ]
  },
  {
   "cell_type": "code",
   "execution_count": 42,
   "id": "ethical-heater",
   "metadata": {},
   "outputs": [
    {
     "name": "stdout",
     "output_type": "stream",
     "text": [
      "original [[1, 2], [2, 3], [3, 4], [1, 3]]\n",
      "original.sort() [[1, 2], [1, 3], [2, 3], [3, 4]]\n",
      "sorted() [[1, 2], [1, 3], [2, 3], [3, 4]]\n",
      "original2 [[1, 2], [2, 3], [3, 4], [1, 3]]\n",
      "original2.sort() [[1, 2], [2, 3], [1, 3], [3, 4]]\n"
     ]
    }
   ],
   "source": [
    "list1 = [[1,2],[2,3],[3,4],[1,3]]\n",
    "print('original', list1)\n",
    "list1.sort()\n",
    "print('original.sort()', list1)\n",
    "\n",
    "print('sorted()', sorted(list1, key = lambda x : x[1]))\n",
    "\n",
    "\n",
    "list1 = [[1,2],[2,3],[3,4],[1,3]]\n",
    "print('original2', list1)\n",
    "list1.sort(key = lambda x : x[1])\n",
    "print('original2.sort()', list1)"
   ]
  },
  {
   "cell_type": "code",
   "execution_count": 36,
   "id": "excess-dispute",
   "metadata": {},
   "outputs": [
    {
     "data": {
      "text/plain": [
       "[[1, 2], [1, 3], [2, 3], [3, 4]]"
      ]
     },
     "execution_count": 36,
     "metadata": {},
     "output_type": "execute_result"
    }
   ],
   "source": [
    "list1"
   ]
  },
  {
   "cell_type": "code",
   "execution_count": 43,
   "id": "loved-explorer",
   "metadata": {},
   "outputs": [
    {
     "data": {
      "text/plain": [
       "['__add__',\n",
       " '__class__',\n",
       " '__contains__',\n",
       " '__delattr__',\n",
       " '__delitem__',\n",
       " '__dir__',\n",
       " '__doc__',\n",
       " '__eq__',\n",
       " '__format__',\n",
       " '__ge__',\n",
       " '__getattribute__',\n",
       " '__getitem__',\n",
       " '__gt__',\n",
       " '__hash__',\n",
       " '__iadd__',\n",
       " '__imul__',\n",
       " '__init__',\n",
       " '__init_subclass__',\n",
       " '__iter__',\n",
       " '__le__',\n",
       " '__len__',\n",
       " '__lt__',\n",
       " '__mul__',\n",
       " '__ne__',\n",
       " '__new__',\n",
       " '__reduce__',\n",
       " '__reduce_ex__',\n",
       " '__repr__',\n",
       " '__reversed__',\n",
       " '__rmul__',\n",
       " '__setattr__',\n",
       " '__setitem__',\n",
       " '__sizeof__',\n",
       " '__str__',\n",
       " '__subclasshook__',\n",
       " 'append',\n",
       " 'clear',\n",
       " 'copy',\n",
       " 'count',\n",
       " 'extend',\n",
       " 'index',\n",
       " 'insert',\n",
       " 'pop',\n",
       " 'remove',\n",
       " 'reverse',\n",
       " 'sort']"
      ]
     },
     "execution_count": 43,
     "metadata": {},
     "output_type": "execute_result"
    }
   ],
   "source": [
    "dir(list)"
   ]
  },
  {
   "cell_type": "code",
   "execution_count": 52,
   "id": "danish-contractor",
   "metadata": {},
   "outputs": [],
   "source": [
    "# 435\n",
    "# def eraseOverlapIntervals(self, intervals: List[List[int]]) -> int:\n",
    "def eraseOverlapIntervals(intervals):\n",
    "        # edge case\n",
    "        # if len(intervals) is 0:\n",
    "        if intervals == []:\n",
    "            return 0\n",
    "        \n",
    "        # sorting the whole list\n",
    "        # intervals = sorted(intervals, key = lambda x : x[1])\n",
    "        intervals.sort(key = lambda x:x[1])\n",
    "        \n",
    "        \n",
    "        # print(intervals[0][1])\n",
    "        total, prev = 0, intervals[0][1]\n",
    "        for i in range(1, len(intervals)):\n",
    "#             print(total, prev)\n",
    "            if intervals[i][0] < prev:\n",
    "                total += 1\n",
    "            else:\n",
    "                prev = intervals[i][1]\n",
    "        return total"
   ]
  },
  {
   "cell_type": "code",
   "execution_count": 53,
   "id": "planned-armstrong",
   "metadata": {},
   "outputs": [
    {
     "name": "stdout",
     "output_type": "stream",
     "text": [
      "0\n",
      "1\n",
      "2\n"
     ]
    }
   ],
   "source": [
    "# tests\n",
    "a = []\n",
    "b = [[1,2],[2,3],[3,4],[1,3]]\n",
    "c = [[1,2],[1,2],[1,2]]\n",
    "\n",
    "print(eraseOverlapIntervals(a))\n",
    "print(eraseOverlapIntervals(b))\n",
    "print(eraseOverlapIntervals(c))"
   ]
  },
  {
   "cell_type": "markdown",
   "id": "driven-saying",
   "metadata": {},
   "source": [
    "- 本题小结余：\n",
    "1. 为什么要一第二个来sort（）这个list？\n",
    "2. sorted(), list.sort() 中如何自定义key？\n",
    "3. is 和 not is 与 ==/!= 到底是不是一个意思？\n",
    "\n",
    "Answers:\n",
    "3. is and is not are the identity operators in Python. They are used to check if two values (or variables) are located on the same part of the memory. Two variables that are equal does not imply that they are identical. Operator. Meaning.\n",
    "\n",
    "bool(False)\n",
    "bool(None)\n",
    "bool(0)\n",
    "bool(\"\")\n",
    "bool(())\n",
    "bool([])\n",
    "bool({})\n",
    "They are all false!!\n",
    "\n",
    "我最开始写成了： **if intervals is [] ---> if intervals is False/ 与 if intervals == [] 完全不一样!**\n",
    "\n",
    "2. https://docs.python.org/3/howto/sorting.html,\n",
    "https://www.programiz.com/python-programming/methods/list/sort\n"
   ]
  },
  {
   "cell_type": "code",
   "execution_count": 54,
   "id": "opposite-perfume",
   "metadata": {},
   "outputs": [],
   "source": [
    "# 605: can place flowers, ez\n",
    "def canPlaceFlowers(flowerbed, n):\n",
    "    if n == 0: return True\n",
    "    dp = [0] + flowerbed + [0]\n",
    "    for i in range(1, len(dp) - 1):\n",
    "        if dp[i - 1] == 0 and dp[i] == 0 and dp[i + 1] == 0:\n",
    "            dp[i] = 1\n",
    "            n -= 1\n",
    "            if n == 0: return True\n",
    "    return False"
   ]
  },
  {
   "cell_type": "markdown",
   "id": "authentic-october",
   "metadata": {},
   "source": [
    "https://leetcode.com/problems/can-place-flowers/discuss/960808/Python-3%3A-standard-greedy-approach-with-an-understandable-explanation"
   ]
  },
  {
   "cell_type": "code",
   "execution_count": 56,
   "id": "original-alexandria",
   "metadata": {},
   "outputs": [],
   "source": [
    "# 452 Minimum Number of Arrows to Burst Balloons\n",
    "# def findMinArrowShots(self, points: List[List[int]]) -> int:\n",
    "def findMinArrowShots(points):\n",
    "        if not points:\n",
    "            return 0\n",
    "        \n",
    "        # sort by x_end\n",
    "        points.sort(key = lambda x: x[1])\n",
    "        \n",
    "        arrows = 1\n",
    "        first_end = points[0][1]\n",
    "        for x_start, x_end in points:\n",
    "            if first_end < x_start:\n",
    "                arrows += 1\n",
    "                first_end = x_end\n",
    "        return arrows\n",
    "        "
   ]
  },
  {
   "cell_type": "markdown",
   "id": "southwest-interstate",
   "metadata": {},
   "source": [
    "# 双指针"
   ]
  },
  {
   "cell_type": "markdown",
   "id": "upper-genealogy",
   "metadata": {},
   "source": [
    "# 167 two sumII"
   ]
  },
  {
   "cell_type": "code",
   "execution_count": 2,
   "id": "formed-saturday",
   "metadata": {},
   "outputs": [],
   "source": [
    "\n",
    "# def twoSum(self, numbers: List[int], target: int) -> List[int]:\n",
    "def twoSum(numbers, target):\n",
    "    '''\n",
    "    \n",
    "    '''\n",
    "    l,r = 0, len(numbers) - 1\n",
    "    while numbers[l] + numbers[r] != target:\n",
    "        if numbers[l] + numbers[r] > target:\n",
    "            r -= 1\n",
    "        else:\n",
    "            l += 1\n",
    "    return [l+1, r+1]\n"
   ]
  },
  {
   "cell_type": "code",
   "execution_count": null,
   "id": "celtic-producer",
   "metadata": {},
   "outputs": [],
   "source": [
    "# 88 sort merge array\n",
    "# 从前往后比谁小， 从后往前比谁大\n",
    "def merge(self, nums1: List[int], m: int, nums2: List[int], n: int) -> None:\n",
    "        \"\"\"\n",
    "        Do not return anything, modify nums1 in-place instead.\n",
    "        \"\"\"\n",
    "        \n",
    "        # Set p1 and p2 to point to the end of their respective arrays.\n",
    "        p1 = m - 1\n",
    "        p2 = n - 1\n",
    "    \n",
    "        # And move p backwards through the array, each time writing\n",
    "        # the smallest value pointed at by p1 or p2.\n",
    "        for p in range(n + m - 1, -1, -1):\n",
    "            if p2 < 0:\n",
    "                break\n",
    "            if p1 >= 0 and nums1[p1] > nums2[p2]:\n",
    "                nums1[p] = nums1[p1]\n",
    "                p1 -= 1\n",
    "            else:\n",
    "                nums1[p] = nums2[p2]\n",
    "                p2 -= 1\n",
    "                \n",
    "                \n",
    "# 从前往后：\n",
    "class Solution:\n",
    "    def merge(self, nums1: List[int], m: int, nums2: List[int], n: int) -> None:\n",
    "        \"\"\"\n",
    "        Do not return anything, modify nums1 in-place instead.\n",
    "        \"\"\"\n",
    "        # Make a copy of the first m elements of nums1.\n",
    "        nums1_copy = nums1[:m] \n",
    "        \n",
    "        # Read pointers for nums1Copy and nums2 respectively.\n",
    "        p1 = 0\n",
    "        p2 = 0\n",
    "        \n",
    "        # Compare elements from nums1Copy and nums2 and write the smallest to nums1.\n",
    "        for p in range(n + m):\n",
    "            # We also need to ensure that p1 and p2 aren't over the boundaries\n",
    "            # of their respective arrays.\n",
    "            if p2 >= n or (p1 < m and nums1_copy[p1] <= nums2[p2]):\n",
    "                nums1[p] = nums1_copy[p1] \n",
    "                p1 += 1\n",
    "            else:\n",
    "                nums1[p] = nums2[p2]\n",
    "                p2 += 1"
   ]
  },
  {
   "cell_type": "code",
   "execution_count": 2,
   "id": "rental-fantasy",
   "metadata": {},
   "outputs": [],
   "source": [
    "# 142, Linked List Cycle II (Medium)\n",
    "# option 1 using using set() pointers:\n",
    "def detectCycle(self, head):\n",
    "        visited = set()\n",
    "\n",
    "        node = head\n",
    "        while node is not None:\n",
    "            if node in visited:\n",
    "                return node\n",
    "            else:\n",
    "                visited.add(node)\n",
    "                node = node.next\n",
    "\n",
    "        return None\n",
    "\n",
    "# option 2 using fast and slow pointers:\n",
    "class Solution(object):\n",
    "    def getIntersect(self, head):\n",
    "        tortoise = head\n",
    "        hare = head\n",
    "\n",
    "        # A fast pointer will either loop around a cycle and meet the slow\n",
    "        # pointer or reach the `null` at the end of a non-cyclic list.\n",
    "        while hare is not None and hare.next is not None:\n",
    "            tortoise = tortoise.next\n",
    "            hare = hare.next.next\n",
    "            if tortoise == hare:\n",
    "                return tortoise\n",
    "\n",
    "        return None\n",
    "\n",
    "    def detectCycle(self, head):\n",
    "        if head is None:\n",
    "            return None\n",
    "\n",
    "        # If there is a cycle, the fast/slow pointers will intersect at some\n",
    "        # node. Otherwise, there is no cycle, so we cannot find an entrance to\n",
    "        # a cycle.\n",
    "        intersect = self.getIntersect(head)\n",
    "        if intersect is None:\n",
    "            return None\n",
    "\n",
    "        # To find the entrance to the cycle, we have two pointers traverse at\n",
    "        # the same speed -- one from the front of the list, and the other from\n",
    "        # the point of intersection.\n",
    "        ptr1 = head\n",
    "        ptr2 = intersect\n",
    "        while ptr1 != ptr2:\n",
    "            ptr1 = ptr1.next\n",
    "            ptr2 = ptr2.next\n",
    "\n",
    "        return ptr1\n"
   ]
  },
  {
   "cell_type": "markdown",
   "id": "aggregate-lecture",
   "metadata": {},
   "source": [
    "# 二分查找"
   ]
  },
  {
   "cell_type": "code",
   "execution_count": 1,
   "id": "expanded-embassy",
   "metadata": {},
   "outputs": [],
   "source": [
    "# 69"
   ]
  },
  {
   "cell_type": "code",
   "execution_count": 9,
   "id": "deadly-completion",
   "metadata": {},
   "outputs": [
    {
     "name": "stdout",
     "output_type": "stream",
     "text": [
      "\n"
     ]
    }
   ],
   "source": [
    "%%script echo\n",
    "# 34 34. Find First and Last Position of Element in Sorted Array\n",
    "\n",
    "class Solution:\n",
    "# @param A, a list of integers\n",
    "# @param target, an integer to be searched\n",
    "# @return a list of length 2, [index1, index2]\n",
    "    def searchRange(self, A, target):\n",
    "\n",
    "        lmost = self.leftsearch(A,target)\n",
    "        rmost = self.rightsearch(A,target)\n",
    "        return[lmost,rmost]\n",
    "\n",
    "    def leftsearch(self,A,tar):\n",
    "        l = 0\n",
    "        r = len(A)-1\n",
    "        tarI = -1#target index\n",
    "        while l <= r:\n",
    "            mid = (l+r)//2\n",
    "            if A[mid] > tar:\n",
    "                r = mid - 1\n",
    "            elif A[mid] < tar:\n",
    "                l = mid + 1\n",
    "            else:\n",
    "                tarI = mid\n",
    "                r = mid - 1\n",
    "        return tarI\n",
    "\n",
    "\n",
    "    def rightsearch(self,A,tar):\n",
    "        l = 0\n",
    "        r = len(A)-1\n",
    "        tarI = -1\n",
    "        while l <= r:\n",
    "            mid = (l+r)//2\n",
    "            if A[mid] > tar:\n",
    "                r = mid -1\n",
    "            elif A[mid] <tar:\n",
    "                l = mid + 1\n",
    "            else:\n",
    "                tarI = mid\n",
    "                l = mid+1\n",
    "        return tarI"
   ]
  },
  {
   "cell_type": "code",
   "execution_count": 13,
   "id": "incoming-mounting",
   "metadata": {},
   "outputs": [
    {
     "name": "stdout",
     "output_type": "stream",
     "text": [
      "\n"
     ]
    }
   ],
   "source": [
    "%%script echo\n",
    "# 81 81. Search in Rotated Sorted Array II\n",
    "# Mine solution, first make it back to normal, and then use binary search\n",
    "# However, it will make the whole process back to O(n) again, which is not \n",
    "# what we want!\n",
    "\n",
    "class Solution:\n",
    "    def search(self, nums: List[int], target: int) -> bool:\n",
    "        # use iteration\n",
    "        pivot = 0\n",
    "        n = len(nums)\n",
    "        for i in range(n - 1):\n",
    "            if nums[i] > nums[i + 1]:\n",
    "                pivot = i + 1\n",
    "        \n",
    "        new_list = nums[pivot:] + nums[0:pivot]\n",
    "        print(new_list)\n",
    "        \n",
    "        low, high = 0, n - 1\n",
    "        while low <= high:\n",
    "            \n",
    "            mid = (low + high) // 2\n",
    "            print(low, mid, high)\n",
    "            if new_list[mid] < target:\n",
    "                low = mid + 1\n",
    "            elif new_list[mid] > target:\n",
    "                high = mid - 1\n",
    "            else:\n",
    "                return True\n",
    "        return False\n",
    "\n",
    "# 谷歌大神的算法：\n",
    "class Solution:\n",
    "    def search(self, nums: List[int], target: int) -> bool:\n",
    "        n = len(nums)\n",
    "        \n",
    "        start = 0; end = n - 1\n",
    "        while start <= end:\n",
    "            mid = (start + end) // 2\n",
    "            if nums[mid] == target:\n",
    "                return True\n",
    "            \n",
    "            # can't tell which is sorted \n",
    "            if nums[start] == nums[mid]:\n",
    "                start += 1\n",
    "            elif nums[mid] <= nums[end]:\n",
    "                # we know the right part is sorted in ascending order\n",
    "                if target > nums[mid] and target <= nums[end]:\n",
    "                    start = mid + 1\n",
    "                else:\n",
    "                    end = mid - 1\n",
    "            else:\n",
    "                # we know the left part is sorted\n",
    "                if target >= nums[start] and target < nums[mid]:\n",
    "                    end = mid - 1\n",
    "                else:\n",
    "                    start = mid + 1\n",
    "        return False\n"
   ]
  },
  {
   "cell_type": "code",
   "execution_count": 15,
   "id": "welcome-damages",
   "metadata": {},
   "outputs": [
    {
     "name": "stdout",
     "output_type": "stream",
     "text": [
      "\n"
     ]
    }
   ],
   "source": [
    "%%script echo\n",
    "# 153. Find Minimum in rotated Sorted Array:\n",
    "# 答案解释得非常好，而我自己的想法总是要同时确定好几件事，确实不是\n",
    "# 想确定的变量越少越好！\n",
    "\n",
    "class Solution:\n",
    "    def findMin(self, nums: List[int]) -> int:\n",
    "        n = len(nums)\n",
    "        if n == 1:\n",
    "            return nums[0]\n",
    "        \n",
    "        low = 0; high = n - 1\n",
    "        if nums[low] < nums[high]:\n",
    "            return nums[0]\n",
    "        \n",
    "        while low <= high:\n",
    "            mid = low + (high - low) // 2  # you can not use '(low + high) //2' here, index out of range\n",
    "            \n",
    "            \n",
    "            if nums[mid] > nums[mid + 1]:\n",
    "                return nums[mid + 1]\n",
    "            \n",
    "            if nums[mid - 1] > nums[mid]:\n",
    "                return nums[mid]\n",
    "\n",
    "        \n",
    "            if nums[mid] > nums[0]:\n",
    "                low = mid + 1\n",
    "            else:\n",
    "                high = mid - 1"
   ]
  },
  {
   "cell_type": "code",
   "execution_count": 16,
   "id": "square-amino",
   "metadata": {},
   "outputs": [
    {
     "name": "stdout",
     "output_type": "stream",
     "text": [
      "https://leetcode.com/problems/find-minimum-in-rotated-sorted-array-ii/solution/\n"
     ]
    }
   ],
   "source": [
    "%%script echo https://leetcode.com/problems/find-minimum-in-rotated-sorted-array-ii/solution/\n",
    "# 154:\n",
    "# 说实话每台想出来，没太看出来，呜呜呜呜\n",
    "class Solution:\n",
    "    def findMin(self, nums: List[int]) -> int:    \n",
    "        low = 0\n",
    "        high = len(nums)-1\n",
    "        while high > low:\n",
    "            pivot = low + (high - low) // 2\n",
    "            # risk of overflow: pivot = (low + high) // 2\n",
    "            # Case 1):\n",
    "            if nums[pivot] < nums[high]:\n",
    "                high = pivot \n",
    "                # alternative: high = pivot - 1\n",
    "                # too aggressive to move the `high` index,\n",
    "                # it won't work for the test case of [3, 1, 3]\n",
    "            # Case 2):\n",
    "            elif nums[pivot] > nums[high]:\n",
    "                low = pivot + 1\n",
    "            # Case 3):\n",
    "            else:\n",
    "                high -= 1\n",
    "        # the 'low' and 'high' index converge to the inflection point.\n",
    "        return nums[low]"
   ]
  },
  {
   "cell_type": "markdown",
   "id": "ethical-kennedy",
   "metadata": {},
   "source": [
    "# 第五章 千奇百怪的排序算法"
   ]
  },
  {
   "cell_type": "code",
   "execution_count": null,
   "id": "mysterious-greenhouse",
   "metadata": {},
   "outputs": [],
   "source": []
  },
  {
   "cell_type": "code",
   "execution_count": null,
   "id": "dutch-celtic",
   "metadata": {},
   "outputs": [],
   "source": []
  },
  {
   "cell_type": "code",
   "execution_count": null,
   "id": "divided-specific",
   "metadata": {},
   "outputs": [],
   "source": []
  },
  {
   "cell_type": "code",
   "execution_count": 4,
   "id": "funky-candy",
   "metadata": {},
   "outputs": [],
   "source": [
    "%%script echo Using quick sort and quick select\n",
    "# 215 Kth largest element in an Array\n",
    "# Mine adjusted java like methods\n",
    "class Solution:\n",
    "    def findKthLargest(self, nums, k):\n",
    "        \"\"\"\n",
    "        :type nums: List[int]\n",
    "        :type k: int\n",
    "        :rtype: int\n",
    "        \"\"\"\n",
    "        # kth largest is (n - k)th smallest \n",
    "        return self.select(0, len(nums) - 1, len(nums) - k, nums)\n",
    "        \n",
    "    def partition(self, left, right, pivot_index, nums):\n",
    "        pivot = nums[pivot_index]\n",
    "        # 1. move pivot to end\n",
    "        nums[pivot_index], nums[right] = nums[right], nums[pivot_index]  \n",
    "\n",
    "        # 2. move all smaller elements to the left\n",
    "        store_index = left\n",
    "        for i in range(left, right):\n",
    "            if nums[i] < pivot:\n",
    "                nums[store_index], nums[i] = nums[i], nums[store_index]\n",
    "                store_index += 1\n",
    "\n",
    "        # 3. move pivot to its final place\n",
    "        nums[right], nums[store_index] = nums[store_index], nums[right]  \n",
    "\n",
    "        return store_index\n",
    "\n",
    "    def select(self, left, right, k_smallest, nums):\n",
    "        \"\"\"\n",
    "        Returns the k-th smallest element of list within left..right\n",
    "        \"\"\"\n",
    "        if left == right:       # If the list contains only one element,\n",
    "            return nums[left]   # return that element\n",
    "\n",
    "        # select a random pivot_index between \n",
    "        pivot_index = random.randint(left, right)     \n",
    "\n",
    "        # find the pivot position in a sorted list   \n",
    "        pivot_index = self.partition(left, right, pivot_index, nums)\n",
    "\n",
    "        # the pivot is in its final sorted position\n",
    "        if k_smallest == pivot_index:\n",
    "             return nums[k_smallest]\n",
    "        # go left\n",
    "        elif k_smallest < pivot_index:\n",
    "            return self.select(left, pivot_index - 1, k_smallest, nums)\n",
    "        # go right\n",
    "        else:\n",
    "            return self.select(pivot_index + 1, right, k_smallest, nums)\n",
    "        \n",
    "# leetcode's solutions\n",
    "class Solution:\n",
    "    def findKthLargest(self, nums, k):\n",
    "        \"\"\"\n",
    "        :type nums: List[int]\n",
    "        :type k: int\n",
    "        :rtype: int\n",
    "        \"\"\"\n",
    "        def partition(left, right, pivot_index):\n",
    "            pivot = nums[pivot_index]\n",
    "            # 1. move pivot to end\n",
    "            nums[pivot_index], nums[right] = nums[right], nums[pivot_index]  \n",
    "            \n",
    "            # 2. move all smaller elements to the left\n",
    "            store_index = left\n",
    "            for i in range(left, right):\n",
    "                if nums[i] < pivot:\n",
    "                    nums[store_index], nums[i] = nums[i], nums[store_index]\n",
    "                    store_index += 1\n",
    "\n",
    "            # 3. move pivot to its final place\n",
    "            nums[right], nums[store_index] = nums[store_index], nums[right]  \n",
    "            \n",
    "            return store_index\n",
    "        \n",
    "        def select(left, right, k_smallest):\n",
    "            \"\"\"\n",
    "            Returns the k-th smallest element of list within left..right\n",
    "            \"\"\"\n",
    "            if left == right:       # If the list contains only one element,\n",
    "                return nums[left]   # return that element\n",
    "            \n",
    "            # select a random pivot_index between \n",
    "            pivot_index = random.randint(left, right)     \n",
    "                            \n",
    "            # find the pivot position in a sorted list   \n",
    "            pivot_index = partition(left, right, pivot_index)\n",
    "            \n",
    "            # the pivot is in its final sorted position\n",
    "            if k_smallest == pivot_index:\n",
    "                 return nums[k_smallest]\n",
    "            # go left\n",
    "            elif k_smallest < pivot_index:\n",
    "                return select(left, pivot_index - 1, k_smallest)\n",
    "            # go right\n",
    "            else:\n",
    "                return select(pivot_index + 1, right, k_smallest)\n",
    "\n",
    "        # kth largest is (n - k)th smallest \n",
    "        return select(0, len(nums) - 1, len(nums) - k)"
   ]
  },
  {
   "cell_type": "code",
   "execution_count": 5,
   "id": "voluntary-daughter",
   "metadata": {},
   "outputs": [],
   "source": [
    "# 347 Top K Frequent Elements(Medium)\n",
    "from collections import Counter\n",
    "class Solution:\n",
    "#     def topKFrequent(self, nums: List[int], k: int) -> List[int]:\n",
    "    def topKFrequent(self, nums, k):\n",
    "        if k == len(nums):\n",
    "            return nums\n",
    "        \n",
    "        # build the hash map\n",
    "        count = Counter(nums)\n",
    "#         print(type(count))\n",
    "        return heapq.nlargest(k, count.keys(), key=count.get)\n",
    "\n",
    "# my way of doing it without import collections\n",
    "class Solution:\n",
    "#     def topKFrequent(self, nums: List[int], k: int) -> List[int]:\n",
    "    def topKFrequent(self, nums, k):\n",
    "        if k == len(nums):\n",
    "            return nums\n",
    "        \n",
    "        count = {}\n",
    "        for element in nums:\n",
    "            if element not in count:\n",
    "                count[element] = 1\n",
    "            else:\n",
    "                count[element] += 1\n",
    "        return heapq.nlargest(k, count.keys(), key=count.get)"
   ]
  },
  {
   "cell_type": "markdown",
   "id": "absent-adams",
   "metadata": {},
   "source": [
    "- 个人感觉面试的时候是不会出现可以引用的情况。\n",
    "- 发现heapq居然是standard library\n"
   ]
  },
  {
   "cell_type": "code",
   "execution_count": null,
   "id": "incorrect-thought",
   "metadata": {},
   "outputs": [],
   "source": [
    "# 451. Sort Characters By Frequency\n",
    "# Solution 就很管用\n",
    "class Solution:\n",
    "    def frequencySort(self, s: str) -> str:\n",
    "        if not s: return s\n",
    "        \n",
    "        counts = collections.Counter(s)\n",
    "        max_freq = max(counts.values())\n",
    "        \n",
    "        buckets = [[] for _ in range(max_freq + 1)]\n",
    "        for c, i in counts.items():\n",
    "            buckets[i].append(c)\n",
    "        # print(buckets)\n",
    "        \n",
    "        # Build up the string\n",
    "        string_builder = []\n",
    "        for i in range(len(buckets) - 1, 0, -1):\n",
    "            for c in buckets[i]:\n",
    "                string_builder.append(c * i)\n",
    "        # print(string_builder)\n",
    "        \n",
    "        return \"\".join(string_builder)\n",
    "    \n",
    "    \n"
   ]
  },
  {
   "cell_type": "code",
   "execution_count": null,
   "id": "instant-middle",
   "metadata": {},
   "outputs": [],
   "source": [
    "# 75 Sort Colors\n",
    "# Solution is very good!\n",
    "class Solution:\n",
    "    def sortColors(self, nums: List[int]) -> None:\n",
    "        \"\"\"\n",
    "        Do not return anything, modify nums in-place instead.\n",
    "        \"\"\"\n",
    "        # for all idx < p0: nums[idx < p0] == 0\n",
    "        # curr is an index of element under consideration\n",
    "        # , for all idx > p2: nums[idx > p2] = 2\n",
    "        p0 = curr = 0; p2 = len(nums) - 1\n",
    "        \n",
    "        while curr <= p2:\n",
    "            if nums[curr] == 0:\n",
    "                nums[p0], nums[curr] = nums[curr], nums[p0]\n",
    "                p0 += 1\n",
    "                curr += 1\n",
    "            elif nums[curr] == 2:\n",
    "                nums[curr], nums[p2] = nums[p2], nums[curr]\n",
    "                p2 -= 1\n",
    "            else:\n",
    "                curr += 1"
   ]
  },
  {
   "cell_type": "code",
   "execution_count": 7,
   "id": "similar-synthetic",
   "metadata": {},
   "outputs": [
    {
     "name": "stdout",
     "output_type": "stream",
     "text": [
      "https://leetcode-cn.com/problems/sort-list/solution/pai-xu-lian-biao-by-leetcode-solution/\n"
     ]
    }
   ],
   "source": [
    "%%script echo https://leetcode-cn.com/problems/sort-list/solution/pai-xu-lian-biao-by-leetcode-solution/\n",
    "# 148 题带着147， 21题都出来了，并且还包括了链表。\n",
    "# 148 中文版解释的非常不错：\n",
    "class Solution:\n",
    "    def sortList(self, head: ListNode) -> ListNode:\n",
    "        def merge(head1: ListNode, head2: ListNode) -> ListNode:\n",
    "            dummyHead = ListNode(0)\n",
    "            temp, temp1, temp2 = dummyHead, head1, head2\n",
    "            while temp1 and temp2:\n",
    "                if temp1.val <= temp2.val:\n",
    "                    temp.next = temp1\n",
    "                    temp1 = temp1.next\n",
    "                else:\n",
    "                    temp.next = temp2\n",
    "                    temp2 = temp2.next\n",
    "                temp = temp.next\n",
    "            if temp1:\n",
    "                temp.next = temp1\n",
    "            elif temp2:\n",
    "                temp.next = temp2\n",
    "            return dummyHead.next\n",
    "        \n",
    "        if not head:\n",
    "            return head\n",
    "        \n",
    "        length = 0\n",
    "        node = head\n",
    "        while node:\n",
    "            length += 1\n",
    "            node = node.next\n",
    "        \n",
    "        dummyHead = ListNode(0, head)\n",
    "        subLength = 1\n",
    "        while subLength < length:\n",
    "            prev, curr = dummyHead, dummyHead.next\n",
    "            while curr:\n",
    "                head1 = curr\n",
    "                for i in range(1, subLength):\n",
    "                    if curr.next:\n",
    "                        curr = curr.next\n",
    "                    else:\n",
    "                        break\n",
    "                head2 = curr.next\n",
    "                curr.next = None\n",
    "                curr = head2\n",
    "                for i in range(1, subLength):\n",
    "                    if curr and curr.next:\n",
    "                        curr = curr.next\n",
    "                    else:\n",
    "                        break\n",
    "                \n",
    "                succ = None\n",
    "                if curr:\n",
    "                    succ = curr.next\n",
    "                    curr.next = None\n",
    "                \n",
    "                merged = merge(head1, head2)\n",
    "                prev.next = merged\n",
    "                while prev.next:\n",
    "                    prev = prev.next\n",
    "                curr = succ\n",
    "            subLength <<= 1\n",
    "        \n",
    "        return dummyHead.next\n",
    "\n",
    "\"\"\"\n",
    "虽然速度很慢，\n",
    "但是满足了 time: O(logn); space: O(1)\n",
    "\n",
    "\"\"\""
   ]
  },
  {
   "cell_type": "markdown",
   "id": "interim-melissa",
   "metadata": {},
   "source": [
    "# 搜索 （和动归一样都是我的弱点）"
   ]
  },
  {
   "cell_type": "code",
   "execution_count": null,
   "id": "vital-listening",
   "metadata": {},
   "outputs": [],
   "source": []
  },
  {
   "cell_type": "code",
   "execution_count": 1,
   "id": "serious-hundred",
   "metadata": {},
   "outputs": [
    {
     "data": {
      "text/plain": [
       "['__call__',\n",
       " '__class__',\n",
       " '__delattr__',\n",
       " '__dir__',\n",
       " '__doc__',\n",
       " '__eq__',\n",
       " '__format__',\n",
       " '__ge__',\n",
       " '__getattribute__',\n",
       " '__gt__',\n",
       " '__hash__',\n",
       " '__init__',\n",
       " '__init_subclass__',\n",
       " '__le__',\n",
       " '__lt__',\n",
       " '__module__',\n",
       " '__name__',\n",
       " '__ne__',\n",
       " '__new__',\n",
       " '__qualname__',\n",
       " '__reduce__',\n",
       " '__reduce_ex__',\n",
       " '__repr__',\n",
       " '__self__',\n",
       " '__setattr__',\n",
       " '__sizeof__',\n",
       " '__str__',\n",
       " '__subclasshook__',\n",
       " '__text_signature__']"
      ]
     },
     "execution_count": 1,
     "metadata": {},
     "output_type": "execute_result"
    }
   ],
   "source": [
    "dir(sorted)"
   ]
  },
  {
   "cell_type": "code",
   "execution_count": 2,
   "id": "fewer-hammer",
   "metadata": {},
   "outputs": [
    {
     "data": {
      "text/plain": [
       "['__and__',\n",
       " '__class__',\n",
       " '__contains__',\n",
       " '__delattr__',\n",
       " '__dir__',\n",
       " '__doc__',\n",
       " '__eq__',\n",
       " '__format__',\n",
       " '__ge__',\n",
       " '__getattribute__',\n",
       " '__gt__',\n",
       " '__hash__',\n",
       " '__iand__',\n",
       " '__init__',\n",
       " '__init_subclass__',\n",
       " '__ior__',\n",
       " '__isub__',\n",
       " '__iter__',\n",
       " '__ixor__',\n",
       " '__le__',\n",
       " '__len__',\n",
       " '__lt__',\n",
       " '__ne__',\n",
       " '__new__',\n",
       " '__or__',\n",
       " '__rand__',\n",
       " '__reduce__',\n",
       " '__reduce_ex__',\n",
       " '__repr__',\n",
       " '__ror__',\n",
       " '__rsub__',\n",
       " '__rxor__',\n",
       " '__setattr__',\n",
       " '__sizeof__',\n",
       " '__str__',\n",
       " '__sub__',\n",
       " '__subclasshook__',\n",
       " '__xor__',\n",
       " 'add',\n",
       " 'clear',\n",
       " 'copy',\n",
       " 'difference',\n",
       " 'difference_update',\n",
       " 'discard',\n",
       " 'intersection',\n",
       " 'intersection_update',\n",
       " 'isdisjoint',\n",
       " 'issubset',\n",
       " 'issuperset',\n",
       " 'pop',\n",
       " 'remove',\n",
       " 'symmetric_difference',\n",
       " 'symmetric_difference_update',\n",
       " 'union',\n",
       " 'update']"
      ]
     },
     "execution_count": 2,
     "metadata": {},
     "output_type": "execute_result"
    }
   ],
   "source": [
    "dir(set)"
   ]
  },
  {
   "cell_type": "markdown",
   "id": "searching-walnut",
   "metadata": {},
   "source": [
    "### 695. Max Area of Island（Medium）\n",
    "- 完全是自己做出来的！！\n",
    "- 怎么做出来的呢？？看如下的代码，虽然是丐中丐版本的但是！完全是我自己写出来的哟！\n",
    "\n",
    "#### 总结：\n",
    "1. 不会的时候要放晚上想一想，第二天早上起来写！\n",
    "2. 当相同的python class要叫另一个helper method的时候，用self.islandSize()就好！\n"
   ]
  },
  {
   "cell_type": "code",
   "execution_count": null,
   "id": "artificial-rings",
   "metadata": {},
   "outputs": [],
   "source": [
    "%%script echo skipping\n",
    "from collections import deque\n",
    "\n",
    "class Solution:\n",
    "    def maxAreaOfIsland(self, grid: List[List[int]]) -> int:\n",
    "        # iterate through all the points that is in the dimension\n",
    "        area_size = []\n",
    "    \n",
    "        for i in range(len(grid)):\n",
    "            for j in range(len(grid[i])):\n",
    "                # if the point is 1, then using the helper method to return \n",
    "                # its area size \n",
    "                if grid[i][j] == 1:\n",
    "                    area_size.append(self.islandSize(i, j, len(grid), len(grid[i]), grid))\n",
    "        if not area_size:\n",
    "            return 0\n",
    "        return max(area_size)\n",
    "                \n",
    "    def islandSize(self, i, j, limit_i, limit_j, grid):\n",
    "        '''\n",
    "        limit_i = len(grid)\n",
    "        limit_j = len(grid[0])\n",
    "        rtype: size-int\n",
    "        '''\n",
    "        size = 0\n",
    "        set_collection = set()\n",
    "        stack_of_points = deque()\n",
    "        stack_of_points.append((i,j))\n",
    "        set_collection.add((i, j))\n",
    "        \n",
    "        while len(stack_of_points):\n",
    "            current = stack_of_points.pop()\n",
    "            i = current[0]  # should use r and c to indicate rows and column which is more understandable\n",
    "            j = current[1]\n",
    "            grid[i][j] = 0\n",
    "            # see if the current has next connected island\n",
    "            if i + 1 < limit_i and grid[i + 1][j] == 1:\n",
    "                stack_of_points.append((i + 1, j))\n",
    "                set_collection.add((i + 1, j))\n",
    "                grid[i + 1][j] = 0\n",
    "            if i - 1 >= 0 and grid[i - 1][j] == 1:\n",
    "                stack_of_points.append((i - 1, j))\n",
    "                set_collection.add((i - 1, j))\n",
    "                grid[i - 1][j] = 0\n",
    "                \n",
    "            if j + 1 < limit_j and grid[i][j + 1] == 1:\n",
    "                stack_of_points.append((i, j+1))\n",
    "                set_collection.add((i, j + 1))\n",
    "                grid[i][j + 1] = 0\n",
    "            if j - 1 >= 0 and grid[i][j - 1] == 1:\n",
    "                stack_of_points.append((i, j - 1))\n",
    "                set_collection.add((i, j - 1))\n",
    "                grid[i][j - 1] = 0\n",
    "            \n",
    "            \n",
    "                \n",
    "                \n",
    "            \n",
    "        print(set_collection)\n",
    "        return len(set_collection)\n",
    "            \n",
    "\"\"\"\n",
    "Success\n",
    "Details \n",
    "Runtime: 132 ms, faster than 86.37% of Python3 online submissions for Max Area of Island.\n",
    "Memory Usage: 15.1 MB, less than 72.94% of Python3 online submissions for Max Area of Island.\n",
    "\n",
    "\"\"\"\n",
    "                \n",
    "        "
   ]
  },
  {
   "cell_type": "code",
   "execution_count": 7,
   "id": "later-dialogue",
   "metadata": {},
   "outputs": [],
   "source": [
    "# 547"
   ]
  },
  {
   "cell_type": "code",
   "execution_count": 8,
   "id": "liberal-gross",
   "metadata": {},
   "outputs": [],
   "source": [
    "# 417"
   ]
  },
  {
   "cell_type": "markdown",
   "id": "hindu-republic",
   "metadata": {},
   "source": [
    "### 回溯问题为什么写不出来！！"
   ]
  },
  {
   "cell_type": "code",
   "execution_count": 14,
   "id": "chinese-governor",
   "metadata": {},
   "outputs": [
    {
     "name": "stdout",
     "output_type": "stream",
     "text": [
      "skipped\n"
     ]
    }
   ],
   "source": [
    "%%script echo skipped\n",
    "# 46\n",
    "# recursion backtracking 真的不好想\n",
    "# 为什么要再给他换回来呢?\n",
    "class Solution:\n",
    "    def permute(self, nums: List[int]) -> List[List[int]]:\n",
    "        N = len(nums)\n",
    "        output = []\n",
    "        self.backtracking(0,N,output, nums)\n",
    "        return output\n",
    "        \n",
    "    def backtracking(self, first, N, output, nums):\n",
    "        if first == N:\n",
    "            output.append(nums[:])\n",
    "        for i in range(first, N):\n",
    "            nums[first], nums[i] = nums[i], nums[first]\n",
    "            self.backtracking(first + 1, N, output, nums)\n",
    "            nums[first], nums[i] = nums[i], nums[first]"
   ]
  },
  {
   "cell_type": "code",
   "execution_count": 10,
   "id": "north-access",
   "metadata": {},
   "outputs": [],
   "source": [
    "# 77 - 与46 有异曲同工"
   ]
  },
  {
   "cell_type": "code",
   "execution_count": 12,
   "id": "sexual-director",
   "metadata": {},
   "outputs": [
    {
     "name": "stdout",
     "output_type": "stream",
     "text": [
      "False\n",
      "False\n"
     ]
    }
   ],
   "source": [
    "# test\n",
    "a = [1,2]\n",
    "b = [2, 1]\n",
    "c = (1, 2)\n",
    "d = (2, 1)\n",
    "print(a == b)\n",
    "print(c == d)"
   ]
  },
  {
   "cell_type": "code",
   "execution_count": 11,
   "id": "stopped-illness",
   "metadata": {},
   "outputs": [],
   "source": [
    "# 79"
   ]
  },
  {
   "cell_type": "code",
   "execution_count": 12,
   "id": "looking-battle",
   "metadata": {},
   "outputs": [],
   "source": [
    "# 51"
   ]
  },
  {
   "cell_type": "markdown",
   "id": "widespread-termination",
   "metadata": {},
   "source": [
    "## 广度优先搜索"
   ]
  },
  {
   "cell_type": "code",
   "execution_count": 13,
   "id": "consistent-magnitude",
   "metadata": {},
   "outputs": [],
   "source": [
    "# 934. Shortest Bridge (Medium)"
   ]
  },
  {
   "cell_type": "code",
   "execution_count": 14,
   "id": "infrared-female",
   "metadata": {},
   "outputs": [],
   "source": [
    "# 126. Word Ladder II (Hard"
   ]
  },
  {
   "cell_type": "markdown",
   "id": "private-selection",
   "metadata": {},
   "source": [
    "# 动态规划 （特别多,重点中的重点）"
   ]
  },
  {
   "cell_type": "markdown",
   "id": "proud-surface",
   "metadata": {},
   "source": [
    "70 心得：\n",
    "1. 记得观察数字，应该有规律可循\n",
    "2. 如果是迭代加起来的一般都是动态规划，与斐波那契相仿"
   ]
  },
  {
   "cell_type": "code",
   "execution_count": 15,
   "id": "infrared-labor",
   "metadata": {},
   "outputs": [],
   "source": [
    "# 70. Climbing Stairs (Easy)\n",
    "class Solution:\n",
    "    def climbStairs(self, n: int) -> int:\n",
    "        if n <= 2:\n",
    "            return n\n",
    "        steps = [1, 1]\n",
    "        for i in range(2, n + 1):\n",
    "            steps.append(steps[i - 1] + steps[i - 2])\n",
    "        return steps[n]\n",
    "        "
   ]
  },
  {
   "cell_type": "markdown",
   "id": "miniature-receipt",
   "metadata": {},
   "source": [
    "198 心得：这道题完全是自己做出来的！\n",
    "通过70, 我们了解到，任何可以运用dynamic programming的题目好像都有一个通用的特点，所以我在这里运用了相同的特点！"
   ]
  },
  {
   "cell_type": "code",
   "execution_count": 16,
   "id": "particular-increase",
   "metadata": {},
   "outputs": [],
   "source": [
    "# 198. House Robber (Easy)\n",
    "class Solution:\n",
    "    def rob(self, nums: List[int]) -> int:\n",
    "        if nums == []:\n",
    "            return 0\n",
    "        if len(nums) == 1:\n",
    "            return nums[0]\n",
    "        if len(nums) == 2:\n",
    "            return max(nums[0], nums[1])\n",
    "            \n",
    "        \n",
    "        if len(nums) >= 3:\n",
    "            dp = [nums[0], nums[1], nums[2] + nums[0]]\n",
    "            for i in range(3, len(nums)):\n",
    "                dp.append(nums[i] + max(dp[i - 2], dp[i - 3]))\n",
    "        \n",
    "        return(max(dp))"
   ]
  },
  {
   "cell_type": "code",
   "execution_count": 6,
   "id": "indonesian-content",
   "metadata": {},
   "outputs": [
    {
     "name": "stdout",
     "output_type": "stream",
     "text": [
      "I did it 90% by myself, with high level help from labuladong\n"
     ]
    }
   ],
   "source": [
    "%%script echo I did it 90% by myself, with high level help from labuladong\n",
    "# 213 House Robber II\n",
    "class Solution:\n",
    "    def rob(self, nums: List[int]) -> int:\n",
    "        if nums == []:\n",
    "            return 0\n",
    "        if len(nums) == 1:\n",
    "            return nums[0]\n",
    "        if len(nums) == 2:\n",
    "            return max(nums[0], nums[1])\n",
    "        \n",
    "        if len(nums) >= 3:\n",
    "            ans = []\n",
    "            # ans.append(self.rob_helper(nums[1:len(nums)-1]))\n",
    "            ans.append(self.rob_helper(nums[:len(nums) - 1]))\n",
    "            ans.append(self.rob_helper(nums[1:len(nums)]))\n",
    "            return max(ans)\n",
    "        \n",
    "    def rob_helper(self, nums: List[int]) -> int:\n",
    "        if nums == []:\n",
    "            return 0\n",
    "        if len(nums) == 1:\n",
    "            return nums[0]\n",
    "        if len(nums) == 2:\n",
    "            return max(nums[0], nums[1])\n",
    "            \n",
    "        \n",
    "        if len(nums) >= 3:\n",
    "            dp = [nums[0], nums[1], nums[2] + nums[0]]\n",
    "            for i in range(3, len(nums)):\n",
    "                dp.append(nums[i] + max(dp[i - 2], dp[i - 3]))\n",
    "        \n",
    "        return(max(dp))"
   ]
  },
  {
   "cell_type": "code",
   "execution_count": 8,
   "id": "alone-reason",
   "metadata": {},
   "outputs": [
    {
     "name": "stdout",
     "output_type": "stream",
     "text": [
      "This is a really fast way to do it, but copy from others\n"
     ]
    }
   ],
   "source": [
    "%%script echo This is a really fast way to do it, but copy from others\n",
    "# 337. House Robber III\n",
    "# Definition for a binary tree node.\n",
    "# class TreeNode:\n",
    "#     def __init__(self, val=0, left=None, right=None):\n",
    "#         self.val = val\n",
    "#         self.left = left\n",
    "#         self.right = right\n",
    "class Solution:\n",
    "    def rob(self, root: TreeNode) -> int:\n",
    "        result = self.dp(root)\n",
    "        return max(result)\n",
    "        \n",
    "    def dp(self, root):\n",
    "        \"\"\"\n",
    "        \n",
    "        \"\"\"\n",
    "        if root is None:\n",
    "            return [0,0]\n",
    "        left = self.dp(root.left)\n",
    "        right = self.dp(root.right)\n",
    "        # rob\n",
    "        rob = root.val + left[0] + right[0]\n",
    "        # not rob\n",
    "        not_rob = max(left[0], left[1]) + max(right[0], right[1])\n",
    "        \n",
    "        return [not_rob, rob]"
   ]
  },
  {
   "cell_type": "code",
   "execution_count": 9,
   "id": "international-separation",
   "metadata": {},
   "outputs": [
    {
     "name": "stdout",
     "output_type": "stream",
     "text": [
      "\n"
     ]
    }
   ],
   "source": [
    "%%script echo\n",
    "# 413. Arithmetic Slices (Medium\n",
    "class Solution:\n",
    "    def numberOfArithmeticSlices(self, nums: List[int]) -> int:\n",
    "        n = len(nums)\n",
    "        dp = [0] * n\n",
    "        # print(\"dp\", dp)\n",
    "        for i in range(2, n):\n",
    "            # print(\"11111\", i)\n",
    "            if nums[i] - nums[i - 1] == nums[i - 1] - nums[i - 2]:\n",
    "                # print(i - 1, n)\n",
    "                dp[i] = dp[i - 1] + 1\n",
    "                print(\"dp\", dp)\n",
    "        return sum(dp)"
   ]
  },
  {
   "cell_type": "markdown",
   "id": "fixed-wallpaper",
   "metadata": {},
   "source": [
    "## 二维动态规划 "
   ]
  },
  {
   "cell_type": "code",
   "execution_count": 2,
   "id": "infinite-marriage",
   "metadata": {},
   "outputs": [
    {
     "name": "stdout",
     "output_type": "stream",
     "text": [
      "\n"
     ]
    }
   ],
   "source": [
    "%%script echo\n",
    "# 64. Minimum Path Sum (Medium)\n",
    "class Solution:\n",
    "    def minPathSum(self, grid: List[List[int]]) -> int:\n",
    "        \"\"\"\n",
    "        rtype: bottom_right - int\n",
    "        \"\"\"\n",
    "        if grid == []:\n",
    "            return 0\n",
    "        \n",
    "        result = grid.copy()\n",
    "        wid = len(grid)\n",
    "        leng = len(grid[0])\n",
    "        print(\"1\",result)\n",
    "        \n",
    "        for i in range(wid):\n",
    "            for j in range(leng):\n",
    "                # senario1, senario2 = 0, 0\n",
    "                if i == 0 and j > 0:\n",
    "                    result[i][j] += result[i][j - 1]\n",
    "                elif i > 0 and j == 0:\n",
    "                    result[i][j] += result[i - 1][j]\n",
    "                elif i > 0 and j > 0:\n",
    "                    result[i][j] += min(result[i-1][j], result[i][j-1])\n",
    "                \n",
    "                    \n",
    "        print(result)\n",
    "        \n",
    "        return result[wid - 1][leng - 1]"
   ]
  },
  {
   "cell_type": "markdown",
   "id": "proud-century",
   "metadata": {},
   "source": [
    "For 64, how should we compress the whole space?\n",
    "https://zhuanlan.zhihu.com/p/348549711"
   ]
  },
  {
   "cell_type": "markdown",
   "id": "charitable-northern",
   "metadata": {},
   "source": [
    "### 64 - thinking problem\n",
    "how can you compress the two dimension into one dimension?"
   ]
  },
  {
   "cell_type": "code",
   "execution_count": 5,
   "id": "improved-disabled",
   "metadata": {},
   "outputs": [
    {
     "data": {
      "text/plain": [
       "9223372036854775807"
      ]
     },
     "execution_count": 5,
     "metadata": {},
     "output_type": "execute_result"
    }
   ],
   "source": [
    "import sys\n",
    "sys.maxsize"
   ]
  },
  {
   "cell_type": "code",
   "execution_count": null,
   "id": "decimal-analysis",
   "metadata": {},
   "outputs": [],
   "source": [
    "# 542: https://leetcode.com/problems/01-matrix/discuss/605260/Python-DP-96\n",
    "import copy \n",
    "class Solution:\n",
    "    def updateMatrix(self, matrix: List[List[int]]) -> List[List[int]]:\n",
    "        \"\"\"\n",
    "        \n",
    "        \"\"\"\n",
    "        if matrix == []:\n",
    "            return matrix\n",
    "        \n",
    "        # print(\"0\",matrix)\n",
    "        # # result = matrix.copy()\n",
    "        # result = copy.deepcopy(matrix)\n",
    "        # # result = matrix[:]\n",
    "        wid = len(matrix)\n",
    "        leng = len(matrix[0])\n",
    "        result = [[10000] * leng for i in range(wid)]    # very important skill to copy without \n",
    "                                                        # using deepcopy! and .copy(), copy will \n",
    "                                                        # change matrix as well.\n",
    "        for i in range(wid):\n",
    "            for j in range(leng):\n",
    "                if matrix[i][j] == 0:\n",
    "                    result[i][j] = 0\n",
    "                else:\n",
    "                    if j > 0:\n",
    "                        result[i][j] = min(result[i][j], result[i][j-1] + 1)\n",
    "                    if i > 0:\n",
    "                        result[i][j] = min(result[i][j], result[i-1][j] + 1)\n",
    "                        \n",
    "        for i in range(wid -1, -1, -1):\n",
    "            for j in range(leng-1, -1, -1):\n",
    "                if matrix[i][j] != 0:\n",
    "                    if j < leng - 1:\n",
    "                        result[i][j] = min(result[i][j], result[i][j+1] + 1)\n",
    "                    if i < wid - 1:\n",
    "                        result[i][j] = min(result[i][j], result[i+1][j] + 1)\n",
    "        \n",
    "        return result"
   ]
  },
  {
   "cell_type": "markdown",
   "id": "satisfactory-closure",
   "metadata": {},
   "source": [
    "# 7.4 分割类型题目"
   ]
  },
  {
   "cell_type": "markdown",
   "id": "vocational-genre",
   "metadata": {},
   "source": [
    "## 279 Perfect Squares(Medium) !!! 非常好的一道题！"
   ]
  },
  {
   "cell_type": "code",
   "execution_count": 6,
   "id": "operating-mountain",
   "metadata": {},
   "outputs": [
    {
     "name": "stdout",
     "output_type": "stream",
     "text": [
      "\n"
     ]
    }
   ],
   "source": [
    "%%script echo\n",
    "# 279. \n",
    "import sys\n",
    "\n",
    "class Solution:\n",
    "    def numSquares(self, n: int) -> int:\n",
    "        result = [sys.maxsize] * (n + 1)\n",
    "        result[0] = 0\n",
    "        for i in range(n + 1):\n",
    "            j = 1\n",
    "            while j*j <= i:\n",
    "                result[i] = min(result[i], result[i-j*j] + 1)\n",
    "                j += 1\n",
    "        return result[n]\n",
    "    \n",
    "'''\n",
    "Runtime: 5132 ms, faster than 21.58% of Python3 online submissions for Perfect Squares.\n",
    "Memory Usage: 14.3 MB, less than 87.08% of Python3 online submissions for Perfect Squares.\n",
    "Next challenges:\n",
    "\n",
    "是一道蛮有难度的题目，虽然我没有太看懂题目\n",
    "'''\n"
   ]
  },
  {
   "cell_type": "markdown",
   "id": "voluntary-maine",
   "metadata": {},
   "source": [
    "# 子序列问题\n",
    "- 300. Longest Increasing Subsequence"
   ]
  },
  {
   "cell_type": "code",
   "execution_count": 7,
   "id": "proper-liverpool",
   "metadata": {},
   "outputs": [
    {
     "name": "stdout",
     "output_type": "stream",
     "text": [
      "\n"
     ]
    }
   ],
   "source": [
    "%%script echo\n",
    "# 300, O(n^2),O(n)\n",
    "class Solution:\n",
    "    def lengthOfLIS(self, nums: List[int]) -> int:\n",
    "        max_length = 0\n",
    "        n = len(nums)\n",
    "        \n",
    "        if n <= 1: \n",
    "            return n\n",
    "        \n",
    "        dp = [1] * n\n",
    "        for i in range(n):\n",
    "            for j in range(i):\n",
    "                if nums[i] > nums[j]:\n",
    "                    dp[i] = max(dp[i], dp[j] + 1)\n",
    "            max_length = max(max_length,dp[i])\n",
    "        return max_length\n",
    "    \n",
    "'''\n",
    "Runtime: 3900 ms, faster than 36.89% of Python3 online submissions for Longest Increasing Subsequence.\n",
    "Memory Usage: 14.6 MB, less than 76.47% of Python3 online submissions for Longest Increasing Subsequence.\n",
    "'''"
   ]
  },
  {
   "cell_type": "code",
   "execution_count": 8,
   "id": "included-phrase",
   "metadata": {},
   "outputs": [
    {
     "name": "stdout",
     "output_type": "stream",
     "text": [
      "\n"
     ]
    }
   ],
   "source": [
    "%%script echo\n",
    "# 300 faster:\n",
    "# https://www.youtube.com/watch?v=22s1xxRvy28&t=3s\n",
    "# channel: Stable Sort, and longest increasing Subsequence "
   ]
  },
  {
   "cell_type": "markdown",
   "id": "bibliographic-flush",
   "metadata": {},
   "source": [
    "# 背包问题\n",
    "1. 0-1背包\n",
    "\n",
    "2. 完全背包\n",
    "- 书籍资料查阅algorithm design 6.4"
   ]
  },
  {
   "cell_type": "markdown",
   "id": "imperial-entity",
   "metadata": {},
   "source": [
    "什么是背包问题？\n",
    "0-1背包问题又是什么？\n",
    "https://zhuanlan.zhihu.com/p/30959069\n",
    "\n",
    "动态规划自底向上！自上向下！有什么不同啊！\n"
   ]
  },
  {
   "cell_type": "code",
   "execution_count": 2,
   "id": "precise-month",
   "metadata": {},
   "outputs": [],
   "source": [
    "# Lintcode 0-1背包问题：\n",
    "# https://www.lintcode.com/problem/backpack-ii/\n",
    "# 在basic knowledge testing 中也有\n",
    "class Solution:\n",
    "    \"\"\"\n",
    "    @param m: An integer m denotes the size of a backpack\n",
    "    @param A: Given n items with size A[i]\n",
    "    @param V: Given n items with value V[i]\n",
    "    @return: The maximum value\n",
    "    \"\"\"\n",
    "    def backPackII(self, m, A, V):\n",
    "        # write your code here\n",
    "        items = len(A)\n",
    "        dp = [[0 for _ in range(m + 1)] for _ in range(items + 1)]\n",
    "\n",
    "        # iterate through the columns/sizes in each row and create a dp table\n",
    "        for i in range(1, items + 1, 1):\n",
    "            size = A[i - 1]; value = V[i - 1]\n",
    "            for j in range(1, m + 1, 1):\n",
    "                if j >= size:\n",
    "                    dp[i][j] = max(dp[i - 1][j], dp[i - 1][j - size] + value)\n",
    "                else:\n",
    "                    dp[i][j] = dp[i - 1][j]\n",
    "        return dp[items][m]"
   ]
  },
  {
   "cell_type": "code",
   "execution_count": 3,
   "id": "respiratory-cleanup",
   "metadata": {},
   "outputs": [],
   "source": [
    "# 空间压缩后的方法，\n",
    "class Solution:\n",
    "    \"\"\"\n",
    "    @param m: An integer m denotes the size of a backpack\n",
    "    @param A: Given n items with size A[i]\n",
    "    @param V: Given n items with value V[i]\n",
    "    @return: The maximum value\n",
    "    \"\"\"\n",
    "    def backPackII(self, m, A, V):\n",
    "        # write your code here\n",
    "        items = len(A)\n",
    "        dp = [0] * (m + 1)\n",
    "        # iterate through\n",
    "        for i in range(1, items + 1, 1):\n",
    "            size = A[i - 1]; value = V[i - 1]\n",
    "            j = m\n",
    "            while j >= size:\n",
    "            # for j in range(m, j , -1):\n",
    "                dp[j] = max(dp[j], dp[j - size] + value)\n",
    "                j -= 1\n",
    "        return dp[m]"
   ]
  },
  {
   "cell_type": "code",
   "execution_count": null,
   "id": "concerned-direction",
   "metadata": {},
   "outputs": [],
   "source": [
    "# 语法问题： \n",
    "10 / 2   # float: 5.0\n",
    "10 // 2  # int : 5"
   ]
  },
  {
   "cell_type": "code",
   "execution_count": null,
   "id": "cultural-inquiry",
   "metadata": {},
   "outputs": [],
   "source": []
  },
  {
   "cell_type": "code",
   "execution_count": 12,
   "id": "accepting-broadcast",
   "metadata": {},
   "outputs": [
    {
     "name": "stdout",
     "output_type": "stream",
     "text": [
      "\n"
     ]
    }
   ],
   "source": [
    "%%script echo\n",
    "# 416. Partition Equal Subset Sum\n",
    "# 0-1 背包问题！\n",
    "'''\n",
    "https://leetcode-cn.com/problems/partition-equal-subset-sum/solution/fen-ge-deng-he-zi-ji-by-leetcode-solution/\n",
    "'''\n",
    "\n"
   ]
  },
  {
   "cell_type": "markdown",
   "id": "assumed-briefs",
   "metadata": {},
   "source": [
    "# 字符串编辑"
   ]
  },
  {
   "cell_type": "code",
   "execution_count": 4,
   "id": "signal-hayes",
   "metadata": {},
   "outputs": [
    {
     "name": "stdout",
     "output_type": "stream",
     "text": [
      "\n"
     ]
    }
   ],
   "source": [
    "%%script echo\n",
    "# 72. Edit Distance (Hard)\n",
    "class Solution:\n",
    "    def minDistance(self, word1: str, word2: str) -> int:\n",
    "        \"\"\"\n",
    "        :type word1: str\n",
    "        :type word2: str\n",
    "        :rtype: int\n",
    "        \"\"\"\n",
    "        # compute the length for word1,2\n",
    "        n, m = len(word1), len(word2)\n",
    "        \n",
    "        # if one of the word is empty\n",
    "        if n * m == 0:\n",
    "            return n + m\n",
    "        \n",
    "        # if no word is empty and we create an array to stroe the convertion history\n",
    "        d = [[0] * (m + 1) for _ in range(n + 1)]\n",
    "        print(d) # print out and take a look\n",
    "        \n",
    "        # init boundaries\n",
    "        for i in range(n + 1):\n",
    "            d[i][0] = i\n",
    "        for j in range(m + 1):\n",
    "            d[0][j] = j\n",
    "            \n",
    "        # now lets compute the new dp!!\n",
    "        for i in range(1, n + 1):\n",
    "            for j in range(1, m + 1):\n",
    "                left = d[i - 1][j] + 1\n",
    "                down = d[i][j - 1] + 1\n",
    "                left_down = d[i - 1][j - 1]\n",
    "                if word1[i - 1] != word2[j - 1]:\n",
    "                    left_down += 1\n",
    "                d[i][j] = min(left, down, left_down)\n",
    "        return d[n][m]\n",
    "    \n",
    "\"\"\"\n",
    "Runtime: 200 ms, faster than 28.42% of Python3 online submissions for Edit Distance.\n",
    "Memory Usage: 18 MB, less than 22.51% of Python3 online submissions for Edit Distance.\n",
    "\"\"\""
   ]
  },
  {
   "cell_type": "code",
   "execution_count": null,
   "id": "printable-australian",
   "metadata": {},
   "outputs": [],
   "source": [
    "%%script echo\n",
    "# 10 Regular Expression \n",
    "# 状态，转移！状态，转移！状态，转移！！！\n",
    "class Solution(object):\n",
    "    def isMatch(self, text, pattern):\n",
    "        dp = [[False] * (len(pattern) + 1) for _ in range(len(text) + 1)]\n",
    "\n",
    "        dp[-1][-1] = True\n",
    "        for i in range(len(text), -1, -1):\n",
    "            for j in range(len(pattern) - 1, -1, -1):\n",
    "                first_match = i < len(text) and pattern[j] in {text[i], '.'}\n",
    "                if j+1 < len(pattern) and pattern[j+1] == '*':\n",
    "                    dp[i][j] = dp[i][j+2] or first_match and dp[i+1][j]\n",
    "                else:\n",
    "                    dp[i][j] = first_match and dp[i+1][j+1]\n",
    "\n",
    "        return dp[0][0]\n",
    "# 这是一个标准的答案，我没有写出来，但是请你好好的看一看，将这种感觉印在脑子里"
   ]
  },
  {
   "cell_type": "markdown",
   "id": "periodic-commission",
   "metadata": {},
   "source": [
    "### 股票交易"
   ]
  },
  {
   "cell_type": "code",
   "execution_count": 5,
   "id": "adverse-monitoring",
   "metadata": {},
   "outputs": [
    {
     "name": "stdout",
     "output_type": "stream",
     "text": [
      "\n"
     ]
    }
   ],
   "source": [
    "%%script echo\n",
    "# 121. Best Time to Buy and Sell Stock (Easy)\n",
    "import sys\n",
    "class Solution:\n",
    "    def maxProfit(self, prices: List[int]) -> int:\n",
    "        sell, buy = 0, -1 * sys.maxsize \n",
    "        print(sell, buy)\n",
    "        for i in range(len(prices)):\n",
    "            buy = max(buy, -prices[i])\n",
    "            sell = max(sell, buy + prices[i])\n",
    "        return sell\n",
    "\"\"\"\n",
    "Runtime: 1132 ms, faster than 22.71% of Python3 online submissions for Best Time to Buy and Sell Stock.\n",
    "Memory Usage: 25.2 MB, less than 11.21% of Python3 online submissions for Best Time to Buy and Sell Stock.\n",
    "Next challenges:\n",
    "\n",
    "\"\"\"\n",
    "\n",
    "# my solution in python\n",
    "class Solution:\n",
    "    def maxProfit(self, prices: List[int]) -> int:\n",
    "        \n",
    "        # create a list that contains the lowest price earlier than that idx\n",
    "        low_price = [prices[0]]\n",
    "        for i in range(1, len(prices)):\n",
    "            low_price.append(min(low_price[i - 1], prices[i]))\n",
    "        print(low_price)\n",
    "        \n",
    "        result = []\n",
    "        for i in range(len(prices)):\n",
    "            r = prices[i] - low_price[i]\n",
    "            if r <= 0:\n",
    "                r = 0\n",
    "            result.append(r)\n",
    "        return max(result)\n",
    "\"\"\"\n",
    "Runtime: 1212 ms 11.7%\n",
    "Memory Usage: 24.7 MB\n",
    "\"\"\"\n"
   ]
  },
  {
   "cell_type": "markdown",
   "id": "selective-omaha",
   "metadata": {},
   "source": [
    "# 第 8 章 化繁为简的分治法"
   ]
  },
  {
   "cell_type": "code",
   "execution_count": null,
   "id": "major-korea",
   "metadata": {},
   "outputs": [],
   "source": [
    "# 241. Different Ways to Add Parentheses"
   ]
  },
  {
   "cell_type": "markdown",
   "id": "reliable-climb",
   "metadata": {},
   "source": [
    "# 第 9 章 巧解数学问题\n"
   ]
  },
  {
   "cell_type": "code",
   "execution_count": 6,
   "id": "opened-colony",
   "metadata": {},
   "outputs": [
    {
     "name": "stdout",
     "output_type": "stream",
     "text": [
      "\n"
     ]
    }
   ],
   "source": [
    "%%script echo\n",
    "class Solution:\n",
    "    def countPrimes(self, n: int) -> int:\n",
    "        if n<=2:return 0\n",
    "\n",
    "        arr = [False, False] + [True] * (n - 2)\n",
    "        sqrt = int(n**0.5)+1\n",
    "        \n",
    "        for i in range(2, sqrt):\n",
    "            if arr[i] is True:\n",
    "                # now the multiple of i are all noted as False!!\n",
    "                for j in range(i + i, n, i):\n",
    "                    arr[j]=False\n",
    "\n",
    "        return sum(arr) \n",
    "        # in python False is 0, and True is 1 or numbers that is not 0,\n",
    "        # in this scenario, the the True are 1!! so we can sum!"
   ]
  },
  {
   "cell_type": "code",
   "execution_count": null,
   "id": "circular-registration",
   "metadata": {},
   "outputs": [],
   "source": []
  },
  {
   "cell_type": "code",
   "execution_count": null,
   "id": "difficult-crowd",
   "metadata": {},
   "outputs": [],
   "source": []
  },
  {
   "cell_type": "markdown",
   "id": "bronze-inspiration",
   "metadata": {},
   "source": [
    "# 第 10 章 神奇的位运算"
   ]
  },
  {
   "cell_type": "code",
   "execution_count": 8,
   "id": "criminal-latino",
   "metadata": {},
   "outputs": [
    {
     "name": "stderr",
     "output_type": "stream",
     "text": [
      "UsageError: %%script is a cell magic, but the cell body is empty.\n"
     ]
    }
   ],
   "source": [
    "%%script echo 461 hamming distance\n",
    "# \n",
    "class Solution:\n",
    "    def hammingDistance(self, x: int, y: int) -> int:\n",
    "        xor = x ^ y\n",
    "        distance = 0\n",
    "        \n",
    "        while xor:\n",
    "            if xor & 1:\n",
    "                distance += 1\n",
    "            xor = xor >> 1\n",
    "        return distance\n"
   ]
  },
  {
   "cell_type": "code",
   "execution_count": 19,
   "id": "separated-footwear",
   "metadata": {},
   "outputs": [
    {
     "name": "stdout",
     "output_type": "stream",
     "text": [
      "max 9223372036854775807\n",
      "110\n",
      "10111\n",
      "100011\n",
      "101111\n",
      "===========================\n",
      "111111111111111111111111111111111111111111111111111111111111111\n"
     ]
    }
   ],
   "source": [
    "def dec_to_bin(target_decimal):\n",
    "    quotient = 1\n",
    "    binary_list = []\n",
    "    while quotient:\n",
    "        quotient, mod = divmod(target_decimal, 2)\n",
    "        target_decimal = target_decimal // 2\n",
    "#         print(quotient, mod)\n",
    "        binary_list.append(str(mod))\n",
    "#     print(binary_list)\n",
    "#     print(type(binary_list))\n",
    "    binary_list.reverse()\n",
    "#     print(\"re\", binary_list)\n",
    "    binary_result = ''.join(binary_list)\n",
    "    return int(binary_result)\n",
    "\n",
    "import sys\n",
    "test = sys.maxsize\n",
    "print('max', test)\n",
    "\n",
    "\n",
    "print(dec_to_bin(6))\n",
    "print(dec_to_bin(23))\n",
    "print(dec_to_bin(35))\n",
    "print(dec_to_bin(47))\n",
    "\n",
    "print('===========================')\n",
    "print(dec_to_bin(test))"
   ]
  },
  {
   "cell_type": "code",
   "execution_count": 24,
   "id": "measured-duration",
   "metadata": {},
   "outputs": [
    {
     "name": "stdout",
     "output_type": "stream",
     "text": [
      "6\n",
      "63\n"
     ]
    }
   ],
   "source": [
    "def idx_count(target_str):\n",
    "    target_str = str(target_str)\n",
    "    return target_str.count('0') + target_str.count('1')\n",
    "\n",
    "# tests\n",
    "print(idx_count(101111))\n",
    "print(idx_count(111111111111111111111111111111111111111111111111111111111111111))"
   ]
  },
  {
   "cell_type": "code",
   "execution_count": 25,
   "id": "vietnamese-underground",
   "metadata": {},
   "outputs": [],
   "source": [
    "# 190. Reverse Bits\n",
    "class Solution:\n",
    "    def reverseBits(self, n: int) -> int:\n",
    "        ret, power = 0, 31\n",
    "        while n:\n",
    "            ret += (n & 1) << power\n",
    "            n = n >> 1\n",
    "            power -= 1\n",
    "            print(ret, power, n)\n",
    "        return ret\n",
    "    \n",
    "# 讲的非常好：\n",
    "# https://www.cnblogs.com/grandyang/p/4321355.html\n",
    "\n",
    "# 第二天自己终于半讲解，半做的弄出来了 ！！！\n",
    "class Solution:\n",
    "    def reverseBits(self, n: int) -> int:\n",
    "        ans = 0; nudge = 31\n",
    "        while n:\n",
    "            ans += (n & 1) << nudge\n",
    "            nudge -= 1\n",
    "            n = n >> 1\n",
    "        return ans"
   ]
  },
  {
   "cell_type": "code",
   "execution_count": null,
   "id": "white-refund",
   "metadata": {},
   "outputs": [],
   "source": [
    "# single Number Easy) 自己写出来了\n",
    "class Solution:\n",
    "    def singleNumber(self, nums: List[int]) -> int:\n",
    "        \"\"\"\n",
    "        type:\n",
    "        rtype:\n",
    "        \"\"\"\n",
    "        n = len(nums); i = 0\n",
    "        nums.sort()\n",
    "        print(nums)\n",
    "        while n - 1:\n",
    "            if nums[i] == nums[i + 1]:\n",
    "                n -= 2\n",
    "                i += 2\n",
    "            elif nums[i] != nums[i + 1]:\n",
    "                return nums[i]\n",
    "        return nums[-1]\n",
    "    \n",
    "# binary xor\n",
    "# the reason why it works, is x ^ x = 0; x ^ 0 = x\n",
    "class Solution:\n",
    "    def singleNumber(self, nums: List[int]) -> int:\n",
    "        \"\"\"\n",
    "        type:\n",
    "        rtype:\n",
    "        \"\"\"\n",
    "        ans = 0\n",
    "        for num in nums:\n",
    "            ans = ans ^ num\n",
    "        return ans"
   ]
  },
  {
   "cell_type": "code",
   "execution_count": 4,
   "id": "secret-arabic",
   "metadata": {},
   "outputs": [
    {
     "name": "stdout",
     "output_type": "stream",
     "text": [
      "\n"
     ]
    }
   ],
   "source": [
    "%%script echo\n",
    "# 137. Single Number II\n",
    "\n",
    "class Solution:\n",
    "    def singleNumber(self, nums: List[int]) -> int:\n",
    "        seen_once = seen_twice = 0\n",
    "        \n",
    "        for num in nums:\n",
    "            # first appearance: \n",
    "            # add num to seen_once \n",
    "            # don't add to seen_twice because of presence in seen_once\n",
    "            \n",
    "            # second appearance: \n",
    "            # remove num from seen_once \n",
    "            # add num to seen_twice\n",
    "            \n",
    "            # third appearance: \n",
    "            # don't add to seen_once because of presence in seen_twice\n",
    "            # remove num from seen_twice\n",
    "            seen_once = ~seen_twice & (seen_once ^ num)\n",
    "            seen_twice = ~seen_once & (seen_twice ^ num)\n",
    "\n",
    "        return seen_once\n",
    "\n",
    "\n",
    "\n",
    "# Runtime: 48 ms, faster than 96.36% of Python3 online submissions for Single Number II.\n",
    "# Memory Usage: 15.9 MB, less than 73.02% of Python3 online submissions for Single Number II."
   ]
  },
  {
   "cell_type": "code",
   "execution_count": 5,
   "id": "musical-street",
   "metadata": {},
   "outputs": [],
   "source": [
    "# 思考题， 260 single Number III 没什么人考这道题目"
   ]
  },
  {
   "cell_type": "code",
   "execution_count": null,
   "id": "ordinary-ethernet",
   "metadata": {},
   "outputs": [],
   "source": [
    "# 342 power of Four\n",
    "class Solution:\n",
    "    def isPowerOfFour(self, num: int) -> bool:\n",
    "        return num > 0 and num & (num - 1) == 0 and num & 0xaaaaaaaa == 0"
   ]
  },
  {
   "cell_type": "code",
   "execution_count": 11,
   "id": "blond-appendix",
   "metadata": {},
   "outputs": [
    {
     "name": "stdout",
     "output_type": "stream",
     "text": [
      "\n"
     ]
    }
   ],
   "source": [
    "%%script echo\n",
    "# 338 Counting Bits\n",
    "# my own method without answer\n",
    "class Solution:\n",
    "    def countBits(self, num: int) -> List[int]:\n",
    "        ans = []\n",
    "        for num in range(num + 1):\n",
    "            str_num = num ^ 0\n",
    "            ans.append(bin(str_num).count('1'))\n",
    "        return ans\n",
    "    \n",
    "# using simple dp and bit malniputlaiton\n",
    "class Solution:\n",
    "    def countBits(self, num: int) -> List[int]:\n",
    "        dp = [0] * (num + 1)\n",
    "        for i in range(num + 1):\n",
    "        # for i in range(1, num + 1)  # can work as well, however, not neccessary\n",
    "            # if i & 1:\n",
    "            #     dp[i] = dp[i - 1] + 1\n",
    "            # else:\n",
    "            #     dp[i] = dp[i >> 1]\n",
    "            dp[i] = dp[i - 1] + 1 if i & 1 else dp[i >> 1]\n",
    "        return dp\n",
    "'''\n",
    "or Counting Bits.\n",
    "Memory Usage: 20.9 MB, less than 71.50% of Python3 online submissions for Cou\n",
    "'''\n",
    "\n",
    "# elegant version of above code\n",
    "class Solution:\n",
    "    def countBits(self, num: int) -> List[int]:\n",
    "        dp = [0] * (num + 1)\n",
    "        for i in range(num + 1):\n",
    "            dp[i] = dp[i - 1] + 1 if i & 1 else dp[i >> 1]\n",
    "        return dp"
   ]
  },
  {
   "cell_type": "code",
   "execution_count": null,
   "id": "agricultural-northeast",
   "metadata": {},
   "outputs": [],
   "source": [
    "# "
   ]
  },
  {
   "cell_type": "markdown",
   "id": "democratic-heart",
   "metadata": {},
   "source": [
    "#  11 章 妙用数据结构\n"
   ]
  },
  {
   "cell_type": "markdown",
   "id": "cooperative-release",
   "metadata": {},
   "source": [
    "- Arrays: 数组"
   ]
  },
  {
   "cell_type": "code",
   "execution_count": 2,
   "id": "standard-extent",
   "metadata": {},
   "outputs": [
    {
     "name": "stdout",
     "output_type": "stream",
     "text": [
      "\n"
     ]
    }
   ],
   "source": [
    "%%script echo\n",
    "# question 48:\n",
    "class Solution:\n",
    "    def rotate(self, matrix: List[List[int]]) -> None:\n",
    "        \"\"\"\n",
    "        Do not return anything, modify matrix in-place instead.\n",
    "        \"\"\"\n",
    "        n = len(matrix[0])\n",
    "        for i in range(n // 2 + n % 2):\n",
    "            for j in range(n // 2):\n",
    "                tmp = matrix[n - 1 - j][i]\n",
    "                matrix[n - 1 - j][i] = matrix[n - 1 - i][n - j - 1]\n",
    "                matrix[n - 1 - i][n - j - 1] = matrix[j][n - 1 - i]\n",
    "                matrix[j][n - 1 - i] = matrix[i][j]\n",
    "                matrix[i][j] = tmp"
   ]
  },
  {
   "cell_type": "markdown",
   "id": "naked-chicken",
   "metadata": {},
   "source": [
    "- Stack and Queue"
   ]
  },
  {
   "cell_type": "code",
   "execution_count": 3,
   "id": "reasonable-anthony",
   "metadata": {},
   "outputs": [
    {
     "name": "stdout",
     "output_type": "stream",
     "text": [
      "\n"
     ]
    }
   ],
   "source": [
    "%%script echo \n",
    "# 232 Implement Queue using Stacks \n",
    "class MyQueue:\n",
    "    def __init__(self):\n",
    "        self.s1 = []\n",
    "        self.s2 = []\n",
    "\n",
    "    def push(self, x):\n",
    "        self.s1.append(x)\n",
    "\n",
    "    def pop(self):\n",
    "        self.peek()\n",
    "        return self.s2.pop()\n",
    "\n",
    "    def peek(self):\n",
    "        if not self.s2:\n",
    "            while self.s1:\n",
    "                self.s2.append(self.s1.pop())\n",
    "        return self.s2[-1]        \n",
    "\n",
    "    def empty(self):\n",
    "        return not self.s1 and not self.s2\n",
    "\n",
    "\n",
    "# Your MyQueue object will be instantiated and called as such:\n",
    "# obj = MyQueue()\n",
    "# obj.push(x)\n",
    "# param_2 = obj.pop()\n",
    "# param_3 = obj.peek()\n",
    "# param_4 = obj.empty()"
   ]
  },
  {
   "cell_type": "code",
   "execution_count": 4,
   "id": "premium-shannon",
   "metadata": {},
   "outputs": [
    {
     "name": "stdout",
     "output_type": "stream",
     "text": [
      "\n"
     ]
    }
   ],
   "source": [
    "%%script echo\n",
    "#155. Min Stack\n",
    "class MinStack:\n",
    "\n",
    "    def __init__(self):\n",
    "        \"\"\"\n",
    "        initialize your data structure here.\n",
    "        \"\"\"\n",
    "        self.stack = []\n",
    "        \n",
    "\n",
    "    def push(self, x: int) -> None:\n",
    "        # if the stack is empty, then the min value\n",
    "        # must just be the first value we add\n",
    "        if not self.stack:\n",
    "            self.stack.append((x,x))\n",
    "            return \n",
    "        current_min = self.stack[-1][1]\n",
    "        self.stack.append((x, min(x, current_min)))\n",
    "        \n",
    "        \n",
    "    def pop(self) -> None:\n",
    "        self.stack.pop()\n",
    "        \n",
    "        \n",
    "\n",
    "    def top(self) -> int:\n",
    "        return self.stack[-1][0]\n",
    "\n",
    "    def getMin(self) -> int:\n",
    "        return self.stack[-1][1]\n",
    "        \n",
    "\n",
    "\n",
    "# Your MinStack object will be instantiated and called as such:\n",
    "# obj = MinStack()\n",
    "# obj.push(val)\n",
    "# obj.pop()\n",
    "# param_3 = obj.top()\n",
    "# param_4 = obj.getMin()"
   ]
  },
  {
   "cell_type": "code",
   "execution_count": 5,
   "id": "removable-portable",
   "metadata": {},
   "outputs": [
    {
     "name": "stdout",
     "output_type": "stream",
     "text": [
      "\n"
     ]
    }
   ],
   "source": [
    "%%script echo\n",
    "# 20 Valid Parentheses\n",
    "class Solution:\n",
    "    def isValid(self, s: str) -> bool:\n",
    "        # create a hash table\n",
    "        # hash_parenthesis = {\"(\":\")\", \"[\":\"]\", \"{\":\"}\", \")\":\"(\", \"]\":\"[\", \"}\":\"{\"}\n",
    "        hash_parenthesis = {\"(\":\")\", \"[\":\"]\", \"{\":\"}\"}\n",
    "        \n",
    "        stack = []\n",
    "        if s is None or s == \"\":\n",
    "            return True\n",
    "        \n",
    "        stack.append(s[:1])\n",
    "        print(stack)\n",
    "        \n",
    "        for i in range(1, len(s)):\n",
    "            if stack != []:\n",
    "                stack_pop = stack.pop()\n",
    "                if stack_pop not in hash_parenthesis:\n",
    "                    return False\n",
    "                if hash_parenthesis[stack_pop] != s[i]:\n",
    "                    stack.append(stack_pop)\n",
    "                    stack.append(s[i])\n",
    "            else:\n",
    "                stack.append(s[i])\n",
    "\n",
    "        return stack == []"
   ]
  },
  {
   "cell_type": "code",
   "execution_count": 9,
   "id": "prostate-denver",
   "metadata": {
    "scrolled": false
   },
   "outputs": [
    {
     "name": "stdout",
     "output_type": "stream",
     "text": [
      "mine very slow idea\n"
     ]
    }
   ],
   "source": [
    "%%script echo mine very slow idea\n",
    "# 205. Isomorphic Strings\n",
    "class Solution:\n",
    "    def isIsomorphic(self, s: str, t: str) -> bool:\n",
    "        # we need to make the strings transfer to a number\n",
    "        if len(s) != len(t):\n",
    "            return False\n",
    "        \n",
    "        \n",
    "        # iterate through the s, and t and record\n",
    "        s_record, t_record, l = [], [], len(s)\n",
    "        s_new, t_new = \"\", \"\"\n",
    "        for i in range(l):\n",
    "            if s[i] not in s_record:\n",
    "                s_record.append(s[i])\n",
    "                s_new += str(s_record.index(s[i]))\n",
    "                \n",
    "            else:\n",
    "                s_new += str(s_record.index(s[i]))\n",
    "                \n",
    "        # print(s,s_new)\n",
    "        \n",
    "        for i in range(l):\n",
    "            if t[i] not in t_record:\n",
    "                t_record.append(t[i])\n",
    "                t_new += str(t_record.index(t[i]))\n",
    "            else:\n",
    "                t_new += str(t_record.index(t[i]))\n",
    "        # print(t,t_new)\n",
    "        \n",
    "        return s_new == t_new\n",
    "\"\"\"\n",
    "Runtime: 168 ms, faster than 5.03% of Python3 online submissions for Isomorphic Strings.\n",
    "Memory Usage: 14.4 MB, less than 73.16% of Python3 online submissions for Isomorphic Strings.\n",
    "Too SLOW!!!\n",
    "\"\"\""
   ]
  },
  {
   "cell_type": "code",
   "execution_count": 10,
   "id": "homeless-brazil",
   "metadata": {},
   "outputs": [
    {
     "name": "stdout",
     "output_type": "stream",
     "text": [
      "https://leetcode.com/problems/isomorphic-strings/discuss/57941/Python-different-solutions-(dictionary-etc).\n"
     ]
    }
   ],
   "source": [
    "%%script echo https://leetcode.com/problems/isomorphic-strings/discuss/57941/Python-different-solutions-(dictionary-etc).\n",
    "# 205 Isomorphic Strings(Easy)\n",
    "class Solution:\n",
    "    def isIsomorphic(self, s: str, t: str) -> bool:\n",
    "            # def isIsomorphic6(self, s, t):\n",
    "        d1, d2 = [0 for _ in range(256)], [0 for _ in range(256)]\n",
    "        for i in range(len(s)):\n",
    "            if d1[ord(s[i])] != d2[ord(t[i])]:\n",
    "                return False\n",
    "            d1[ord(s[i])] = i+1\n",
    "            d2[ord(t[i])] = i+1\n",
    "        return True"
   ]
  },
  {
   "cell_type": "markdown",
   "id": "certified-lewis",
   "metadata": {},
   "source": [
    "- ord, enumerate, zip, for _ in range() --------- all pin points make sense now!!\n"
   ]
  },
  {
   "cell_type": "code",
   "execution_count": 15,
   "id": "organized-gravity",
   "metadata": {},
   "outputs": [
    {
     "name": "stdout",
     "output_type": "stream",
     "text": [
      "??? knowledge points\n"
     ]
    }
   ],
   "source": [
    "%%script echo 知识点 knowledge points\n",
    "\n",
    "print(ord('a'))\n",
    "# 97\n",
    "\n",
    "number_list = [1, 2, 3]\n",
    "str_list = ['one', 'two', 'three']\n",
    "result = zip(number_list, str_list)\n",
    "# {(2, 'two'), (3, 'three'), (1, 'one')}\n",
    "\n",
    "for _ in range()\n",
    "# hiding all the _ no meaning at all, so does not matter!"
   ]
  },
  {
   "cell_type": "code",
   "execution_count": 11,
   "id": "thousand-pointer",
   "metadata": {},
   "outputs": [
    {
     "name": "stdout",
     "output_type": "stream",
     "text": [
      "Couldn't find program: 'better'\n"
     ]
    }
   ],
   "source": [
    "%%script better and faster dict with set\n",
    "class Solution:\n",
    "    def isIsomorphic(self, s: str, t: str) -> bool:\n",
    "        \n",
    "        if len(set(s))!=len(set(t)):\n",
    "            return False\n",
    "        \n",
    "        d = dict()\n",
    "        \n",
    "        for i, c in enumerate(s):\n",
    "            if c in d:\n",
    "                if d[c] != t[i]:\n",
    "                    return False\n",
    "            else:\n",
    "                d[c] = t[i]\n",
    "        return True"
   ]
  },
  {
   "cell_type": "code",
   "execution_count": null,
   "id": "minor-father",
   "metadata": {},
   "outputs": [],
   "source": []
  },
  {
   "cell_type": "code",
   "execution_count": null,
   "id": "cellular-dominican",
   "metadata": {},
   "outputs": [],
   "source": []
  },
  {
   "cell_type": "markdown",
   "id": "occasional-huntington",
   "metadata": {},
   "source": [
    "### knowledge point\n",
    "https://www.geeksforgeeks.org/underscore-_-python/\n",
    "_ in for is ignoring value\n",
    "\n",
    "- Ignore a value of specific location/index\n",
    "\n",
    "for _ in range(10)\n",
    "    \n",
    "    print (\"Test\")"
   ]
  },
  {
   "cell_type": "markdown",
   "id": "departmental-subscription",
   "metadata": {},
   "source": [
    "# 第 13 章 指针三剑客之一：链表"
   ]
  },
  {
   "cell_type": "code",
   "execution_count": 6,
   "id": "southwest-blast",
   "metadata": {},
   "outputs": [
    {
     "data": {
      "text/plain": [
       "'\\ntake home homework，作业！！！ 04/03/2021 - 04/10/2021\\n把过程画出来，然后讲出来，\\n'"
      ]
     },
     "execution_count": 6,
     "metadata": {},
     "output_type": "execute_result"
    }
   ],
   "source": [
    "# 206. Reverse Linked List\n",
    "# 我其实已经向出来了，但是没有写出一个完美的\n",
    "\n",
    "# Iteration!!!\n",
    "# Definition for singly-linked list.\n",
    "class ListNode:\n",
    "    def __init__(self, val=0, next=None):\n",
    "        self.val = val\n",
    "        self.next = next\n",
    "class Solution:\n",
    "    def reverseList(self, head: ListNode) -> ListNode:\n",
    "        prev = None\n",
    "        curr = head\n",
    "        while curr:\n",
    "        # while curr != None:\n",
    "            nextTemp = curr.next\n",
    "            curr.next = prev\n",
    "            prev = curr\n",
    "            curr = nextTemp\n",
    "        return prev\n",
    "    \n",
    "    \n",
    "# Recursion!!!\n",
    "class Solution:\n",
    "    def reverseList(self, head: ListNode) -> ListNode:\n",
    "        return self.helper(head, None)\n",
    "        \n",
    "    # helper method\n",
    "    def helper(self, curr, prev):\n",
    "        if not curr:\n",
    "            return prev\n",
    "        nextnode = curr.next\n",
    "        curr.next = prev\n",
    "        return self.helper(nextnode, curr)\n",
    "\n",
    "\n",
    "\"\"\"\n",
    "take home homework，作业！！！ 04/03/2021 - 04/10/2021\n",
    "把过程画出来，然后讲出来，\n",
    "\"\"\""
   ]
  },
  {
   "cell_type": "markdown",
   "id": "behavioral-keyboard",
   "metadata": {},
   "source": [
    "## 跟着Labuladong来熟悉链表，重新捡起递归方程"
   ]
  },
  {
   "cell_type": "code",
   "execution_count": null,
   "id": "persistent-sierra",
   "metadata": {},
   "outputs": [],
   "source": [
    "# reverse list from Labuladong\n",
    "class LinkNode:\n",
    "    def __init__(self, val=0, next=None):\n",
    "        self.next = next\n",
    "        self.val = val\n",
    "\n",
    "def reverse_linkList():\n",
    "#     if head.next == None: \n",
    "#         return head\n",
    "    if not head.next:\n",
    "        return head\n",
    "    last = reverse_linkList(head.next)\n",
    "    head.next.next = head\n",
    "    head.next = None\n",
    "    return last\n",
    "\n",
    "# \n",
    "    \n",
    "    "
   ]
  },
  {
   "cell_type": "code",
   "execution_count": null,
   "id": "japanese-replication",
   "metadata": {},
   "outputs": [],
   "source": []
  },
  {
   "cell_type": "markdown",
   "id": "olympic-ultimate",
   "metadata": {},
   "source": [
    "# 第14章：指针三剑客之二 树"
   ]
  },
  {
   "cell_type": "markdown",
   "id": "subjective-mauritius",
   "metadata": {},
   "source": [
    "-14.1 数据结构介绍\n",
    "作为（单）链表的升级版，我们通常接触的树都是二叉树（binary tree），即每个节点最多有\n",
    "两个子节点；且除非题目说明，默认树中不存在循环结构。LeetCode 默认的树表示方法如下。\n"
   ]
  },
  {
   "cell_type": "markdown",
   "id": "conventional-christopher",
   "metadata": {},
   "source": [
    "#### Three types of tree iteration: \n",
    "ulr: https://www.geeksforgeeks.org/tree-traversals-inorder-preorder-and-postorder/\n",
    "1. pre order: (root, left, right)\n",
    "2. in order : (left, root, right)\n",
    "3. post order: (left, right, root)"
   ]
  },
  {
   "cell_type": "markdown",
   "id": "precious-course",
   "metadata": {},
   "source": [
    "labuladong 经典语录：\n",
    "\n",
    "写递归算法的关键是要明确函数的「定义」是什么，然后相信这个定义，利用这个定义推导最终结果，绝不要试图跳入递归。\n",
    "二叉树的问题难点在于，如何把题目的要求细化成每个节点需要做的事情，但是如果只依赖一个节点的话，肯定是没办法连接「跨父节点」"
   ]
  },
  {
   "cell_type": "code",
   "execution_count": 19,
   "id": "departmental-recall",
   "metadata": {},
   "outputs": [
    {
     "name": "stdout",
     "output_type": "stream",
     "text": [
      "\n"
     ]
    }
   ],
   "source": [
    "%%script echo\n",
    "Class TreeNode:\n",
    "    def __init__(self, val=0, left=None, right=None):\n",
    "        self.val = val\n",
    "        self.left = left\n",
    "        self.right = right"
   ]
  },
  {
   "cell_type": "code",
   "execution_count": 1,
   "id": "southwest-nicholas",
   "metadata": {},
   "outputs": [],
   "source": [
    "# # 226 经过训练可以自己在短时间写出来了\n",
    "# Definition for a binary tree node.\n",
    "class TreeNode:\n",
    "    def __init__(self, val=0, left=None, right=None):\n",
    "        self.val = val\n",
    "        self.left = left\n",
    "        self.right = right\n",
    "        \n",
    "class Solution:\n",
    "    def invertTree(self, root: TreeNode) -> TreeNode:\n",
    "        if not root: \n",
    "            return root\n",
    "        root.left, root.right = self.invertTree(root.right), self.invertTree(root.left)\n",
    "        return root"
   ]
  },
  {
   "cell_type": "code",
   "execution_count": null,
   "id": "eligible-sugar",
   "metadata": {},
   "outputs": [],
   "source": [
    "# 116: 好好品，好好琢磨\n",
    "\"\"\"\n",
    "# Definition for a Node.\n",
    "class Node:\n",
    "    def __init__(self, val: int = 0, left: 'Node' = None, right: 'Node' = None, next: 'Node' = None):\n",
    "        self.val = val\n",
    "        self.left = left\n",
    "        self.right = right\n",
    "        self.next = next\n",
    "\"\"\"\n",
    "\n",
    "class Solution:\n",
    "    def connect(self, root: 'Node') -> 'Node':\n",
    "        if not root: \n",
    "            return root\n",
    "        self.helper(root.left, root.right)\n",
    "        return root\n",
    "    \n",
    "    def helper(self, left, right):\n",
    "        # base case\n",
    "        if left == None:  # do not need to check the right side because it is a perfect tree\n",
    "            return None\n",
    "        \n",
    "        left.next = right\n",
    "        \n",
    "        self.helper(left.left, left.right)\n",
    "        self.helper(right.left, right.right)\n",
    "        self.helper(left.right, right.left)\n",
    "        \n",
    "# one more solution, which is way much more close to mine own thought\n",
    "class Solution:\n",
    "    def connect(self, root: 'Node') -> 'Node':\n",
    "        if not root: \n",
    "            return root\n",
    "        \n",
    "        if root.left:\n",
    "            root.left.next = root.right\n",
    "        \n",
    "        if root.right and root.next:\n",
    "            root.right.next = root.next.left   # 解决了父节点的问题，父节点在操作子节点\n",
    "            \n",
    "        self.connect(root.left)\n",
    "        self.connect(root.right)\n",
    "        \n",
    "        return root\n",
    "    \n"
   ]
  },
  {
   "cell_type": "code",
   "execution_count": null,
   "id": "changing-milan",
   "metadata": {},
   "outputs": [],
   "source": []
  },
  {
   "cell_type": "code",
   "execution_count": 20,
   "id": "driving-slave",
   "metadata": {},
   "outputs": [
    {
     "name": "stdout",
     "output_type": "stream",
     "text": [
      "Couldn't find program: '其他题目做过了'\n"
     ]
    }
   ],
   "source": [
    "%%script 其他题目做过了 543\n",
    "# we have at least three options for using DFS to solve this ez problem\n",
    "# Definition for a binary tree node.\n",
    "# class TreeNode:\n",
    "#     def __init__(self, x):\n",
    "#         self.val = x\n",
    "#         self.left = None\n",
    "#         self.right = None\n",
    "\n",
    "class Solution1:\n",
    "    def diameterOfBinaryTree(self, root: TreeNode) -> int:\n",
    "        result = 0 \n",
    "        \n",
    "        def max_depth(root):\n",
    "            if not root: return 0\n",
    "            nonlocal result\n",
    "            \n",
    "            left = max_depth(root.left)\n",
    "            right = max_depth(root.right)\n",
    "            result = max(result, left + right)\n",
    "            return 1+ max(left, right)\n",
    "    \n",
    "        max_depth(root)\n",
    "        return result \n",
    "    \n",
    "class Solution1.1: # this one almost has the same way with solution 1\n",
    "    def diameterOfBinaryTree(self, root: TreeNode) -> int:\n",
    "        diameter = 0\n",
    "\n",
    "        def longest_path(node):\n",
    "            if not node:\n",
    "                return 0\n",
    "            nonlocal diameter\n",
    "            # recursively find the longest path in\n",
    "            # both left child and right child\n",
    "            left_path = longest_path(node.left)\n",
    "            right_path = longest_path(node.right)\n",
    "\n",
    "            # update the diameter if left_path plus right_path is larger\n",
    "            diameter = max(diameter, left_path + right_path)\n",
    "\n",
    "            # return the longest one between left_path and right_path;\n",
    "            # remember to add 1 for the path connecting the node and its parent\n",
    "            return max(left_path, right_path) + 1\n",
    "\n",
    "        longest_path(root)\n",
    "        return diameter\n",
    "    \n",
    "\n",
    "class Solution2:\n",
    "    def diameterOfBinaryTree(self, root: TreeNode) -> int:\n",
    "        self.result = 0 \n",
    "        \n",
    "        def max_depth(root):\n",
    "            if not root: return 0\n",
    "            \n",
    "            left = max_depth(root.left)\n",
    "            right = max_depth(root.right)\n",
    "            self.result = max(self.result, left + right)\n",
    "            return 1+ max(left, right)\n",
    "    \n",
    "        max_depth(root)\n",
    "        return self.result "
   ]
  },
  {
   "cell_type": "markdown",
   "id": "loving-yield",
   "metadata": {},
   "source": [
    "**其实我没有怎么上明白，这个recursion到底是怎么运作的**\n"
   ]
  },
  {
   "cell_type": "code",
   "execution_count": 25,
   "id": "forty-adoption",
   "metadata": {},
   "outputs": [
    {
     "name": "stdout",
     "output_type": "stream",
     "text": [
      "\n"
     ]
    }
   ],
   "source": [
    "%%script echo\n",
    "import queue\n",
    "q = queue.Queue()\n",
    "\n",
    "print(q)\n",
    "\n",
    "q.put(\"a\")\n",
    "print(q)\n",
    "# 用这个真的太恶心了，我还是用list， 和pop (0) 好了\n",
    "\n",
    "# 637 Average of Levels in Binary Tree\n",
    "# Definition for a binary tree node.\n",
    "# class TreeNode:\n",
    "#     def __init__(self, val=0, left=None, right=None):\n",
    "#         self.val = val\n",
    "#         self.left = left\n",
    "#         self.right = right\n",
    "\n",
    "import queue\n",
    "\n",
    "class Solution:\n",
    "    def averageOfLevels(self, root: TreeNode) -> List[float]:\n",
    "        res = []\n",
    "        queue = [root]\n",
    "        \n",
    "        while queue != []:\n",
    "            summation, count = 0, 0\n",
    "            temp_queue = []\n",
    "            \n",
    "            while queue != []:\n",
    "                node_tmp = queue.pop(0)\n",
    "                summation += node_tmp.val\n",
    "                count += 1\n",
    "                \n",
    "                if node_tmp.left != None:\n",
    "                    temp_queue.append(node_tmp.left)\n",
    "                if node_tmp.right != None:\n",
    "                    temp_queue.append(node_tmp.right)\n",
    "                    \n",
    "            queue = temp_queue\n",
    "            res.append(summation / count)\n",
    "            \n",
    "        return res\n",
    "\n",
    "# very fast answer: very good Example, Learn from this!!!\n",
    "class Solution:\n",
    "    def averageOfLevels(self, root: TreeNode) -> List[float]:\n",
    "        que = deque([(root)])\n",
    "        ans = []\n",
    "        while que:\n",
    "            size = len(que)\n",
    "            sumval = 0\n",
    "            for i in range(size):\n",
    "                node = que.popleft()\n",
    "                sumval+=node.val\n",
    "                if node.left:\n",
    "                    que.append(node.left)\n",
    "                if node.right:\n",
    "                    que.append(node.right)\n",
    "            ans.append(sumval/size) \n",
    "        return ans\n",
    "    \n",
    "\"\"\"\n",
    "Runtime: 44 ms, faster than 91.17% of Python3 online submissions for Average of Levels in Binary Tree.\n",
    "Memory Usage: 16.5 MB, less than 90.43% of Python3 online submissions for Average of Levels in Binary Tree.\n",
    "\"\"\"\n",
    "\n",
    "# Mine, mimic the example:\n",
    "# Definition for a binary tree node.\n",
    "# class TreeNode:\n",
    "#     def __init__(self, val=0, left=None, right=None):\n",
    "#         self.val = val\n",
    "#         self.left = left\n",
    "#         self.right = right\n",
    "class Solution:\n",
    "    def averageOfLevels(self, root: TreeNode) -> List[float]:\n",
    "        que, ans = deque([root]), []\n",
    "        # que, ans = deque([(root)]), []  #works too \n",
    "        \n",
    "        while que:\n",
    "            sum_val = 0\n",
    "            size = len(que)\n",
    "            \n",
    "            for i in range(size):\n",
    "                node = que.popleft()\n",
    "                sum_val += node.val\n",
    "                if node.left:\n",
    "                    que.append(node.left)\n",
    "                if node.right:\n",
    "                    que.append(node.right)\n",
    "            ans.append(sum_val/size)\n",
    "        return ans"
   ]
  },
  {
   "cell_type": "code",
   "execution_count": 30,
   "id": "handy-format",
   "metadata": {},
   "outputs": [
    {
     "name": "stdout",
     "output_type": "stream",
     "text": [
      "1\n"
     ]
    },
    {
     "data": {
      "text/plain": [
       "'\\nWhat is prefix Sum, could you elaborate it?\\n\\n\\n'"
      ]
     },
     "execution_count": 30,
     "metadata": {},
     "output_type": "execute_result"
    }
   ],
   "source": [
    "# 437:\n",
    "a = 0\n",
    "if not a:\n",
    "    print(1)\n",
    "    \n",
    "# Prefix Sum: 思考题：https://leetcode.com/problems/path-sum-iii/solution/\n",
    "# 437 Path Sum III\n",
    "\n",
    "\n",
    "\n",
    "\n",
    "'''\n",
    "What is prefix Sum, could you elaborate it?\n",
    "\n",
    "\n",
    "'''"
   ]
  },
  {
   "cell_type": "code",
   "execution_count": 32,
   "id": "continuing-suspension",
   "metadata": {},
   "outputs": [
    {
     "name": "stdout",
     "output_type": "stream",
     "text": [
      "\n"
     ]
    }
   ],
   "source": [
    "%%script echo\n",
    "# 669: Trim a Binary Search Tree\n",
    "\n",
    "# Definition for a binary tree node.\n",
    "# class TreeNode:\n",
    "#     def __init__(self, val=0, left=None, right=None):\n",
    "#         self.val = val\n",
    "#         self.left = left\n",
    "#         self.right = right\n",
    "class Solution:\n",
    "    def trimBST(self, root: TreeNode, low: int, high: int) -> TreeNode:\n",
    "        if not root:\n",
    "            return root\n",
    "        \n",
    "        if root.val > high:\n",
    "            return self.trimBST(root.left, low, high)\n",
    "        \n",
    "        if root.val < low:\n",
    "            return self.trimBST(root.right, low, high)\n",
    "        \n",
    "        root.left = self.trimBST(root.left, low, high)\n",
    "        root.right = self.trimBST(root.right, low, high)\n",
    "        return root"
   ]
  },
  {
   "cell_type": "markdown",
   "id": "wrong-aurora",
   "metadata": {},
   "source": [
    "#  第15 章 指针三剑客之三：图\n"
   ]
  },
  {
   "cell_type": "markdown",
   "id": "biblical-tunnel",
   "metadata": {},
   "source": [
    "- 数据结构介绍\n",
    "- 二分图\n",
    "- 拓扑排序"
   ]
  },
  {
   "cell_type": "code",
   "execution_count": 3,
   "id": "textile-turtle",
   "metadata": {},
   "outputs": [
    {
     "name": "stdout",
     "output_type": "stream",
     "text": [
      "\n"
     ]
    }
   ],
   "source": [
    "%%script echo\n",
    "# 785. Is Graph Bipartite?\n",
    "# my first thought: using BFS/make a list of all the edges and find common?\n",
    "\n",
    "# 这道题的解法其实很简单只要利用染色，并且看看有没有冲突就可以解决出来了！\n",
    "# 哇塞，原来这道题目竟然如此的简单，数学真的是利用艺术将复杂地问题极简化！\n",
    "# 数学真好比艺术，\n",
    "class Solution:\n",
    "    def isBipartite(self, graph: List[List[int]]) -> bool:\n",
    "        # using arts!!!\n",
    "        n = len(graph)\n",
    "        if n == 0:\n",
    "            return True\n",
    "        \n",
    "        # design a list of colors!\n",
    "        color = [0] * n\n",
    "        queue = []\n",
    "        # queue = deque()\n",
    "        # print(color, queue)\n",
    "        \n",
    "        # BFS\n",
    "        for i in range(n):\n",
    "            if not color[i]:\n",
    "                queue.append(i)\n",
    "                color[i] = 1\n",
    "            while queue != []:\n",
    "                node = queue.pop(0)\n",
    "                for neighbor in graph[node]:\n",
    "                    if color[neighbor] == 0:\n",
    "                        queue.append(neighbor)\n",
    "                        if color[node] == 1:\n",
    "                            color[neighbor] = 2\n",
    "                        else:\n",
    "                            color[neighbor] = 1\n",
    "                    elif color[node] == color[neighbor]:\n",
    "                        return False\n",
    "        return True\n",
    "\n",
    "'''\n",
    "Runtime: 160 ms, faster than 99.36% of Python3 online submissions for Is Graph Bipartite?.\n",
    "Memory Usage: 14.6 MB, less than 91.50% of Python3 online submissions for Is Graph Bipartite?.\n",
    "'''\n",
    "\n",
    "\n",
    "# now let's use deque\n",
    "class Solution:\n",
    "    def isBipartite(self, graph: List[List[int]]) -> bool:\n",
    "        # using arts!!!\n",
    "        n = len(graph)\n",
    "        if n == 0:\n",
    "            return True\n",
    "        \n",
    "        # design a list of colors!\n",
    "        color = [0] * n\n",
    "        # queue = []\n",
    "        queue = deque()\n",
    "        # print(color, queue)\n",
    "        \n",
    "        # BFS\n",
    "        for i in range(n):\n",
    "            if not color[i]:\n",
    "                queue.append(i)\n",
    "                color[i] = 1\n",
    "            # while queue != []:\n",
    "            while len(queue):\n",
    "                node = queue.popleft()\n",
    "                for neighbor in graph[node]:\n",
    "                    if color[neighbor] == 0:\n",
    "                        queue.append(neighbor)\n",
    "                        if color[node] == 1:\n",
    "                            color[neighbor] = 2\n",
    "                        else:\n",
    "                            color[neighbor] = 1\n",
    "                    elif color[node] == color[neighbor]:\n",
    "                        return False\n",
    "        return True\n",
    "\n",
    "'''\n",
    "Success\n",
    "Details \n",
    "Runtime: 164 ms, faster than 97.03% of Python3 online submissions for Is Graph Bipartite?.\n",
    "Memory Usage: 14.7 MB, less than 77.35% of Python3 online submissions for Is Graph Bipartite?.\n",
    "Next challenges:\n",
    "'''"
   ]
  },
  {
   "cell_type": "markdown",
   "id": "tamil-chaos",
   "metadata": {},
   "source": [
    "- 拓扑排序\n",
    "拓扑排序（topological sort）是一种常见的，对有向无环图排序的算法。给定有向无环图中的\n",
    "N 个节点，我们把它们排序成一个线性序列；若原图中节点 i 指向节点 j，则排序结果中 i 一定在\n",
    "j 之前。拓扑排序的结果不是唯一的，只要满足以上条件即可。"
   ]
  },
  {
   "cell_type": "code",
   "execution_count": 7,
   "id": "scientific-alignment",
   "metadata": {},
   "outputs": [
    {
     "name": "stdout",
     "output_type": "stream",
     "text": [
      "?????????,?????????dictionaries, ???queue,\n"
     ]
    }
   ],
   "source": [
    "%%script echo 这道题我是想出来了，但是没想到用了两个dictionaries, 和一个queue， \n",
    "%% 还是不够熟练， 但是BFS和topo的算法完全是想出来并且想对了\n",
    "\n",
    "# 210. Course Schedule II\n",
    "from collections import defaultdict, deque\n",
    "class Solution:\n",
    "\n",
    "    def findOrder(self, numCourses, prerequisites):\n",
    "        \"\"\"\n",
    "        :type numCourses: int\n",
    "        :type prerequisites: List[List[int]]\n",
    "        :rtype: List[int]\n",
    "        \"\"\"\n",
    "\n",
    "        # Prepare the graph\n",
    "        adj_list = defaultdict(list)\n",
    "        indegree = {}\n",
    "        for dest, src in prerequisites:\n",
    "            adj_list[src].append(dest)\n",
    "\n",
    "            # Record each node's in-degree\n",
    "            indegree[dest] = indegree.get(dest, 0) + 1\n",
    "\n",
    "        # Queue for maintainig list of nodes that have 0 in-degree\n",
    "        zero_indegree_queue = deque([k for k in range(numCourses) if k not in indegree])\n",
    "        # the above step has take care of the cases like '1 []' or '2 []'\n",
    "        \n",
    "        topological_sorted_order = []\n",
    "\n",
    "        # Until there are nodes in the Q\n",
    "        while zero_indegree_queue:\n",
    "\n",
    "            # Pop one node with 0 in-degree\n",
    "            vertex = zero_indegree_queue.popleft()\n",
    "            topological_sorted_order.append(vertex)\n",
    "\n",
    "            # Reduce in-degree for all the neighbors\n",
    "            if vertex in adj_list:\n",
    "                for neighbor in adj_list[vertex]:\n",
    "                    indegree[neighbor] -= 1\n",
    "\n",
    "                    # Add neighbor to Q if in-degree becomes 0\n",
    "                    if indegree[neighbor] == 0:\n",
    "                        zero_indegree_queue.append(neighbor)\n",
    "        # 这里解决了是否会有cycle in the graph的问题\n",
    "        return topological_sorted_order if len(topological_sorted_order) == numCourses else []"
   ]
  },
  {
   "cell_type": "markdown",
   "id": "piano-directory",
   "metadata": {},
   "source": [
    "## 其他章： 来自室友的题目"
   ]
  },
  {
   "cell_type": "markdown",
   "id": "caroline-upgrade",
   "metadata": {},
   "source": [
    "1. 打家劫舍1，2， 3都已经做完了，在labuladong的帮助下做完的！！在Leetcode 101的动态规划总结中也出现了house robber I 198, 所以就顺理成章的做了所有的,感觉很简单，基本都是自己做出来的，但不能满足，要善于总结！！\n",
    "附上链接: \n",
    "https://mp.weixin.qq.com/s?__biz=MzAxODQxMDM0Mw==&mid=2247484800&idx=1&sn=1016975b9e8df0b8f6df996a5fded0af&chksm=9bd7fb88aca0729eb2d450cca8111abd8f861236b04125ce556171cb520e298ddec4d90823b3&scene=21#wechat_redirect"
   ]
  },
  {
   "cell_type": "code",
   "execution_count": 34,
   "id": "improving-vintage",
   "metadata": {},
   "outputs": [
    {
     "name": "stdout",
     "output_type": "stream",
     "text": [
      "House Robber I/II/III\n"
     ]
    }
   ],
   "source": [
    "%%script echo House Robber I/II/III\n",
    "#198, 213, 337\n",
    "\n",
    "# 198 I\n",
    "class Solution:\n",
    "    def rob(self, nums: List[int]) -> int:\n",
    "        if nums == []:\n",
    "            return 0\n",
    "        if len(nums) == 1:\n",
    "            return nums[0]\n",
    "        if len(nums) == 2:\n",
    "            return max(nums[0], nums[1])\n",
    "            \n",
    "        \n",
    "        if len(nums) >= 3:\n",
    "            dp = [nums[0], nums[1], nums[2] + nums[0]]\n",
    "            for i in range(3, len(nums)):\n",
    "                dp.append(nums[i] + max(dp[i - 2], dp[i - 3]))\n",
    "        \n",
    "        return(max(dp))\n",
    "\n",
    "#213 II\n",
    "class Solution:\n",
    "    def rob(self, nums: List[int]) -> int:\n",
    "        if nums == []:\n",
    "            return 0\n",
    "        if len(nums) == 1:\n",
    "            return nums[0]\n",
    "        if len(nums) == 2:\n",
    "            return max(nums[0], nums[1])\n",
    "        \n",
    "        if len(nums) >= 3:\n",
    "            ans = []\n",
    "            # ans.append(self.rob_helper(nums[1:len(nums)-1]))\n",
    "            ans.append(self.rob_helper(nums[:len(nums) - 1]))\n",
    "            ans.append(self.rob_helper(nums[1:len(nums)]))\n",
    "            return max(ans)\n",
    "        \n",
    "    def rob_helper(self, nums: List[int]) -> int:\n",
    "        if nums == []:\n",
    "            return 0\n",
    "        if len(nums) == 1:\n",
    "            return nums[0]\n",
    "        if len(nums) == 2:\n",
    "            return max(nums[0], nums[1])\n",
    "            \n",
    "        \n",
    "        if len(nums) >= 3:\n",
    "            dp = [nums[0], nums[1], nums[2] + nums[0]]\n",
    "            for i in range(3, len(nums)):\n",
    "                dp.append(nums[i] + max(dp[i - 2], dp[i - 3]))\n",
    "        \n",
    "        return(max(dp))\n",
    "\n",
    "#337 III\n",
    "# Definition for a binary tree node.\n",
    "# class TreeNode:\n",
    "#     def __init__(self, val=0, left=None, right=None):\n",
    "#         self.val = val\n",
    "#         self.left = left\n",
    "#         self.right = right\n",
    "class Solution:\n",
    "    def rob(self, root: TreeNode) -> int:\n",
    "        memo = {}\n",
    "        \n",
    "        if root is None:\n",
    "            return 0;\n",
    "        \n",
    "        if root in memo:\n",
    "            return memo.get(root);\n",
    "        rob, not_rob = 0, 0\n",
    "        \n",
    "        \n",
    "        rob = root.val + rob(root.left.left) + rob(root.left.right) + rob(root.right.left) + rob(root.right.right)\n",
    "        \n",
    "        \n",
    "        \n",
    "        not_rob = rob(root.left) + rob(root.right)\n",
    "        res = max(rob, not_rob)\n",
    "        memo[root] = res\n",
    "        return max(rob, not_rob)"
   ]
  },
  {
   "cell_type": "markdown",
   "id": "dried-amateur",
   "metadata": {},
   "source": [
    "# 其他章2： Trie"
   ]
  },
  {
   "cell_type": "code",
   "execution_count": 8,
   "id": "brief-batch",
   "metadata": {},
   "outputs": [],
   "source": [
    "# design a Trie \n",
    "# 208. Implement Trie (Prefix Tree)\n",
    "class Trie:\n",
    "    def __init__(self):\n",
    "        self.root = {}\n",
    "    \n",
    "\n",
    "    def insert(self, word):\n",
    "        p = self.root #相当于dummy root\n",
    "        for char in word:            \n",
    "            if char not in p: \n",
    "                p[char] = {}\n",
    "            p = p[char] #进入下一层\n",
    "        p['#'] = True\n",
    "     #insert两个单词完之后，{a:{p:{p:{l:{e:{#: True}}}, [#:](https://leetcode.com/problems/friend-requests-i-overall-acceptance-rate) True}}} \n",
    "\n",
    "    def search(self, word):\n",
    "        node = self.find(word)\n",
    "        return node is not None and '#' in node #所以当word=app,进来是{l:{e:{#:True}}, #:True}，返回True\n",
    "\n",
    "\n",
    "    def startsWith(self, prefix):\n",
    "        return self.find(prefix) is not None\n",
    "\n",
    "    def find(self, prefix):\n",
    "        p = self.root\n",
    "        for char in prefix:            \n",
    "            if char not in p: return None\n",
    "            p = p[char] #进入下一层\n",
    "        return p #比如进来是app, 那么这里p就是{l:{e:{#:True}}, #:True}\n",
    "\n",
    "\n",
    "# Your Trie object will be instantiated and called as such:\n",
    "# obj = Trie()\n",
    "# obj.insert(word)\n",
    "# param_2 = obj.search(word)\n",
    "# param_3 = obj.startsWith(prefix)"
   ]
  },
  {
   "cell_type": "code",
   "execution_count": null,
   "id": "therapeutic-labor",
   "metadata": {},
   "outputs": [],
   "source": [
    "# using Trie to solve problems!\n",
    "# 720. Longest Word in Dictionary\n"
   ]
  },
  {
   "cell_type": "code",
   "execution_count": null,
   "id": "third-wireless",
   "metadata": {},
   "outputs": [],
   "source": [
    "\n"
   ]
  },
  {
   "cell_type": "markdown",
   "id": "narrative-slave",
   "metadata": {},
   "source": [
    "# 其他章3 segment Tree"
   ]
  },
  {
   "cell_type": "code",
   "execution_count": 10,
   "id": "average-absolute",
   "metadata": {},
   "outputs": [
    {
     "name": "stdout",
     "output_type": "stream",
     "text": [
      "https://leetcode.com/discuss/interview-question/901091/how-to-write-an-efficient-solution-for-this-challenge-portfolio-balances-hackerrank\n"
     ]
    }
   ],
   "source": [
    "%%script echo https://leetcode.com/discuss/interview-question/901091/how-to-write-an-efficient-solution-for-this-challenge-portfolio-balances-hackerrank\n",
    "# 简历segment tree, one of the field is max, only have build and update method is enough"
   ]
  },
  {
   "cell_type": "code",
   "execution_count": 10,
   "id": "middle-winner",
   "metadata": {},
   "outputs": [
    {
     "name": "stdout",
     "output_type": "stream",
     "text": [
      "\n"
     ]
    }
   ],
   "source": [
    "%%script echo\n",
    "# For the build up segment trees\n",
    "Class SegmentTreeNode:\n",
    "    def __init__(self, start, end, vals):\n",
    "        self.start = 0\n",
    "        self.end = len(vals)\n",
    "        self.maxElement = 0\n",
    "        self.SegmentTreeNode left\n",
    "        self.SegmentTreeNode right\n",
    "\n",
    "def buildTree(start, end, vals):\n",
    "    if start == end:\n",
    "        return SegmentTreeNode(start, end, vals[start])\n",
    "    mid = (start + end) // 2\n",
    "    left = buildTree(start, mid, vals)\n",
    "    right = buildTree(mid + 1, end, vals)\n",
    "    return SegmentTreeNode(start, end, left.max + right.max, )"
   ]
  },
  {
   "cell_type": "code",
   "execution_count": 9,
   "id": "distinguished-tourism",
   "metadata": {},
   "outputs": [
    {
     "name": "stdout",
     "output_type": "stream",
     "text": [
      "\n"
     ]
    }
   ],
   "source": [
    "%%script echo\n",
    "def getModifiedArray(length, updates):\n",
    "            result = [0 for _ in range(length + 1)]\n",
    "#             print(result)\n",
    "            for start, end, inc in updates:\n",
    "                result[start] += inc\n",
    "                result[end + 1] -= inc\n",
    "#                 print(\"!!\", result)\n",
    "            \n",
    "            for i in range(1, len(result)):\n",
    "                result[i] += result[i - 1]\n",
    "#                 print(\"@@\", result)\n",
    "            return result[:-1]\n",
    "\n",
    "# tests\n",
    "updates = [[1,2,10], [2,4,5], [3,5,12]]\n",
    "print(getModifiedArray(5, updates))"
   ]
  },
  {
   "cell_type": "code",
   "execution_count": null,
   "id": "advisory-ceiling",
   "metadata": {},
   "outputs": [],
   "source": []
  },
  {
   "cell_type": "markdown",
   "id": "liberal-brisbane",
   "metadata": {},
   "source": [
    "# 3: 如何设计python 的类？"
   ]
  },
  {
   "cell_type": "markdown",
   "id": "express-foster",
   "metadata": {},
   "source": [
    "- Class's mehods\n",
    "Reading from Building Python Programs by Stuarts Reges\n",
    "\n",
    "1. \\__init__\n",
    "2. \\__eq__\n",
    "3. \\__hash__\n",
    "4. \\__str__ : can be called with the conversion function 'str()'"
   ]
  },
  {
   "cell_type": "code",
   "execution_count": 11,
   "id": "opposite-payroll",
   "metadata": {},
   "outputs": [
    {
     "name": "stdout",
     "output_type": "stream",
     "text": [
      "\n"
     ]
    }
   ],
   "source": [
    "%%script echo\n",
    "# 155. Min Stack\n",
    "class MinStack:\n",
    "\n",
    "    def __init__(self):\n",
    "        \"\"\"\n",
    "        initialize your data structure here.\n",
    "        \"\"\"\n",
    "        self.stack = []\n",
    "        \n",
    "\n",
    "    def push(self, x: int) -> None:\n",
    "        # if the stack is empty, then the min value\n",
    "        # must just be the first value we add\n",
    "        if not self.stack:\n",
    "            self.stack.append((x,x))\n",
    "            return \n",
    "        current_min = self.stack[-1][1]\n",
    "        self.stack.append((x, min(x, current_min)))\n",
    "        \n",
    "        \n",
    "    def pop(self) -> None:\n",
    "        self.stack.pop()\n",
    "        \n",
    "        \n",
    "\n",
    "    def top(self) -> int:\n",
    "        return self.stack[-1][0]\n",
    "\n",
    "    def getMin(self) -> int:\n",
    "        return self.stack[-1][1]\n",
    "        \n",
    "\n",
    "\n",
    "# Your MinStack object will be instantiated and called as such:\n",
    "# obj = MinStack()\n",
    "# obj.push(val)\n",
    "# obj.pop()\n",
    "# param_3 = obj.top()\n",
    "# param_4 = obj.getMin()"
   ]
  },
  {
   "cell_type": "markdown",
   "id": "suffering-graphics",
   "metadata": {},
   "source": [
    "# Recursion boot camp!\n",
    "- link: https://medium.com/@daniel.oliver.king/getting-started-with-recursion-f89f57c5b60e#id_token=eyJhbGciOiJSUzI1NiIsImtpZCI6IjEzZThkNDVhNDNjYjIyNDIxNTRjN2Y0ZGFmYWMyOTMzZmVhMjAzNzQiLCJ0eXAiOiJKV1QifQ.eyJpc3MiOiJodHRwczovL2FjY291bnRzLmdvb2dsZS5jb20iLCJuYmYiOjE2MTcyNTQ4NTYsImF1ZCI6IjIxNjI5NjAzNTgzNC1rMWs2cWUwNjBzMnRwMmEyamFtNGxqZGNtczAwc3R0Zy5hcHBzLmdvb2dsZXVzZXJjb250ZW50LmNvbSIsInN1YiI6IjEwNTg1NjQ3OTk0Nzc5MzA0MjY2NyIsImhkIjoidXcuZWR1IiwiZW1haWwiOiJseWY5OUB1dy5lZHUiLCJlbWFpbF92ZXJpZmllZCI6dHJ1ZSwiYXpwIjoiMjE2Mjk2MDM1ODM0LWsxazZxZTA2MHMydHAyYTJqYW00bGpkY21zMDBzdHRnLmFwcHMuZ29vZ2xldXNlcmNvbnRlbnQuY29tIiwibmFtZSI6Ill1YW5mZW5nIExpIiwicGljdHVyZSI6Imh0dHBzOi8vbGgzLmdvb2dsZXVzZXJjb250ZW50LmNvbS9hLS9BT2gxNEdpOVR5YTdqclhJZXpiQ2MtOXduQkdCQXk5MzdFTGc4clRVNTRfeD1zOTYtYyIsImdpdmVuX25hbWUiOiJZdWFuZmVuZyIsImZhbWlseV9uYW1lIjoiTGkiLCJpYXQiOjE2MTcyNTUxNTYsImV4cCI6MTYxNzI1ODc1NiwianRpIjoiYmM2NmI4NjJkMmViODBiNDk2Yzc3Yjg4NWFlODdiNGNhMDdhNDM5NyJ9.DDlJ8-FYWYala5UwuayesEbvy4xGUGxvOGvG8TlO3mxQLHSPmviY-iDMjaV2ndVOgnZkrw0WgAEpp2claQI1XVK5zxpVPuP63arRJX8oU5hZM0q52yfp9AMjx3SHWvm6H7DmXktQyq-HzgQtxO8VkiTaNHp-mbQDkqGjOCo6LBK1KwszWHXQujENbTGR21CPv8C_ya4sB9fUSVYMYo-ogrx4dFIAs1zymbnaNK6vrrTm1Rw5w7UJwYIKw8w-dTa-bXdb3hk_zoPci4N2mbu68VbrLJXnb6VbQM3PKASdu_0-fmF_FAJ782dyX3yJuBrpemgEMK2TCRjtEVpV_LO-JA"
   ]
  },
  {
   "cell_type": "code",
   "execution_count": 10,
   "id": "athletic-ordinary",
   "metadata": {},
   "outputs": [
    {
     "name": "stdout",
     "output_type": "stream",
     "text": [
      "apple"
     ]
    }
   ],
   "source": [
    "# recuion practice1:\n",
    "# Go through an array and print out all of the elements\n",
    "# can not use for/ other loops\n",
    "def print_recurse(string):\n",
    "    # base case\n",
    "    if len(string) < 2:\n",
    "        print(string, end=\"\")\n",
    "    else:\n",
    "        print_recurse(string[0])\n",
    "        print_recurse(string[1:]) \n",
    "print_recurse(\"apple\")"
   ]
  },
  {
   "cell_type": "code",
   "execution_count": 11,
   "id": "raising-floating",
   "metadata": {},
   "outputs": [
    {
     "name": "stdout",
     "output_type": "stream",
     "text": [
      "elppa\n"
     ]
    }
   ],
   "source": [
    "# reverse with recursion without iterate!!\n",
    "def reverse_recursion(string):\n",
    "    # base case\n",
    "    if len(string) < 2:\n",
    "        return string\n",
    "    else:\n",
    "        return reverse_recursion(string[1:]) + string[0]\n",
    "a = \"apple\"\n",
    "print(reverse_recursion(a))"
   ]
  },
  {
   "cell_type": "code",
   "execution_count": 13,
   "id": "flying-channel",
   "metadata": {},
   "outputs": [
    {
     "name": "stdout",
     "output_type": "stream",
     "text": [
      "True\n",
      "False\n"
     ]
    }
   ],
   "source": [
    "# Determine whether or not a string is a palindrome\n",
    "a = \"abba\" # should return true\n",
    "def isPalin(string):\n",
    "    # base case\n",
    "    if len(string) < 2:\n",
    "        return True\n",
    "    elif string[0] == string[-1]:\n",
    "        return isPalin(string[1:len(string) - 1])\n",
    "    else:\n",
    "        return False\n",
    "print(isPalin(a))\n",
    "print(isPalin(\"abc\"))"
   ]
  },
  {
   "cell_type": "code",
   "execution_count": 14,
   "id": "treated-alliance",
   "metadata": {},
   "outputs": [
    {
     "name": "stdout",
     "output_type": "stream",
     "text": [
      "Couldn't find program: 'echo'\n"
     ]
    }
   ],
   "source": [
    "%%script echo\n",
    "#199 very good recursion problem!\n",
    "https://leetcode.com/problems/binary-tree-right-side-view/submissions/\n",
    "    # Definition for a binary tree node.\n",
    "# class TreeNode:\n",
    "#     def __init__(self, val=0, left=None, right=None):\n",
    "#         self.val = val\n",
    "#         self.left = left\n",
    "#         self.right = right\n",
    "class Solution(object):\n",
    "    def rightSideView(self, root):\n",
    "        \"\"\"\n",
    "        :type root: TreeNode\n",
    "        :rtype: List[int]\n",
    "        \"\"\"\n",
    "        # base case\n",
    "        if not root:\n",
    "            return []\n",
    "        # recursive case\n",
    "        else:\n",
    "            left = self.rightSideView(root.left)\n",
    "            right = self.rightSideView(root.right)\n",
    "            if len(right) >= len(left):\n",
    "                return [root.val] + right\n",
    "            else:\n",
    "                return [root.val] + right + left[len(right):]"
   ]
  },
  {
   "cell_type": "markdown",
   "id": "cloudy-trunk",
   "metadata": {},
   "source": [
    "### 跟着labuladong恢复的第一道题、通过二叉树锻炼recursion"
   ]
  },
  {
   "cell_type": "code",
   "execution_count": 2,
   "id": "viral-password",
   "metadata": {},
   "outputs": [
    {
     "name": "stdout",
     "output_type": "stream",
     "text": [
      "\n"
     ]
    }
   ],
   "source": [
    "%%script echo\n",
    "#106 # Definition for a binary tree node.\n",
    "# class TreeNode:\n",
    "#     def __init__(self, val=0, left=None, right=None):\n",
    "#         self.val = val\n",
    "#         self.left = left\n",
    "#         self.right = right\n",
    "class Solution:\n",
    "    def buildTree(self, inorder: List[int], postorder: List[int]) -> TreeNode:\n",
    "        n  = len(inorder)\n",
    "        if n == 1:\n",
    "            return TreeNode(inorder[0])\n",
    "        n_post = len(postorder)\n",
    "        if n_post == 1:\n",
    "            return TreeNode(postorder[0])\n",
    "        \n",
    "        if n > 1 and n_post > 1:\n",
    "            root_val = postorder[-1]\n",
    "            root = TreeNode(postorder[-1])\n",
    "            root_left_list = inorder[:inorder.index(root_val)]\n",
    "            root_left_post = postorder[:len(root_left_list)]\n",
    "\n",
    "            root_right_list = inorder[inorder.index(root_val) + 1:]\n",
    "            root_right_post = postorder[len(root_left_list):-1]\n",
    "\n",
    "\n",
    "            root.left = self.buildTree(root_left_list, root_left_post)\n",
    "            root.right = self.buildTree(root_right_list, root_right_post)\n",
    "            return root\n",
    "        \n",
    "# 显而易见，应该有更简洁，更快速和显而易见的写法。但是目前为止丐中丐第一版就用这个吧。 更高阶的将在以后的复习版本中重生！"
   ]
  },
  {
   "cell_type": "code",
   "execution_count": null,
   "id": "induced-smell",
   "metadata": {},
   "outputs": [],
   "source": [
    "# 652 题, 难题。\n",
    "# Definition for a binary tree node.\n",
    "# class TreeNode:\n",
    "#     def __init__(self, val=0, left=None, right=None):\n",
    "#         self.val = val\n",
    "#         self.left = left\n",
    "#         self.right = right\n",
    "class Solution:\n",
    "    def __init__(self, memo={}, res = []):\n",
    "        self.memo = memo\n",
    "        self.res = res\n",
    "    \n",
    "    def findDuplicateSubtrees(self, root: TreeNode) -> List[TreeNode]:\n",
    "        self.traverse(root)\n",
    "        return self.res\n",
    "    \n",
    "    def traverse(self, root):\n",
    "        if not root:\n",
    "            return None\n",
    "        \n",
    "        left = self.traverse(root.left)\n",
    "        right = self.traverse(root.right)\n",
    "        \n",
    "        subTree = str(left) + \",\" + str(right) + \",\" + str(root.val)\n",
    "        \n",
    "        if subTree not in self.memo:\n",
    "            self.memo[subTree] = 0\n",
    "        freq = self.memo.get(subTree)\n",
    "        if freq == 1:\n",
    "            self.res.append(root)\n",
    "        self.memo[subTree] += 1\n",
    "        return subTree\n",
    "\n",
    "    # Definition for a binary tree node.\n",
    "# class TreeNode:\n",
    "#     def __init__(self, val=0, left=None, right=None):\n",
    "#         self.val = val\n",
    "#         self.left = left\n",
    "#         self.right = right\n",
    "class Solution:\n",
    "    def findDuplicateSubtrees(self, root: TreeNode) -> List[TreeNode]:\n",
    "        memo = {}\n",
    "        res = []\n",
    "        self.traverse(root, memo, res)\n",
    "        return res\n",
    "    \n",
    "    def traverse(self, root, memo, res):\n",
    "        if not root:\n",
    "            return None\n",
    "        \n",
    "        left = self.traverse(root.left, memo, res)\n",
    "        right = self.traverse(root.right, memo, res)\n",
    "        \n",
    "        subTree = str(left) + \",\" + str(right) + \",\" + str(root.val)\n",
    "        \n",
    "        if subTree not in memo:\n",
    "            memo[subTree] = 0\n",
    "        freq = memo.get(subTree)\n",
    "        if freq == 1:\n",
    "            res.append(root)\n",
    "        memo[subTree] += 1\n",
    "        return subTree\n",
    "        \n",
    "        \n",
    "        "
   ]
  },
  {
   "cell_type": "code",
   "execution_count": null,
   "id": "soviet-january",
   "metadata": {},
   "outputs": [],
   "source": []
  },
  {
   "cell_type": "markdown",
   "id": "amazing-synthesis",
   "metadata": {},
   "source": [
    "## binary search tree"
   ]
  },
  {
   "cell_type": "code",
   "execution_count": null,
   "id": "compressed-township",
   "metadata": {},
   "outputs": [],
   "source": [
    "# 230:\n",
    "# my thought\n",
    "class Solution:\n",
    "    def kthSmallest(self, root: TreeNode, k: int) -> int:\n",
    "        ans = []\n",
    "        self.traverse(root, ans)\n",
    "        return sorted(ans)[k - 1]\n",
    "    \n",
    "    \n",
    "    def traverse(self,root,ans):\n",
    "        \"\"\"\n",
    "        \n",
    "        \"\"\"\n",
    "        if not root:\n",
    "            return\n",
    "        \n",
    "        ans.append(root.val)\n",
    "        self.traverse(root.left, ans)\n",
    "        self.traverse(root.right, ans)\n",
    "        \n",
    "\"\"\"\n",
    "Runtime: 60 ms, faster than 14.01% of Python3 online submissions for Kth Smallest Element in a BST.\n",
    "Memory Usage: 18 MB, less than 53.52% of Python3 online submissions for Kth Smallest Element in a BST.\n",
    "\"\"\""
   ]
  },
  {
   "cell_type": "code",
   "execution_count": 6,
   "id": "inside-appreciation",
   "metadata": {},
   "outputs": [
    {
     "name": "stdout",
     "output_type": "stream",
     "text": [
      "0\n"
     ]
    }
   ],
   "source": [
    "# tests\n",
    "a = [1,3,2,4,5,7,4,0]\n",
    "print(sorted(a)[0])"
   ]
  },
  {
   "cell_type": "code",
   "execution_count": 7,
   "id": "sacred-copper",
   "metadata": {},
   "outputs": [],
   "source": [
    "# 538 #1038 are the same quesion: and plz tell me, how the fuck \n",
    "# is the recursion thiking working?? tell me\n",
    "# Definition for a binary tree node.\n",
    "# class TreeNode:\n",
    "#     def __init__(self, val=0, left=None, right=None):\n",
    "#         self.val = val\n",
    "#         self.left = left\n",
    "#         self.right = right\n",
    "class Solution(object):\n",
    "    def __init__(self):\n",
    "        self.total = 0\n",
    "\n",
    "    def convertBST(self, root):\n",
    "#         if root is not None:\n",
    "        if root:\n",
    "            self.convertBST(root.right)\n",
    "            self.total += root.val\n",
    "            root.val = self.total\n",
    "            self.convertBST(root.left)\n",
    "        return root\n",
    "    \n",
    "# you can also wright it like this!\n",
    "class Solution(object):\n",
    "    def __init__(self):\n",
    "        self.total = 0\n",
    "\n",
    "    def convertBST(self, root):\n",
    "        if not root:\n",
    "            return root\n",
    "        self.convertBST(root.right)\n",
    "        self.total += root.val\n",
    "        root.val = self.total\n",
    "        self.convertBST(root.left)\n",
    "        return root\n",
    "\n",
    "'''\n",
    "虽然做出来了，但是我到现在也想不明白，为什么这样是可以的！！！？？\n",
    "recursion真的是非常魔性了\n",
    "\n",
    "'''"
   ]
  },
  {
   "cell_type": "code",
   "execution_count": null,
   "id": "mobile-picnic",
   "metadata": {},
   "outputs": [],
   "source": []
  },
  {
   "cell_type": "markdown",
   "id": "blank-click",
   "metadata": {},
   "source": [
    "# Quick Select:\n"
   ]
  },
  {
   "cell_type": "code",
   "execution_count": null,
   "id": "hawaiian-studio",
   "metadata": {},
   "outputs": [],
   "source": [
    "# 347. Top K Frequent Elements"
   ]
  },
  {
   "cell_type": "code",
   "execution_count": null,
   "id": "ideal-headline",
   "metadata": {},
   "outputs": [],
   "source": []
  },
  {
   "cell_type": "markdown",
   "id": "circular-constant",
   "metadata": {},
   "source": [
    "# 做过的OA，没有解决出来的问题："
   ]
  },
  {
   "cell_type": "markdown",
   "id": "residential-flashing",
   "metadata": {},
   "source": [
    "Akuna Capital：\n",
    "- https://leetcode.com/discuss/interview-question/810154/binary-autocomplete\n",
    "\n"
   ]
  },
  {
   "cell_type": "markdown",
   "id": "multiple-display",
   "metadata": {},
   "source": [
    "SnowFlake:\n",
    "- "
   ]
  },
  {
   "cell_type": "markdown",
   "id": "matched-spyware",
   "metadata": {},
   "source": []
  },
  {
   "cell_type": "markdown",
   "id": "architectural-fairy",
   "metadata": {},
   "source": [
    "# 新增版本\n",
    "1. 速刷基础知识点类型题目\n",
    "2. 系列题目"
   ]
  },
  {
   "cell_type": "markdown",
   "id": "confidential-guinea",
   "metadata": {},
   "source": [
    "#### 速刷题目\n",
    "199. Binary Tree Right Side View (recursion!! + tree)\n",
    "210. Course Schedule II (BFS, hashmap, topological)\n"
   ]
  },
  {
   "cell_type": "code",
   "execution_count": null,
   "id": "occupied-blade",
   "metadata": {},
   "outputs": [],
   "source": []
  },
  {
   "cell_type": "code",
   "execution_count": null,
   "id": "current-cisco",
   "metadata": {},
   "outputs": [],
   "source": []
  },
  {
   "cell_type": "code",
   "execution_count": null,
   "id": "twelve-sphere",
   "metadata": {},
   "outputs": [],
   "source": []
  },
  {
   "cell_type": "markdown",
   "id": "rough-falls",
   "metadata": {},
   "source": [
    "#### 系列题目\n",
    "\n",
    "1. House Robber \n",
    "2. Course Schedule\n",
    "3. Stock Price\n",
    "4. search in rotated Sorted Array II (33, 81) + (153, 154)"
   ]
  },
  {
   "attachments": {
    "image.png": {
     "image/png": "[encoded data removed]"
    }
   },
   "cell_type": "markdown",
   "id": "fresh-chair",
   "metadata": {},
   "source": [
    "# Leetcode 102 - Python 丐中丐版本总结\n",
    "日期： \n",
    "\n",
    "1. 倒数第三天\n",
    "03/31/2021 - \n",
    "\n",
    "从03/14/2021 开始的这18天，你能看到的深绿色的几乎都是每天刷了至少5到新题，昨天其实总共大概刷了，10道左右但是有旧题在里边所以就没有显示出来。\n",
    "![image.png](attachment:image.png)\n",
    "\n",
    "总共刷了40 道题，从165 --》205道，有点小激动，但更多的是迷惑与不解。\n",
    "双指针，滑动窗口，greedy已经有一定的信心了，\n",
    "**但是二维动规，背包问题，DFS，recursion, backtracking, tree's recursion, Trie依然是我心中的噩梦。现在不看答案根本写不出来！！** 到底如何能把recursion和动态规划了然于心，下笔如有神呢？"
   ]
  },
  {
   "cell_type": "markdown",
   "id": "active-chemistry",
   "metadata": {},
   "source": [
    "2. 04/02/2021\n",
    "\n",
    "今天是第一遍的最后一天 花了两周 10 天总共刷了50 道比较经典的题目，但是依然有不是很会的题目，重点还是**动态规划， recursion, Trie**。 今天还是会刷一下经典的股票问题。__二分查找，和排序算法__并没有写进去。"
   ]
  },
  {
   "cell_type": "code",
   "execution_count": null,
   "id": "subjective-poland",
   "metadata": {},
   "outputs": [],
   "source": []
  },
  {
   "cell_type": "markdown",
   "id": "prime-surfing",
   "metadata": {},
   "source": [
    "# 第二遍的期望\n",
    "\n",
    "1. 动态规划的时候用edit distance, 还有stock price 的六道题再来练一练\n",
    "2. 先把之前做过的题目好好的复习，然后做做底下的练习！"
   ]
  },
  {
   "cell_type": "markdown",
   "id": "alpha-organ",
   "metadata": {},
   "source": []
  },
  {
   "cell_type": "code",
   "execution_count": null,
   "id": "greater-stewart",
   "metadata": {},
   "outputs": [],
   "source": []
  },
  {
   "cell_type": "markdown",
   "id": "failing-convenience",
   "metadata": {},
   "source": [
    "# 令人惊艳的可简化题目：\n",
    "1. couting bits (using dp, and bit wise manipulation)"
   ]
  },
  {
   "cell_type": "code",
   "execution_count": null,
   "id": "statistical-relative",
   "metadata": {},
   "outputs": [],
   "source": []
  },
  {
   "cell_type": "code",
   "execution_count": null,
   "id": "obvious-alpha",
   "metadata": {},
   "outputs": [],
   "source": []
  },
  {
   "cell_type": "markdown",
   "id": "greatest-awareness",
   "metadata": {},
   "source": [
    "# 巧用python class 属性\n"
   ]
  },
  {
   "cell_type": "code",
   "execution_count": null,
   "id": "sharp-korea",
   "metadata": {},
   "outputs": [],
   "source": [
    "# 问题：\n",
    "class Solution: \n",
    "    a = []\n",
    "    b = {}\n",
    "    # question1: what are a and b? are they fields? are they attributes of\n",
    "    # the class?\n",
    "    \n",
    "    def __init__(self, c=0, d=[]):\n",
    "        self.c = c\n",
    "        self.d = d\n",
    "        \n",
    "    # what are c and d doing here? \n",
    "    # what is __init__? is this the same thing in Java's Constructor??\n",
    "    \n",
    "    def apply(self, target_nums):\n",
    "        # TODO:\n",
    "        \n",
    "        # can you do a.append(target_nums[0]) here?\n",
    "        # can you do d.append(target_nums[0]) here? \n",
    "        \n",
    "        # will a and b change for different objects?\n",
    "        # will c and d change for different objects/instances?\n",
    "        "
   ]
  }
 ],
 "metadata": {
  "kernelspec": {
   "display_name": "Python 3",
   "language": "python",
   "name": "python3"
  },
  "language_info": {
   "codemirror_mode": {
    "name": "ipython",
    "version": 3
   },
   "file_extension": ".py",
   "mimetype": "text/x-python",
   "name": "python",
   "nbconvert_exporter": "python",
   "pygments_lexer": "ipython3",
   "version": "3.7.10"
  }
 },
 "nbformat": 4,
 "nbformat_minor": 5
}
